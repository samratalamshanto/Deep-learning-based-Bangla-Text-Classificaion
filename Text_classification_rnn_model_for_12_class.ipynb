{
  "nbformat": 4,
  "nbformat_minor": 0,
  "metadata": {
    "kernelspec": {
      "language": "python",
      "display_name": "Python 3",
      "name": "python3"
    },
    "language_info": {
      "name": "python",
      "version": "3.7.10",
      "mimetype": "text/x-python",
      "codemirror_mode": {
        "name": "ipython",
        "version": 3
      },
      "pygments_lexer": "ipython3",
      "nbconvert_exporter": "python",
      "file_extension": ".py"
    },
    "colab": {
      "name": "Text classification rnn model for 12 class.ipynb",
      "provenance": [],
      "collapsed_sections": []
    },
    "accelerator": "GPU"
  },
  "cells": [
    {
      "cell_type": "code",
      "metadata": {
        "id": "NZxIEppKsEkN",
        "colab": {
          "resources": {
            "http://localhost:8080/nbextensions/google.colab/files.js": {
              "data": "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",
              "ok": true,
              "headers": [
                [
                  "content-type",
                  "application/javascript"
                ]
              ],
              "status": 200,
              "status_text": ""
            }
          },
          "base_uri": "https://localhost:8080/",
          "height": 248
        },
        "outputId": "4d611569-c936-4aee-a80d-971b6497b590"
      },
      "source": [
        "\n",
        "\n",
        "!pip install kaggle\n",
        "from google.colab import files \n",
        "#files.open('/content/drive/MyDrive/Colab Notebooks/json kaggle')\n",
        "files.upload() #download and upload json file\n",
        "\n",
        "\n",
        "\n",
        "!mkdir -p ~/.kaggle\n",
        "!cp kaggle.json ~/.kaggle/\n",
        "\n",
        "!chmod 600 ~/.kaggle/kaggle.json"
      ],
      "execution_count": null,
      "outputs": [
        {
          "output_type": "stream",
          "text": [
            "Requirement already satisfied: kaggle in /usr/local/lib/python3.7/dist-packages (1.5.12)\n",
            "Requirement already satisfied: certifi in /usr/local/lib/python3.7/dist-packages (from kaggle) (2021.5.30)\n",
            "Requirement already satisfied: requests in /usr/local/lib/python3.7/dist-packages (from kaggle) (2.23.0)\n",
            "Requirement already satisfied: tqdm in /usr/local/lib/python3.7/dist-packages (from kaggle) (4.41.1)\n",
            "Requirement already satisfied: six>=1.10 in /usr/local/lib/python3.7/dist-packages (from kaggle) (1.15.0)\n",
            "Requirement already satisfied: urllib3 in /usr/local/lib/python3.7/dist-packages (from kaggle) (1.24.3)\n",
            "Requirement already satisfied: python-slugify in /usr/local/lib/python3.7/dist-packages (from kaggle) (5.0.2)\n",
            "Requirement already satisfied: python-dateutil in /usr/local/lib/python3.7/dist-packages (from kaggle) (2.8.1)\n",
            "Requirement already satisfied: idna<3,>=2.5 in /usr/local/lib/python3.7/dist-packages (from requests->kaggle) (2.10)\n",
            "Requirement already satisfied: chardet<4,>=3.0.2 in /usr/local/lib/python3.7/dist-packages (from requests->kaggle) (3.0.4)\n",
            "Requirement already satisfied: text-unidecode>=1.3 in /usr/local/lib/python3.7/dist-packages (from python-slugify->kaggle) (1.3)\n"
          ],
          "name": "stdout"
        },
        {
          "output_type": "display_data",
          "data": {
            "text/html": [
              "\n",
              "     <input type=\"file\" id=\"files-3331943f-27c3-42db-bb4e-5484d2906a3b\" name=\"files[]\" multiple disabled\n",
              "        style=\"border:none\" />\n",
              "     <output id=\"result-3331943f-27c3-42db-bb4e-5484d2906a3b\">\n",
              "      Upload widget is only available when the cell has been executed in the\n",
              "      current browser session. Please rerun this cell to enable.\n",
              "      </output>\n",
              "      <script src=\"/nbextensions/google.colab/files.js\"></script> "
            ],
            "text/plain": [
              "<IPython.core.display.HTML object>"
            ]
          },
          "metadata": {
            "tags": []
          }
        },
        {
          "output_type": "stream",
          "text": [
            "Saving kaggle.json to kaggle.json\n"
          ],
          "name": "stdout"
        }
      ]
    },
    {
      "cell_type": "code",
      "metadata": {
        "id": "p1qlXqzisFxs",
        "colab": {
          "base_uri": "https://localhost:8080/"
        },
        "outputId": "9a99511d-13cf-4409-d245-c1137e86ced0"
      },
      "source": [
        "!kaggle datasets download -d samratalam/stemmed-20-times-dataset"
      ],
      "execution_count": null,
      "outputs": [
        {
          "output_type": "stream",
          "text": [
            "Downloading stemmed-20-times-dataset.zip to /content\n",
            " 79% 49.0M/62.2M [00:00<00:00, 242MB/s]\n",
            "100% 62.2M/62.2M [00:00<00:00, 247MB/s]\n"
          ],
          "name": "stdout"
        }
      ]
    },
    {
      "cell_type": "code",
      "metadata": {
        "id": "PttD-dBTsF1V",
        "colab": {
          "base_uri": "https://localhost:8080/"
        },
        "outputId": "fd719b8b-044d-4aea-b94a-2893202352ef"
      },
      "source": [
        "#to unzip file\n",
        "\n",
        "from zipfile import ZipFile\n",
        "file_name= \"stemmed-20-times-dataset.zip\"\n",
        "\n",
        "with ZipFile(file_name ,'r') as zip:\n",
        "  zip.extractall()\n",
        "  print('Done')"
      ],
      "execution_count": null,
      "outputs": [
        {
          "output_type": "stream",
          "text": [
            "Done\n"
          ],
          "name": "stdout"
        }
      ]
    },
    {
      "cell_type": "code",
      "metadata": {
        "papermill": {
          "duration": 8.634984,
          "end_time": "2020-08-29T09:36:24.626494",
          "exception": false,
          "start_time": "2020-08-29T09:36:15.99151",
          "status": "completed"
        },
        "tags": [],
        "trusted": true,
        "id": "CsrHQU7xmVkK"
      },
      "source": [
        "import pandas as pd\n",
        "from pandas import read_excel\n",
        "import numpy as np\n",
        "import re\n",
        "from re import sub\n",
        "import multiprocessing\n",
        "#from unidecode import unidecode\n",
        "import os\n",
        "from time import time \n",
        "import tensorflow as tf\n",
        "import keras\n",
        "from keras.models import Sequential\n",
        "from keras.layers import LSTM,Dense,Dropout,Activation,Embedding,Flatten,Bidirectional,MaxPooling2D, Conv1D, MaxPooling1D\n",
        "from keras.optimizers import SGD,Adam\n",
        "from keras import regularizers\n",
        "from keras.preprocessing.text import Tokenizer\n",
        "from keras.preprocessing.sequence import pad_sequences\n",
        "from keras.utils.np_utils import to_categorical\n",
        "import h5py\n",
        "import csv\n",
        "import seaborn as sns\n",
        "import matplotlib.pyplot as plt\n",
        "from sklearn.model_selection import train_test_split\n",
        "from sklearn.model_selection import StratifiedKFold"
      ],
      "execution_count": null,
      "outputs": []
    },
    {
      "cell_type": "code",
      "metadata": {
        "colab": {
          "base_uri": "https://localhost:8080/",
          "height": 35
        },
        "id": "gTOEBXe91DVt",
        "outputId": "d988803c-8df8-4c8c-e604-1451e18cd1ea"
      },
      "source": [
        "'''\n",
        "!pip install wandb\n",
        "import wandb\n",
        "wandb.init()\n",
        "'''"
      ],
      "execution_count": null,
      "outputs": [
        {
          "output_type": "execute_result",
          "data": {
            "application/vnd.google.colaboratory.intrinsic+json": {
              "type": "string"
            },
            "text/plain": [
              "'\\n!pip install wandb\\nimport wandb\\nwandb.init()\\n'"
            ]
          },
          "metadata": {
            "tags": []
          },
          "execution_count": 5
        }
      ]
    },
    {
      "cell_type": "code",
      "metadata": {
        "papermill": {
          "duration": 1.040497,
          "end_time": "2020-08-29T09:36:25.755049",
          "exception": false,
          "start_time": "2020-08-29T09:36:24.714552",
          "status": "completed"
        },
        "tags": [],
        "trusted": true,
        "id": "kYXrrC-fmVki",
        "colab": {
          "base_uri": "https://localhost:8080/",
          "height": 408
        },
        "outputId": "73d17318-c03d-42bd-9ebb-8ce2d6df5ae7"
      },
      "source": [
        "df=pd.read_csv('/content/strem_20_times_data_clen.csv')\n",
        "\n",
        "df.drop(columns=['Unnamed: 0'],inplace=True)\n",
        "display(df)"
      ],
      "execution_count": null,
      "outputs": [
        {
          "output_type": "display_data",
          "data": {
            "text/html": [
              "<div>\n",
              "<style scoped>\n",
              "    .dataframe tbody tr th:only-of-type {\n",
              "        vertical-align: middle;\n",
              "    }\n",
              "\n",
              "    .dataframe tbody tr th {\n",
              "        vertical-align: top;\n",
              "    }\n",
              "\n",
              "    .dataframe thead th {\n",
              "        text-align: right;\n",
              "    }\n",
              "</style>\n",
              "<table border=\"1\" class=\"dataframe\">\n",
              "  <thead>\n",
              "    <tr style=\"text-align: right;\">\n",
              "      <th></th>\n",
              "      <th>Sentence</th>\n",
              "      <th>Sentiment</th>\n",
              "      <th>length</th>\n",
              "    </tr>\n",
              "  </thead>\n",
              "  <tbody>\n",
              "    <tr>\n",
              "      <th>0</th>\n",
              "      <td>গ্রেগর সামসা সেলস্ম্যান সকাল ঘুম উঠ তেলাপোকা ব...</td>\n",
              "      <td>2</td>\n",
              "      <td>45477</td>\n",
              "    </tr>\n",
              "    <tr>\n",
              "      <th>1</th>\n",
              "      <td>গ্রেগর সামসা সেলস্ম্যান সকাল ঘুম উঠ তেলাপোকা ব...</td>\n",
              "      <td>1</td>\n",
              "      <td>45477</td>\n",
              "    </tr>\n",
              "    <tr>\n",
              "      <th>2</th>\n",
              "      <td>জাতী সংসদ বাজেট আলোচনা বিরোধীদলী নেতা দেশনেত্র...</td>\n",
              "      <td>4</td>\n",
              "      <td>33176</td>\n",
              "    </tr>\n",
              "    <tr>\n",
              "      <th>3</th>\n",
              "      <td>জাতী সংসদ বাজেট আলোচনা বিরোধীদলী নেতা দেশনেত্র...</td>\n",
              "      <td>8</td>\n",
              "      <td>33176</td>\n",
              "    </tr>\n",
              "    <tr>\n",
              "      <th>4</th>\n",
              "      <td>জাতী সংসদ বাজেট আলোচনা বিরোধীদলী নেতা দেশনেত্র...</td>\n",
              "      <td>9</td>\n",
              "      <td>33176</td>\n",
              "    </tr>\n",
              "    <tr>\n",
              "      <th>...</th>\n",
              "      <td>...</td>\n",
              "      <td>...</td>\n",
              "      <td>...</td>\n",
              "    </tr>\n",
              "    <tr>\n",
              "      <th>95757</th>\n",
              "      <td>ঢাকা সেপ্ট</td>\n",
              "      <td>4</td>\n",
              "      <td>10</td>\n",
              "    </tr>\n",
              "    <tr>\n",
              "      <th>95758</th>\n",
              "      <td>মারুফ মল্</td>\n",
              "      <td>6</td>\n",
              "      <td>9</td>\n",
              "    </tr>\n",
              "    <tr>\n",
              "      <th>95759</th>\n",
              "      <td>মারুফ মল্</td>\n",
              "      <td>6</td>\n",
              "      <td>9</td>\n",
              "    </tr>\n",
              "    <tr>\n",
              "      <th>95760</th>\n",
              "      <td>লਫন৴ োম</td>\n",
              "      <td>2</td>\n",
              "      <td>7</td>\n",
              "    </tr>\n",
              "    <tr>\n",
              "      <th>95761</th>\n",
              "      <td>সাতক্ষী</td>\n",
              "      <td>2</td>\n",
              "      <td>7</td>\n",
              "    </tr>\n",
              "  </tbody>\n",
              "</table>\n",
              "<p>95762 rows × 3 columns</p>\n",
              "</div>"
            ],
            "text/plain": [
              "                                                Sentence  Sentiment  length\n",
              "0      গ্রেগর সামসা সেলস্ম্যান সকাল ঘুম উঠ তেলাপোকা ব...          2   45477\n",
              "1      গ্রেগর সামসা সেলস্ম্যান সকাল ঘুম উঠ তেলাপোকা ব...          1   45477\n",
              "2      জাতী সংসদ বাজেট আলোচনা বিরোধীদলী নেতা দেশনেত্র...          4   33176\n",
              "3      জাতী সংসদ বাজেট আলোচনা বিরোধীদলী নেতা দেশনেত্র...          8   33176\n",
              "4      জাতী সংসদ বাজেট আলোচনা বিরোধীদলী নেতা দেশনেত্র...          9   33176\n",
              "...                                                  ...        ...     ...\n",
              "95757                                         ঢাকা সেপ্ট          4      10\n",
              "95758                                          মারুফ মল্          6       9\n",
              "95759                                          মারুফ মল্          6       9\n",
              "95760                                            লਫন৴ োম          2       7\n",
              "95761                                            সাতক্ষী          2       7\n",
              "\n",
              "[95762 rows x 3 columns]"
            ]
          },
          "metadata": {
            "tags": []
          }
        }
      ]
    },
    {
      "cell_type": "code",
      "metadata": {
        "id": "hflkCnK1VW77"
      },
      "source": [
        "\n"
      ],
      "execution_count": null,
      "outputs": []
    },
    {
      "cell_type": "code",
      "metadata": {
        "colab": {
          "base_uri": "https://localhost:8080/",
          "height": 35
        },
        "id": "VAxO5xcsWZe5",
        "outputId": "7002cebc-eeb9-4700-a9d2-de78248c8cb5"
      },
      "source": [
        "df.iloc[95119]['Sentence']"
      ],
      "execution_count": null,
      "outputs": [
        {
          "output_type": "execute_result",
          "data": {
            "application/vnd.google.colaboratory.intrinsic+json": {
              "type": "string"
            },
            "text/plain": [
              "'প্রি শিক্ষার্থী ইংরেজি পত্র নং প্রশ্ন প্রশ্ন শূন্যস্থান পূরণ নম্বর প্রভাষক ঢাকা রেসিডেনসিয়াল মড কলেজ'"
            ]
          },
          "metadata": {
            "tags": []
          },
          "execution_count": 7
        }
      ]
    },
    {
      "cell_type": "markdown",
      "metadata": {
        "id": "37yebWNefELa"
      },
      "source": [
        "# **Dataframe Null value **"
      ]
    },
    {
      "cell_type": "code",
      "metadata": {
        "colab": {
          "base_uri": "https://localhost:8080/",
          "height": 408
        },
        "id": "5hpahWjlWqKU",
        "outputId": "8983eb0f-c5aa-404d-eeca-03eb44bc4bd4"
      },
      "source": [
        "df.loc[df['length'] <= 100]"
      ],
      "execution_count": null,
      "outputs": [
        {
          "output_type": "execute_result",
          "data": {
            "text/html": [
              "<div>\n",
              "<style scoped>\n",
              "    .dataframe tbody tr th:only-of-type {\n",
              "        vertical-align: middle;\n",
              "    }\n",
              "\n",
              "    .dataframe tbody tr th {\n",
              "        vertical-align: top;\n",
              "    }\n",
              "\n",
              "    .dataframe thead th {\n",
              "        text-align: right;\n",
              "    }\n",
              "</style>\n",
              "<table border=\"1\" class=\"dataframe\">\n",
              "  <thead>\n",
              "    <tr style=\"text-align: right;\">\n",
              "      <th></th>\n",
              "      <th>Sentence</th>\n",
              "      <th>Sentiment</th>\n",
              "      <th>length</th>\n",
              "    </tr>\n",
              "  </thead>\n",
              "  <tbody>\n",
              "    <tr>\n",
              "      <th>95117</th>\n",
              "      <td>ইংরেজি পত্র লেসন প্রি শিক্ষার্থী ইংরেজি পত্র ল...</td>\n",
              "      <td>4</td>\n",
              "      <td>100</td>\n",
              "    </tr>\n",
              "    <tr>\n",
              "      <th>95118</th>\n",
              "      <td>প্রি শিক্ষার্থী ইংরেজি পত্র নম্বর প্রশ্ন আলোচন...</td>\n",
              "      <td>4</td>\n",
              "      <td>100</td>\n",
              "    </tr>\n",
              "    <tr>\n",
              "      <th>95119</th>\n",
              "      <td>প্রি শিক্ষার্থী ইংরেজি পত্র নং প্রশ্ন প্রশ্ন শ...</td>\n",
              "      <td>4</td>\n",
              "      <td>100</td>\n",
              "    </tr>\n",
              "    <tr>\n",
              "      <th>95120</th>\n",
              "      <td>প্রি শিক্ষার্থী ইংরেজি পত্র চর্চা কর মি নেব শি...</td>\n",
              "      <td>4</td>\n",
              "      <td>100</td>\n",
              "    </tr>\n",
              "    <tr>\n",
              "      <th>95121</th>\n",
              "      <td>রিয়াজুল বাশ মাহমুদ শরীফ বিডিনিউজ টোয়েন্টিফোর ড...</td>\n",
              "      <td>6</td>\n",
              "      <td>100</td>\n",
              "    </tr>\n",
              "    <tr>\n",
              "      <th>...</th>\n",
              "      <td>...</td>\n",
              "      <td>...</td>\n",
              "      <td>...</td>\n",
              "    </tr>\n",
              "    <tr>\n",
              "      <th>95757</th>\n",
              "      <td>ঢাকা সেপ্ট</td>\n",
              "      <td>4</td>\n",
              "      <td>10</td>\n",
              "    </tr>\n",
              "    <tr>\n",
              "      <th>95758</th>\n",
              "      <td>মারুফ মল্</td>\n",
              "      <td>6</td>\n",
              "      <td>9</td>\n",
              "    </tr>\n",
              "    <tr>\n",
              "      <th>95759</th>\n",
              "      <td>মারুফ মল্</td>\n",
              "      <td>6</td>\n",
              "      <td>9</td>\n",
              "    </tr>\n",
              "    <tr>\n",
              "      <th>95760</th>\n",
              "      <td>লਫন৴ োম</td>\n",
              "      <td>2</td>\n",
              "      <td>7</td>\n",
              "    </tr>\n",
              "    <tr>\n",
              "      <th>95761</th>\n",
              "      <td>সাতক্ষী</td>\n",
              "      <td>2</td>\n",
              "      <td>7</td>\n",
              "    </tr>\n",
              "  </tbody>\n",
              "</table>\n",
              "<p>645 rows × 3 columns</p>\n",
              "</div>"
            ],
            "text/plain": [
              "                                                Sentence  Sentiment  length\n",
              "95117  ইংরেজি পত্র লেসন প্রি শিক্ষার্থী ইংরেজি পত্র ল...          4     100\n",
              "95118  প্রি শিক্ষার্থী ইংরেজি পত্র নম্বর প্রশ্ন আলোচন...          4     100\n",
              "95119  প্রি শিক্ষার্থী ইংরেজি পত্র নং প্রশ্ন প্রশ্ন শ...          4     100\n",
              "95120  প্রি শিক্ষার্থী ইংরেজি পত্র চর্চা কর মি নেব শি...          4     100\n",
              "95121  রিয়াজুল বাশ মাহমুদ শরীফ বিডিনিউজ টোয়েন্টিফোর ড...          6     100\n",
              "...                                                  ...        ...     ...\n",
              "95757                                         ঢাকা সেপ্ট          4      10\n",
              "95758                                          মারুফ মল্          6       9\n",
              "95759                                          মারুফ মল্          6       9\n",
              "95760                                            লਫন৴ োম          2       7\n",
              "95761                                            সাতক্ষী          2       7\n",
              "\n",
              "[645 rows x 3 columns]"
            ]
          },
          "metadata": {
            "tags": []
          },
          "execution_count": 8
        }
      ]
    },
    {
      "cell_type": "code",
      "metadata": {
        "colab": {
          "base_uri": "https://localhost:8080/",
          "height": 408
        },
        "id": "OZszn05Kbvye",
        "outputId": "a26de92d-e8c2-4308-8b67-051262cc1c51"
      },
      "source": [
        "df.drop(df[df['length'] < 100].index, inplace = True)\n",
        "display(df)"
      ],
      "execution_count": null,
      "outputs": [
        {
          "output_type": "display_data",
          "data": {
            "text/html": [
              "<div>\n",
              "<style scoped>\n",
              "    .dataframe tbody tr th:only-of-type {\n",
              "        vertical-align: middle;\n",
              "    }\n",
              "\n",
              "    .dataframe tbody tr th {\n",
              "        vertical-align: top;\n",
              "    }\n",
              "\n",
              "    .dataframe thead th {\n",
              "        text-align: right;\n",
              "    }\n",
              "</style>\n",
              "<table border=\"1\" class=\"dataframe\">\n",
              "  <thead>\n",
              "    <tr style=\"text-align: right;\">\n",
              "      <th></th>\n",
              "      <th>Sentence</th>\n",
              "      <th>Sentiment</th>\n",
              "      <th>length</th>\n",
              "    </tr>\n",
              "  </thead>\n",
              "  <tbody>\n",
              "    <tr>\n",
              "      <th>0</th>\n",
              "      <td>গ্রেগর সামসা সেলস্ম্যান সকাল ঘুম উঠ তেলাপোকা ব...</td>\n",
              "      <td>2</td>\n",
              "      <td>45477</td>\n",
              "    </tr>\n",
              "    <tr>\n",
              "      <th>1</th>\n",
              "      <td>গ্রেগর সামসা সেলস্ম্যান সকাল ঘুম উঠ তেলাপোকা ব...</td>\n",
              "      <td>1</td>\n",
              "      <td>45477</td>\n",
              "    </tr>\n",
              "    <tr>\n",
              "      <th>2</th>\n",
              "      <td>জাতী সংসদ বাজেট আলোচনা বিরোধীদলী নেতা দেশনেত্র...</td>\n",
              "      <td>4</td>\n",
              "      <td>33176</td>\n",
              "    </tr>\n",
              "    <tr>\n",
              "      <th>3</th>\n",
              "      <td>জাতী সংসদ বাজেট আলোচনা বিরোধীদলী নেতা দেশনেত্র...</td>\n",
              "      <td>8</td>\n",
              "      <td>33176</td>\n",
              "    </tr>\n",
              "    <tr>\n",
              "      <th>4</th>\n",
              "      <td>জাতী সংসদ বাজেট আলোচনা বিরোধীদলী নেতা দেশনেত্র...</td>\n",
              "      <td>9</td>\n",
              "      <td>33176</td>\n",
              "    </tr>\n",
              "    <tr>\n",
              "      <th>...</th>\n",
              "      <td>...</td>\n",
              "      <td>...</td>\n",
              "      <td>...</td>\n",
              "    </tr>\n",
              "    <tr>\n",
              "      <th>95125</th>\n",
              "      <td>জয়পুর জুন বিডিনিউজ টোয়েন্টিফোর ডটকমরয়টার্স চাক...</td>\n",
              "      <td>4</td>\n",
              "      <td>100</td>\n",
              "    </tr>\n",
              "    <tr>\n",
              "      <th>95126</th>\n",
              "      <td>ইউনিট লেসন প্রি শিক্ষার্থী ইংরেজি পত্র গতকাল ই...</td>\n",
              "      <td>4</td>\n",
              "      <td>100</td>\n",
              "    </tr>\n",
              "    <tr>\n",
              "      <th>95127</th>\n",
              "      <td>ইউনিট লেসন প্রিয় শিক্ষার্থী ইংরেজি পত্র ইউনিট...</td>\n",
              "      <td>4</td>\n",
              "      <td>100</td>\n",
              "    </tr>\n",
              "    <tr>\n",
              "      <th>95128</th>\n",
              "      <td>প্রি শিক্ষার্থী ইংরেজি পত্র নং প্রশ্ন আলোচনা ...</td>\n",
              "      <td>4</td>\n",
              "      <td>100</td>\n",
              "    </tr>\n",
              "    <tr>\n",
              "      <th>95129</th>\n",
              "      <td>লেসন প্রি শিক্ষার্থী ইংরেজি পত্র লেসন প্যাসেজ ...</td>\n",
              "      <td>4</td>\n",
              "      <td>100</td>\n",
              "    </tr>\n",
              "  </tbody>\n",
              "</table>\n",
              "<p>95130 rows × 3 columns</p>\n",
              "</div>"
            ],
            "text/plain": [
              "                                                Sentence  Sentiment  length\n",
              "0      গ্রেগর সামসা সেলস্ম্যান সকাল ঘুম উঠ তেলাপোকা ব...          2   45477\n",
              "1      গ্রেগর সামসা সেলস্ম্যান সকাল ঘুম উঠ তেলাপোকা ব...          1   45477\n",
              "2      জাতী সংসদ বাজেট আলোচনা বিরোধীদলী নেতা দেশনেত্র...          4   33176\n",
              "3      জাতী সংসদ বাজেট আলোচনা বিরোধীদলী নেতা দেশনেত্র...          8   33176\n",
              "4      জাতী সংসদ বাজেট আলোচনা বিরোধীদলী নেতা দেশনেত্র...          9   33176\n",
              "...                                                  ...        ...     ...\n",
              "95125  জয়পুর জুন বিডিনিউজ টোয়েন্টিফোর ডটকমরয়টার্স চাক...          4     100\n",
              "95126  ইউনিট লেসন প্রি শিক্ষার্থী ইংরেজি পত্র গতকাল ই...          4     100\n",
              "95127  ইউনিট লেসন প্রিয় শিক্ষার্থী ইংরেজি পত্র ইউনিট...          4     100\n",
              "95128  প্রি শিক্ষার্থী ইংরেজি পত্র নং প্রশ্ন আলোচনা ...          4     100\n",
              "95129  লেসন প্রি শিক্ষার্থী ইংরেজি পত্র লেসন প্যাসেজ ...          4     100\n",
              "\n",
              "[95130 rows x 3 columns]"
            ]
          },
          "metadata": {
            "tags": []
          }
        }
      ]
    },
    {
      "cell_type": "code",
      "metadata": {
        "colab": {
          "base_uri": "https://localhost:8080/",
          "height": 408
        },
        "id": "ksBBKazqcuqO",
        "outputId": "2fd527d4-2245-4bc1-fa0a-30ed09a07ee3"
      },
      "source": [
        "df = df.drop_duplicates('Sentence', keep='first')\n",
        "\n",
        "df.reset_index(inplace=True)\n",
        "df.drop(columns=['index'],inplace=True)\n",
        "df"
      ],
      "execution_count": null,
      "outputs": [
        {
          "output_type": "execute_result",
          "data": {
            "text/html": [
              "<div>\n",
              "<style scoped>\n",
              "    .dataframe tbody tr th:only-of-type {\n",
              "        vertical-align: middle;\n",
              "    }\n",
              "\n",
              "    .dataframe tbody tr th {\n",
              "        vertical-align: top;\n",
              "    }\n",
              "\n",
              "    .dataframe thead th {\n",
              "        text-align: right;\n",
              "    }\n",
              "</style>\n",
              "<table border=\"1\" class=\"dataframe\">\n",
              "  <thead>\n",
              "    <tr style=\"text-align: right;\">\n",
              "      <th></th>\n",
              "      <th>Sentence</th>\n",
              "      <th>Sentiment</th>\n",
              "      <th>length</th>\n",
              "    </tr>\n",
              "  </thead>\n",
              "  <tbody>\n",
              "    <tr>\n",
              "      <th>0</th>\n",
              "      <td>গ্রেগর সামসা সেলস্ম্যান সকাল ঘুম উঠ তেলাপোকা ব...</td>\n",
              "      <td>2</td>\n",
              "      <td>45477</td>\n",
              "    </tr>\n",
              "    <tr>\n",
              "      <th>1</th>\n",
              "      <td>জাতী সংসদ বাজেট আলোচনা বিরোধীদলী নেতা দেশনেত্র...</td>\n",
              "      <td>4</td>\n",
              "      <td>33176</td>\n",
              "    </tr>\n",
              "    <tr>\n",
              "      <th>2</th>\n",
              "      <td>ঢাকা শহর আতঙ্ক শহর দিনরাত সবখান মৃত্যুর অশুভ ছ...</td>\n",
              "      <td>1</td>\n",
              "      <td>31688</td>\n",
              "    </tr>\n",
              "    <tr>\n",
              "      <th>3</th>\n",
              "      <td>এটিএন বাংলা ঈদ অনুষ্ঠানমালা ছয়দিন দশ পর্ব নাটক...</td>\n",
              "      <td>11</td>\n",
              "      <td>26534</td>\n",
              "    </tr>\n",
              "    <tr>\n",
              "      <th>4</th>\n",
              "      <td>কথা কথা কথা পাব অ্যাকটিং ভালো রপ্ত কর ওশোর পাত...</td>\n",
              "      <td>11</td>\n",
              "      <td>21860</td>\n",
              "    </tr>\n",
              "    <tr>\n",
              "      <th>...</th>\n",
              "      <td>...</td>\n",
              "      <td>...</td>\n",
              "      <td>...</td>\n",
              "    </tr>\n",
              "    <tr>\n",
              "      <th>88674</th>\n",
              "      <td>জয়পুর জুন বিডিনিউজ টোয়েন্টিফোর ডটকমরয়টার্স চাক...</td>\n",
              "      <td>4</td>\n",
              "      <td>100</td>\n",
              "    </tr>\n",
              "    <tr>\n",
              "      <th>88675</th>\n",
              "      <td>ইউনিট লেসন প্রি শিক্ষার্থী ইংরেজি পত্র গতকাল ই...</td>\n",
              "      <td>4</td>\n",
              "      <td>100</td>\n",
              "    </tr>\n",
              "    <tr>\n",
              "      <th>88676</th>\n",
              "      <td>ইউনিট লেসন প্রিয় শিক্ষার্থী ইংরেজি পত্র ইউনিট...</td>\n",
              "      <td>4</td>\n",
              "      <td>100</td>\n",
              "    </tr>\n",
              "    <tr>\n",
              "      <th>88677</th>\n",
              "      <td>প্রি শিক্ষার্থী ইংরেজি পত্র নং প্রশ্ন আলোচনা ...</td>\n",
              "      <td>4</td>\n",
              "      <td>100</td>\n",
              "    </tr>\n",
              "    <tr>\n",
              "      <th>88678</th>\n",
              "      <td>লেসন প্রি শিক্ষার্থী ইংরেজি পত্র লেসন প্যাসেজ ...</td>\n",
              "      <td>4</td>\n",
              "      <td>100</td>\n",
              "    </tr>\n",
              "  </tbody>\n",
              "</table>\n",
              "<p>88679 rows × 3 columns</p>\n",
              "</div>"
            ],
            "text/plain": [
              "                                                Sentence  Sentiment  length\n",
              "0      গ্রেগর সামসা সেলস্ম্যান সকাল ঘুম উঠ তেলাপোকা ব...          2   45477\n",
              "1      জাতী সংসদ বাজেট আলোচনা বিরোধীদলী নেতা দেশনেত্র...          4   33176\n",
              "2      ঢাকা শহর আতঙ্ক শহর দিনরাত সবখান মৃত্যুর অশুভ ছ...          1   31688\n",
              "3      এটিএন বাংলা ঈদ অনুষ্ঠানমালা ছয়দিন দশ পর্ব নাটক...         11   26534\n",
              "4      কথা কথা কথা পাব অ্যাকটিং ভালো রপ্ত কর ওশোর পাত...         11   21860\n",
              "...                                                  ...        ...     ...\n",
              "88674  জয়পুর জুন বিডিনিউজ টোয়েন্টিফোর ডটকমরয়টার্স চাক...          4     100\n",
              "88675  ইউনিট লেসন প্রি শিক্ষার্থী ইংরেজি পত্র গতকাল ই...          4     100\n",
              "88676  ইউনিট লেসন প্রিয় শিক্ষার্থী ইংরেজি পত্র ইউনিট...          4     100\n",
              "88677  প্রি শিক্ষার্থী ইংরেজি পত্র নং প্রশ্ন আলোচনা ...          4     100\n",
              "88678  লেসন প্রি শিক্ষার্থী ইংরেজি পত্র লেসন প্যাসেজ ...          4     100\n",
              "\n",
              "[88679 rows x 3 columns]"
            ]
          },
          "metadata": {
            "tags": []
          },
          "execution_count": 10
        }
      ]
    },
    {
      "cell_type": "code",
      "metadata": {
        "colab": {
          "base_uri": "https://localhost:8080/"
        },
        "id": "9tPSMluodocm",
        "outputId": "69f95b46-3d1b-4e8f-97c3-081518a88923"
      },
      "source": [
        "df.isna().sum().sum()"
      ],
      "execution_count": null,
      "outputs": [
        {
          "output_type": "execute_result",
          "data": {
            "text/plain": [
              "0"
            ]
          },
          "metadata": {
            "tags": []
          },
          "execution_count": 11
        }
      ]
    },
    {
      "cell_type": "code",
      "metadata": {
        "id": "8mANYLtweiKi"
      },
      "source": [
        "df.dropna(axis=0, how=\"any\", thresh=None, subset=None, inplace=True)"
      ],
      "execution_count": null,
      "outputs": []
    },
    {
      "cell_type": "code",
      "metadata": {
        "colab": {
          "base_uri": "https://localhost:8080/"
        },
        "id": "ss_KWuoweu0F",
        "outputId": "4de7eb53-b6ea-4a8d-edae-c08bbb24073a"
      },
      "source": [
        "df.isna().sum().sum()"
      ],
      "execution_count": null,
      "outputs": [
        {
          "output_type": "execute_result",
          "data": {
            "text/plain": [
              "0"
            ]
          },
          "metadata": {
            "tags": []
          },
          "execution_count": 13
        }
      ]
    },
    {
      "cell_type": "code",
      "metadata": {
        "trusted": true,
        "id": "wSs-U7q9mVkj",
        "colab": {
          "base_uri": "https://localhost:8080/",
          "height": 265
        },
        "outputId": "58687ea6-4670-4c2b-a76a-84f62ac5ab19"
      },
      "source": [
        "df['Sentence'].apply(lambda x: len(str(x))).plot(kind='hist');"
      ],
      "execution_count": null,
      "outputs": [
        {
          "output_type": "display_data",
          "data": {
            "image/png": "[encoded data removed]",
            "text/plain": [
              "<Figure size 432x288 with 1 Axes>"
            ]
          },
          "metadata": {
            "tags": [],
            "needs_background": "light"
          }
        }
      ]
    },
    {
      "cell_type": "code",
      "metadata": {
        "id": "JgNu9RIL0hkG"
      },
      "source": [
        "df.Sentiment.reset_index(drop=True, inplace=True)"
      ],
      "execution_count": null,
      "outputs": []
    },
    {
      "cell_type": "code",
      "metadata": {
        "colab": {
          "base_uri": "https://localhost:8080/"
        },
        "id": "nMzwQ0UN0lrf",
        "outputId": "406cdcd2-2373-418a-91c6-aae40600049c"
      },
      "source": [
        "df.Sentiment.value_counts()"
      ],
      "execution_count": null,
      "outputs": [
        {
          "output_type": "execute_result",
          "data": {
            "text/plain": [
              "9     18558\n",
              "11    11296\n",
              "4     10706\n",
              "5      8951\n",
              "2      8199\n",
              "8      7684\n",
              "0      6126\n",
              "7      5036\n",
              "6      3754\n",
              "3      3389\n",
              "10     2810\n",
              "1      2170\n",
              "Name: Sentiment, dtype: int64"
            ]
          },
          "metadata": {
            "tags": []
          },
          "execution_count": 16
        }
      ]
    },
    {
      "cell_type": "code",
      "metadata": {
        "papermill": {
          "duration": 0.24749,
          "end_time": "2020-08-29T09:36:26.033522",
          "exception": false,
          "start_time": "2020-08-29T09:36:25.786032",
          "status": "completed"
        },
        "tags": [],
        "trusted": true,
        "id": "uMbyCOuWmVkk",
        "colab": {
          "base_uri": "https://localhost:8080/",
          "height": 331
        },
        "outputId": "79679273-311d-45aa-d600-f18739c1a11a"
      },
      "source": [
        "sns.countplot(df['Sentiment']);"
      ],
      "execution_count": null,
      "outputs": [
        {
          "output_type": "stream",
          "text": [
            "/usr/local/lib/python3.7/dist-packages/seaborn/_decorators.py:43: FutureWarning: Pass the following variable as a keyword arg: x. From version 0.12, the only valid positional argument will be `data`, and passing other arguments without an explicit keyword will result in an error or misinterpretation.\n",
            "  FutureWarning\n"
          ],
          "name": "stderr"
        },
        {
          "output_type": "display_data",
          "data": {
            "image/png": "[encoded data removed]",
            "text/plain": [
              "<Figure size 432x288 with 1 Axes>"
            ]
          },
          "metadata": {
            "tags": [],
            "needs_background": "light"
          }
        }
      ]
    },
    {
      "cell_type": "markdown",
      "metadata": {
        "id": "v7XemCFpV1it"
      },
      "source": [
        "# **bnltk 0.7.6 Stemmer**"
      ]
    },
    {
      "cell_type": "code",
      "metadata": {
        "id": "pVvpjSTfWTJ5"
      },
      "source": [
        ""
      ],
      "execution_count": null,
      "outputs": []
    },
    {
      "cell_type": "code",
      "metadata": {
        "id": "_IYaV-9vWTTk"
      },
      "source": [
        ""
      ],
      "execution_count": null,
      "outputs": []
    },
    {
      "cell_type": "code",
      "metadata": {
        "id": "-yDkfRwjWTWq"
      },
      "source": [
        "\n",
        "\n"
      ],
      "execution_count": null,
      "outputs": []
    },
    {
      "cell_type": "code",
      "metadata": {
        "id": "Qvt4Lz0Vhd-p"
      },
      "source": [
        ""
      ],
      "execution_count": null,
      "outputs": []
    },
    {
      "cell_type": "markdown",
      "metadata": {
        "id": "7_5470jthele"
      },
      "source": [
        "**New Stemmed**"
      ]
    },
    {
      "cell_type": "code",
      "metadata": {
        "colab": {
          "base_uri": "https://localhost:8080/"
        },
        "id": "imV82g7aWNaX",
        "outputId": "0f95e274-aae0-4019-94f2-9943434fdf87"
      },
      "source": [
        "uniqueWords = list(set(\" \".join(df['Sentence']).split(\" \")))\n",
        "count = len(uniqueWords)\n",
        "print(count)"
      ],
      "execution_count": null,
      "outputs": [
        {
          "output_type": "stream",
          "text": [
            "332301\n"
          ],
          "name": "stdout"
        }
      ]
    },
    {
      "cell_type": "code",
      "metadata": {
        "papermill": {
          "duration": 0.019937,
          "end_time": "2020-08-29T09:36:26.43929",
          "exception": false,
          "start_time": "2020-08-29T09:36:26.419353",
          "status": "completed"
        },
        "tags": [],
        "trusted": true,
        "id": "D4TnjSfQmVkl"
      },
      "source": [
        "df['Sentence'] = df['Sentence'].astype('str') \n",
        "df.reset_index(drop=True, inplace=True)\n",
        "#df['Sentence'] = df['Sentence'].astype('str')"
      ],
      "execution_count": null,
      "outputs": []
    },
    {
      "cell_type": "code",
      "metadata": {
        "trusted": true,
        "id": "Ku0ZD8k5mVkm"
      },
      "source": [
        ""
      ],
      "execution_count": null,
      "outputs": []
    },
    {
      "cell_type": "code",
      "metadata": {
        "trusted": true,
        "id": "EhhzSUaTmVkm"
      },
      "source": [
        "\n",
        "#df['Sentence'] = df.Sentence.apply(lambda x: Stemming(str(x)))"
      ],
      "execution_count": null,
      "outputs": []
    },
    {
      "cell_type": "code",
      "metadata": {
        "trusted": true,
        "id": "XbyfTxDAmVkm",
        "colab": {
          "base_uri": "https://localhost:8080/",
          "height": 265
        },
        "outputId": "4ee744e5-f389-4a28-b6e1-613da66b41ab"
      },
      "source": [
        "df['Sentence'].apply(lambda x: len(str(x))).plot(kind='hist');"
      ],
      "execution_count": null,
      "outputs": [
        {
          "output_type": "display_data",
          "data": {
            "image/png": "[encoded data removed]",
            "text/plain": [
              "<Figure size 432x288 with 1 Axes>"
            ]
          },
          "metadata": {
            "tags": [],
            "needs_background": "light"
          }
        }
      ]
    },
    {
      "cell_type": "code",
      "metadata": {
        "id": "GDl2zEFLmNxy"
      },
      "source": [
        "from collections import Counter\n",
        "#Counter(\" \".join(df[\"Sentence\"]).split()).most_common(1000)  \n",
        "#NOT FASTER "
      ],
      "execution_count": null,
      "outputs": []
    },
    {
      "cell_type": "code",
      "metadata": {
        "id": "KnzB1K8dmmKw"
      },
      "source": [
        "#pd.Series(' '.join(df['Sentence']).lower().split()).value_counts()[:10000] #faster AND for large amounts of text/rows"
      ],
      "execution_count": null,
      "outputs": []
    },
    {
      "cell_type": "markdown",
      "metadata": {
        "id": "j1dggyKpIQTd"
      },
      "source": [
        "# **Shuffle the data**"
      ]
    },
    {
      "cell_type": "code",
      "metadata": {
        "id": "PhCjppGtIOpa"
      },
      "source": [
        "from sklearn.utils import shuffle\n",
        "df = shuffle(df)"
      ],
      "execution_count": null,
      "outputs": []
    },
    {
      "cell_type": "code",
      "metadata": {
        "colab": {
          "base_uri": "https://localhost:8080/"
        },
        "id": "yYFRSOk5y2Ym",
        "outputId": "521b7459-9455-436b-a37f-382b2ea59647"
      },
      "source": [
        "df.Sentiment.value_counts()"
      ],
      "execution_count": null,
      "outputs": [
        {
          "output_type": "execute_result",
          "data": {
            "text/plain": [
              "9     18558\n",
              "11    11296\n",
              "4     10706\n",
              "5      8951\n",
              "2      8199\n",
              "8      7684\n",
              "0      6126\n",
              "7      5036\n",
              "6      3754\n",
              "3      3389\n",
              "10     2810\n",
              "1      2170\n",
              "Name: Sentiment, dtype: int64"
            ]
          },
          "metadata": {
            "tags": []
          },
          "execution_count": 25
        }
      ]
    },
    {
      "cell_type": "code",
      "metadata": {
        "papermill": {
          "duration": 0.149615,
          "end_time": "2020-08-29T09:36:26.620833",
          "exception": false,
          "start_time": "2020-08-29T09:36:26.471218",
          "status": "completed"
        },
        "tags": [],
        "trusted": true,
        "id": "g1o7nrismVkn",
        "colab": {
          "base_uri": "https://localhost:8080/"
        },
        "outputId": "1cfeeb88-4b95-4806-e59d-e772fa710936"
      },
      "source": [
        "train1, test1 = train_test_split(df,random_state=22, test_size=0.2)\n",
        "training_sentences = []\n",
        "testing_sentences = []\n",
        "\n",
        "\n",
        "\n",
        "\n",
        "train_sentences=train1['Sentence'].values\n",
        "train_labels=train1['Sentiment'].values\n",
        "#for i in range(train_sentences.shape[0]): \n",
        "    #print(train_sentences[i])\n",
        " #   x=str(train_sentences[i])\n",
        " #   training_sentences.append(x)\n",
        "\n",
        " \n",
        "    \n",
        "#training_sentences=np.array(training_sentences)\n",
        "\n",
        "\n",
        "\n",
        "\n",
        "\n",
        "test_sentences=test1['Sentence'].values\n",
        "test_labels=test1['Sentiment'].values\n",
        "#y = pd.get_dummies(data1['Sentiment']).values\n",
        "\n",
        "train_labels=pd.get_dummies(train_labels).values\n",
        "test_labels=pd.get_dummies(test_labels).values\n",
        "\n",
        "\n",
        "print(\"Training Set Length: \"+str(len(train1)))\n",
        "print(\"Testing Set Length: \"+str(len(test1)))\n",
        "print(\"training_sentences shape: \"+str(train_sentences.shape))\n",
        "print(\"testing_sentences shape: \"+str(test_sentences.shape))\n",
        "print(\"train_labels shape: \"+str(train_labels.shape))\n",
        "print(\"test_labels shape: \"+str(test_labels.shape))\n"
      ],
      "execution_count": null,
      "outputs": [
        {
          "output_type": "stream",
          "text": [
            "Training Set Length: 70943\n",
            "Testing Set Length: 17736\n",
            "training_sentences shape: (70943,)\n",
            "testing_sentences shape: (17736,)\n",
            "train_labels shape: (70943, 12)\n",
            "test_labels shape: (17736, 12)\n"
          ],
          "name": "stdout"
        }
      ]
    },
    {
      "cell_type": "code",
      "metadata": {
        "trusted": true,
        "id": "KAY5AQRxmVko",
        "colab": {
          "base_uri": "https://localhost:8080/"
        },
        "outputId": "7569e336-264c-4d7d-ccca-92f6430504fd"
      },
      "source": [
        "train_labels"
      ],
      "execution_count": null,
      "outputs": [
        {
          "output_type": "execute_result",
          "data": {
            "text/plain": [
              "array([[0, 0, 0, ..., 0, 0, 1],\n",
              "       [0, 0, 0, ..., 0, 0, 0],\n",
              "       [0, 0, 0, ..., 0, 0, 0],\n",
              "       ...,\n",
              "       [0, 0, 0, ..., 0, 0, 1],\n",
              "       [0, 0, 0, ..., 0, 0, 0],\n",
              "       [0, 0, 0, ..., 0, 0, 0]], dtype=uint8)"
            ]
          },
          "metadata": {
            "tags": []
          },
          "execution_count": 27
        }
      ]
    },
    {
      "cell_type": "code",
      "metadata": {
        "trusted": true,
        "id": "qB9iZkNLmVko"
      },
      "source": [
        ""
      ],
      "execution_count": null,
      "outputs": []
    },
    {
      "cell_type": "code",
      "metadata": {
        "papermill": {
          "duration": 0.020899,
          "end_time": "2020-08-29T09:36:26.674467",
          "exception": false,
          "start_time": "2020-08-29T09:36:26.653568",
          "status": "completed"
        },
        "tags": [],
        "trusted": true,
        "id": "hTeWiL_CmVko",
        "colab": {
          "base_uri": "https://localhost:8080/"
        },
        "outputId": "4aa067d4-8dd4-42bb-e599-d13e1a094dd9"
      },
      "source": [
        "print(train_sentences[10])\n",
        "print(train_labels[0])"
      ],
      "execution_count": null,
      "outputs": [
        {
          "output_type": "stream",
          "text": [
            "বহুনির্বাচনি প্রশ্ন প্রি শিক্ষার্থী রসায়ন বিষ বহুনির্বাচনি প্রশ্নোত্তর অধ্যা নিচ অধাতু আয়রন সিলভ সালফ কপ সালফ সর্বপ্রথম বস্তু প্রধান শ্রেণী ভাগ নিউটন ল্যাভয়সি বার্জেলিয়াস অ্যাভোগেড্রো ল্যাভয়সি সমসত্ত্ব মিশ্রণ উদাহরণ পানি বালু লোহ গুঁড়া সাগর পানি সোনা সাগর পানি লোহা দীর্ঘদিন বাতাস দিল ওপর রঙ আস্তরণ পড় ধরন পরিবর্তন ধুলাবালির স্তর ভৌত পরিবর্তন বিশুদ্ধ লোহা রাসায়নিক পরিবর্তন রাসায়নিক পরিবর্তন আন্তআণবিক শক্তি বস্তুর ওপর নির্ভর দৈর্ঘ্য প্রস্থ প্রকৃতির ওপর ওপর প্রকৃতির ওপর নিচ উপধাতু পারদ বোরন জিংক কপ বোরন শুষ্ক বরফ সংকেত লোহ টুক চুম্বক ঘর্ষণ চুম্বকত্বপ্রাপ্ত ধরন পরিবর্তন ভৌত রাসায়নিক পরিবর্তন রাসায়নিক পরিবর্তন তাপ পরিবর্তন ভৌত পরিবর্তন ভৌত পরিবর্তন নিচ রাসায়নিক পরিবর্তন পানি চিনির সংযোগ শরবত তৈরি বরফ পানি তৈরি লোহা মরিচা পড়া চুম্ব ঘষ লোহ টুক চুম্ব রূপান্তরিত লোহা মরিচা পড়া অধ্যা আধুনিক রসায়ন প্রতিষ্ঠাতা ডেমোক্রিটাস অ্যারিস্টটল ল্যাভয়েসি ডাল্টন ডেমোক্রিটাস ডাল্টন পরমাণুবাদ প্রকাশিত সাল সাল সাল সাল সবচা ভারী মৌল হাইড্রোজ হিলিয়াম ইউরেনিয়াম মারকারি ইউরেনিয়াম পরমাণু অণুর সংজ্ঞা প্রদান বিজ্ঞানী অ্যাভোগেড্রো বার্জেলিয়াস ডাল্টন রিক অ্যাভোগেড্রো পো কণ অবিরাম ইতস্তত ভ্রমণ ব্যাপন পো ব্রাউনী গতি দ্রবণ ব্রাউনী গতি ল্যানডোল্ট পরীক্ষা ধাতুর অধঃক্ষেপ পড় স্থিরানুপাত সূত্র আবিষ্কারক ল্যাভয়সি লুইস প্রাউস রিক লুসাক লুইস প্রাউস বিপরীত অনুপাত সূত্র প্রবর্তক রিক লুসাক ডাল্টন লুইস প্রাউস রিক গ্যাস আয়তন সূত্র আবিষ্ক রসায়নবিদ রিক রসায়নবিদ লুসাক রসায়নবিদ লুইস প্রাউস রসায়নবিদ ডাল্টন রসায়নবিদ লুসাক আবিষ্কৃত মৌলিক পদার্থ পদার্থ নিরবিচ্ছিন্ন ক্ষুদ্রতম ভাগ যায়উক্তি ডাল্টন অ্যারিস্টটল ডেমোক্রিটাস লুইস প্রাউস অ্যারিস্টটল ছাপা আগামীকাল\n",
            "[0 0 0 0 0 0 0 0 0 0 0 1]\n"
          ],
          "name": "stdout"
        }
      ]
    },
    {
      "cell_type": "code",
      "metadata": {
        "papermill": {
          "duration": 0.02028,
          "end_time": "2020-08-29T09:36:26.728248",
          "exception": false,
          "start_time": "2020-08-29T09:36:26.707968",
          "status": "completed"
        },
        "tags": [],
        "trusted": true,
        "id": "O8Rw3bFfmVkp"
      },
      "source": [
        "vocab_size = 200000\n",
        "embedding_dim = 300\n",
        "max_length = 4000\n",
        "trunc_type='post'\n",
        "oov_tok = \"<OOV>\""
      ],
      "execution_count": null,
      "outputs": []
    },
    {
      "cell_type": "code",
      "metadata": {
        "papermill": {
          "duration": 0.02122,
          "end_time": "2020-08-29T09:36:26.76056",
          "exception": false,
          "start_time": "2020-08-29T09:36:26.73934",
          "status": "completed"
        },
        "tags": [],
        "trusted": true,
        "id": "816r9qMOmVkp",
        "colab": {
          "base_uri": "https://localhost:8080/"
        },
        "outputId": "c434545d-99b7-450d-8858-e6aad709bdbf"
      },
      "source": [
        "print(train_sentences.shape)\n",
        "print(train_labels.shape)"
      ],
      "execution_count": null,
      "outputs": [
        {
          "output_type": "stream",
          "text": [
            "(70943,)\n",
            "(70943, 12)\n"
          ],
          "name": "stdout"
        }
      ]
    },
    {
      "cell_type": "code",
      "metadata": {
        "papermill": {
          "duration": 0.682778,
          "end_time": "2020-08-29T09:36:27.475798",
          "exception": false,
          "start_time": "2020-08-29T09:36:26.79302",
          "status": "completed"
        },
        "tags": [],
        "trusted": true,
        "id": "kieBp_3XmVkp",
        "colab": {
          "base_uri": "https://localhost:8080/"
        },
        "outputId": "0577fc8b-7217-4233-a2d4-365277d17c51"
      },
      "source": [
        "tokenizer = Tokenizer(num_words = vocab_size, oov_token=oov_tok)\n",
        "tokenizer.fit_on_texts(train_sentences)\n",
        "word_index = tokenizer.word_index\n",
        "\n",
        "#451606 words in raw dataset\n",
        "#434245 words in raw dataset after stopwords removal\n",
        "#339313 after stemming \n",
        "\n",
        "print(len(word_index))\n",
        "print(\"Word index length:\"+str(len(tokenizer.word_index)))\n",
        "sequences = tokenizer.texts_to_sequences(train_sentences)\n",
        "padded = pad_sequences(sequences,maxlen=max_length, truncating=trunc_type)\n",
        "\n",
        "\n",
        "test_sequences = tokenizer.texts_to_sequences(test_sentences)\n",
        "testing_padded = pad_sequences(test_sequences,maxlen=max_length)"
      ],
      "execution_count": null,
      "outputs": [
        {
          "output_type": "stream",
          "text": [
            "293096\n",
            "Word index length:293096\n"
          ],
          "name": "stdout"
        }
      ]
    },
    {
      "cell_type": "code",
      "metadata": {
        "papermill": {
          "duration": 0.026912,
          "end_time": "2020-08-29T09:36:27.514109",
          "exception": false,
          "start_time": "2020-08-29T09:36:27.487197",
          "status": "completed"
        },
        "tags": [],
        "trusted": true,
        "id": "LGQVeds7mVkq",
        "colab": {
          "base_uri": "https://localhost:8080/"
        },
        "outputId": "039e2855-6abc-470a-ee18-37e42765c31a"
      },
      "source": [
        "print(\"Sentence :--> \\n\")\n",
        "print(train_sentences[2]+\"\\n\")\n",
        "print(\"Sentence Tokenized and Converted into Sequence :--> \\n\")\n",
        "print(str(sequences[2])+\"\\n\")\n",
        "print(\"After Padding the Sequence with padding length 100 :--> \\n\")\n",
        "print(padded[2])"
      ],
      "execution_count": null,
      "outputs": [
        {
          "output_type": "stream",
          "text": [
            "Sentence :--> \n",
            "\n",
            "সাভ রানা প্লাজা ট্র্যাজেডি ঘট মঙ্গোলিয় রাজধানী উলানবাটোর দেশ সমন্বয় গঠিত কমিউনি অব ডেমোক্রেসি আয়োজিত সপ্তম মিনিস্টারিয়াল কনফারেন্স নিচ্ছিলাম কনফারেন্স সা পৃথিবী ব্যক্তি শান্তি নোব বিজয়ী অং সান সু চি তাওয়াক্কল কারমান একাধিক দেশ প্রেসিডেন্ট ভাইস প্রেসিডেন্ট প্রধানমন্ত্রী মন্ত্রিপরিষ জাতিসংঘ কর্মকর্তা রাষ্ট্রদূত পার্লামেন্টারিয়ান সিভিল সোসা ব্যবসায়ী নারী প্রতিনিধি বাংলাদেশ একমাত্র অনুষ্ঠান নিয়েছিলাম চীন নিযুক্ত বাংলাদেশ রাষ্ট্রদূত সরক প্রতিনিধিত্ব রানা প্লাজা ট্র্যাজেডির ব্যাপকতা সম্পর্ জানাজানি থাকল কনফারেন্স অংশগ্রহণকারী ব্যক্তি সমবেদনা এগিয় আস হোট রুম সিএনএন বিবিসি চাযা দুর্ঘটন উদ্ধ কার্যক্রম চরমভাব ব্যথিত সমবেদনা জ্ঞাপনকারী ব্যক্তি বাংলাদেশ তৈরি পোশাক ভোক্তা অমানবিক পািা তৈরি মর্মাহত একজন হতাশ সুর বল গায় জামা মেয় বানিয় মৃত নিখোঁজ কয়েকজন দুর্ঘটন প্রকৃত ধরন বিপর্যয় রোধ সরক ভূমিকা সম্পর্ প্রশ্ন সরক উদ্ধারকাজ ব্রিটিশ সহায়তা নিল দায়ী ব্যক্তি চিহ্নিত শাস্তি পা মৃত ব্যক্তি পরিবারপরিজন আহত ব্যক্তি দায়ভ নাবা সম্মেলন একজন আমেরিকান কথা বাংলাদেশ তৈরি পোশাকশিল্প সমস্যা সম্পর্ খোঁজখবর রাখ নভেম্বর তাজরীন ফ্যাশনস অগ্নিকাণ্ড তৈরি পোশাক কারখানা ছোটবড় অগ্নিকাণ্ড ঘটনা ঘট কয়েকজন হতাহত পোশাকশিল্প দুর্ঘটনাজনিত হতাহত মূল অধিকাংশ তালা কলাপসিবল গেট হুড়োহুড়ি শ্রমিক তলায় পিষ্ট আফসোস বাংলাদেশ তৈরি পোশাকশিল্প লাখ শ্রমিক করল মঙ্গোলিয় জনসংখ্য দেড় গুণ সরক শ্রমিক নিরাপত্তা ন্যূনতম সুযোগসুবিধা অনাগ্রহী দুর্ঘটনা ঘটল দেশিবিদেশি চক্রান্ত অভিযোগ তোলা তাজরীন অগ্নিকাণ্ড চক্রান্ত অভিযোগ তুল সন্তোষ প্রকাশ বিদেশি ষড়যন্ত্র ধুয়া তোলেনি অভিযোগ বাংলাদেশ সরক অর্থ ব্যয় শিল্প পুলিশ নিয়োগ শ্রমিক পেটানোর সা দেশ শিল্পকারখানা নজরদারির ইন্সপেক্টর পদ অর্ধেক সরক অর্থ ব্যয় অবিশ্বাস্য ডল ব্যয় বাংলাদেশ অস্ত্র কিন দুর্যোগকালীন উদ্ধারকাজ ব্যবহ অধ্যাপক জামিলুর রেজা চৌধুরী প্রস্তাবিত টাকা ব্যয় যন্ত্রপাতি টাকা সরক অভিযোগ স্বার্থসংশ্লিষ্ট ব্যক্তি তৈরি পোশাকশিল্প শ্রমিক ইউনিয়ন তুল দি প্রচেষ্টায় রত শ্রমিকনেতা আমিনুল ইসলাম হত্যাকারী খুঁজ শাস্তি সরক কা খুনি ভদ্রলোক দা বাংলাদেশ তৈরি পোশাক আমেরিকান ভোক্তা শ্রমিক প্রাণহানি দারুণভাব ক্ষুব্ধ ক্রেতা কোম্পানি দায় এড়িয় কোম্পানি কারখানা মালিক নন বাংলাদেশি মালিক ওপর কারখান পরিবেশ উন্নয়ন চাপ দিল মা সরক উদাসীনতা প্রদর্শন কোম্পানি তৈরি পোশাক দাম চাইল শ্রমি লাভবান আশাবাদী নন মালিক স্বার্থপরতা শ্রমিক বঞ্চন কথা মা বিক্রি লাভবান বিভিন্নভাব আন্ড ওভ ইনভয়েসিং কর ঐশ্বর্যশালী শ্রমি বঞ্চিত মা কারখানা তুলছ সম্প অশ্লীল রক্ত বিনিময় শ্রমি খাতা ভদ্রলোক বাংলাদেশ তৈরি পোশাকশিল্প ভবিষ্যৎ সম্পর্ চরম শঙ্ক কথা জানান বিদেশি ক্রেতা বাংলাদেশি কারখানায় মালিকানা যেকোনো দাশা পাড়ি জমা উদ্যোগ নি ক্রমাগত রাজনৈতিক হানাহানি সহিংসতা ত্বরান্বিত শ্রমিক অবিশ্বাস্য পরিমাণ মজুরি জীবন নির্বাহ পুরো শিল্প ভয়াবহ ধরন অসন্তোষ অস্থিরতা বিরাজ বস্তুত বাংলাদেশ পোশাকশিল্প বারু স্তূপ ওপর দাঁড়িয় যেকোনো বিস্ফোরণ ঘট বাধ্য কনফারেন্স অংশহণকারী প্রশ্নবাণ মুখোমুখি আমেরিকান ভদ্রলোক কথা বিজিএমইএর সভাপতির ভাসা ওঠ দেশ ভাবমূর্তি রক্ষ খাতির রানা প্লাজা ট্র্যাজেডির প্রচারণা আহ্বান জানান উলানবাটোর একদল বিদেশি অপিনিয়নমেক আলাপ অভিজ্ঞতা সুস্পষ্ট বিজিএমইএর সভাপতি চাইল সরক সর্বশক্তি নিয়োগ করল ধরন ঘটনা ধামাচাপা আন্তর্জাতিক মিডিয়া প্রচ কর তৈরি পোশাক ভোক্তা ক্রেতা প্রশ্ন তুল হাসা ভোক্তা একধরন ব্যক্তিগত দায়দায়িত্ব অনুভব সভাপতি সরক করণীয় ধরন ঘটনা ঘট ধরন মানবসৃষ্ট ট্র্যাজেডির পুনরাবৃত্তি ঘটল বাংলাদেশ ভাবমূর্তি উজ্জ্বল অত্যন্ত জরুরি ইতিহাস দাশা প্রথমদি শিল্পকারখানা উঠ শ্রমিক ত্যাগ বিনিময় একপর্যায় উৎপাদ শ্রমিক মনোযোগী ব্যবস নিয়মকানুন তুল সরক করণীয় দুর্ভাগ্যবশত বাংা লক্ষণ দাশা ব্যবসায় রাজনীতিকীকরণ হয়েছেআমা ব্যবসায়ী রাজনীতি রাজনীতিবিদ পড় ব্যবসায়ী রাজনীতি লাভজনক ব্যবসায় সংস দুইতৃতীয়াংশ ব্যবসায়ী রাজনীতি পরিচালিত বহুলাংশ ব্যবসায়ী এসব স্বল্প ব্যতিক্রম বাংলাদেশ অধিকাংশ ব্যবসা ভালো চল রাজনীতি পড় রাজনীতিবিদব্যবসায়ীআমলা যোগসাজশ নষ্ট দুর্বৃত্তায়িত নষ্ট রাজনীতির মূল ক্ষমতাধর ক্ষমত অপব্যবহ দুর্নীতি যুক্ত আশ্রয়প্রশ্রয় বস্তুত বাংলাদেশ দুর্নীতির অন্যতম বাহন ফায়দাবাজি দলবাজি সোহ রান কথা যাক মিডিয় প্রতিবেদন জনৈক রবীন্দ্র সাহ জমি খাল দখল রানা প্লাজা তোলা রবীন্দ্র সাহা কর সরক আমল প্রতিক পাননি রান পরিব বিএনপির রাজনীতির জড়িত ছাত্রলীগ যুবলীগ নেতা হাসা সরক ফায়দা পেয় রানা অন্যায়ভাব সম্প পাহাড় তুল এমপি প্রশাসন সহায়তায় রক্ষা অর্থাৎ সরক নগ্ন ফায়দা দলতন্ত্রচর্চ রানা অন্যায় সুযোগসুবিধা নিয়মনীতি অমান্য অপরাধ পেয় বলাবাহুল্য নষ্ট রাজনীতির দুষ্ট ছোবল দশ ধরন অসংখ্য রানা দাশা সৃষ্ যাঁ ক্ষমতাধর গডফাদ সা দাশা একধরন অরাজক পরিস্থিতি তুলছ প্রসঙ্গত সরক দুঃশাসন অতিষ্ঠ জনগণ দুর্নীতি পরিহ সুশাসন প্রতিষ্ঠ অঙ্গীক ভিত্তি মহাজোট সরক নির্বাচন মহাবিজয় উপহ দিয় দুর্ভাগ্যবশত অরাজক অবস্থ ইতিবাচক পরিবর্তন ঘটেনি অবনতি ঘট পািা মানব উন্নয়ন সূচ বাংলাদেশ সফলতা তাক লাগিয় পোশাকশিল্প সমৃদ্ধি বিস্তৃতি ঈর্ষ দাঁড়িয় অর্থনৈতিক দিক বাংলাদেশ অভাবনীয় উজ্জ্বল ভবিষ্যৎ অপেক্ষা আশঙ্কা দ্রুত ফায়দাতন্ত্রদলতন্ত্র দুর্নীতির অবসান ন্যায়পরায়ণতা শাসন সুশাসন কায়েম পারল মানব উন্নয়ন সফলতা অব্যাহত তৈরি পোশাকশিল্প বাঁচা অর্থনৈতিক অপেক্ষমাণ উজ্জ্বল ভবিষ্যৎ বাস্তব রূপায়িত এসব অনাকাঙ্ক্ষিত অঘটন এড়া জরুরি ভিত্তি বিরাজমান অপরাজনীতির অবসান গুণগত ব্যাপক পরিবর্তন বদিউল আলম মজুমদ সম্পাদক সুশাসন নাগরিক সুজন\n",
            "\n",
            "Sentence Tokenized and Converted into Sequence :--> \n",
            "\n",
            "[1098, 955, 2446, 9117, 115, 71748, 601, 101506, 9, 3158, 853, 2688, 261, 6654, 2212, 2076, 140944, 3460, 35319, 3460, 184, 1367, 189, 647, 2882, 4550, 8592, 4758, 2564, 4393, 140945, 58016, 942, 9, 290, 1083, 290, 21, 6848, 352, 39, 941, 39904, 3475, 3090, 1466, 209, 310, 4, 825, 32, 20381, 425, 2593, 4, 941, 3, 4090, 955, 2446, 14128, 16601, 222, 12267, 185, 3460, 3253, 189, 2973, 1299, 60, 1632, 3153, 6114, 1315, 4137, 1022, 195, 299, 11538, 9633, 2973, 140946, 189, 4, 99, 638, 6172, 6052, 2377, 99, 8115, 79, 1440, 995, 19, 4101, 2977, 1216, 5780, 993, 1932, 1559, 1022, 1231, 80, 4628, 1565, 3, 335, 222, 53, 3, 5742, 906, 2242, 753, 3270, 189, 987, 999, 13, 993, 189, 9448, 121, 189, 13993, 831, 77, 79, 2742, 7, 4, 99, 3552, 268, 222, 4868, 81, 242, 5473, 6331, 2651, 99, 638, 659, 11453, 2651, 50, 115, 1559, 1676, 3552, 20999, 1676, 300, 914, 2348, 21354, 3080, 27724, 230, 9074, 8199, 8480, 4, 99, 3552, 74, 230, 351, 71748, 3721, 2281, 1552, 3, 230, 270, 2659, 3742, 21000, 232, 2383, 4381, 4738, 47, 1063, 5473, 2651, 4738, 47, 423, 4085, 72, 530, 3777, 49834, 24120, 47, 4, 3, 174, 2108, 438, 15, 1862, 230, 16245, 184, 9, 5960, 7427, 12849, 282, 2154, 3, 174, 2108, 5331, 292, 2108, 4, 535, 978, 53504, 5742, 824, 176, 11684, 1884, 106, 1623, 30, 2108, 3103, 30, 3, 47, 11032, 189, 99, 3552, 230, 930, 423, 89, 12945, 21701, 12545, 2065, 26, 2481, 602, 999, 3, 62, 1817, 7763, 20, 4, 99, 638, 2742, 6172, 230, 4159, 6310, 2272, 1504, 724, 1760, 7512, 724, 659, 410, 954, 759, 410, 40, 1304, 156, 854, 496, 284, 31, 3, 13745, 755, 724, 99, 638, 236, 323, 3710, 4086, 2028, 954, 410, 18940, 230, 12546, 7, 31, 616, 4086, 6079, 7708, 408, 83112, 38, 83113, 3710, 2213, 31, 659, 9397, 2112, 6115, 1693, 3325, 3710, 1316, 7763, 4, 99, 3552, 1756, 222, 1411, 10116, 7, 8, 530, 1504, 759, 6092, 3743, 967, 61, 6608, 540, 238, 66, 4671, 65, 6714, 887, 5842, 230, 5331, 447, 2300, 163, 8880, 468, 438, 4356, 80, 4036, 2992, 3436, 6635, 4, 3552, 26391, 9754, 40, 1681, 967, 1275, 115, 900, 3460, 140947, 49835, 710, 2742, 7763, 7, 4149, 2963, 2044, 328, 9, 2735, 1574, 8234, 955, 2446, 14128, 1977, 172, 8, 101506, 1792, 530, 140948, 2625, 956, 4183, 4149, 70, 323, 3, 12004, 1862, 351, 80, 50, 9755, 161, 5314, 597, 38, 99, 638, 6172, 1504, 53, 423, 25, 6172, 3020, 754, 12359, 2743, 70, 3, 7397, 80, 50, 115, 80, 15121, 14128, 4433, 2383, 4, 2735, 1987, 948, 399, 393, 61, 12642, 5960, 135, 230, 1592, 3325, 3620, 46720, 230, 5942, 3302, 13263, 423, 3, 7397, 15441, 213, 3476, 61, 5351, 53505, 140949, 1466, 332, 1773, 171, 1466, 332, 5246, 5351, 434, 18186, 1466, 332, 798, 16778, 1466, 83, 2795, 3568, 4, 914, 691, 91, 102, 332, 171, 140950, 8447, 1116, 83114, 1116, 998, 300, 7709, 1198, 3353, 388, 670, 30920, 6635, 4, 866, 478, 7513, 140951, 19787, 1328, 28, 7, 2205, 12463, 154, 11229, 4231, 6345, 639, 1492, 619, 955, 2446, 1063, 4231, 1309, 38, 3, 626, 3909, 1721, 28, 153, 51, 998, 1498, 343, 1317, 27, 25, 3, 18438, 701, 955, 17762, 2112, 3824, 423, 2344, 409, 6636, 452, 843, 3, 9503, 18438, 140952, 955, 5603, 3742, 16246, 6013, 366, 701, 30921, 1116, 998, 11101, 14413, 774, 80, 1970, 955, 61, 192, 2301, 7709, 9449, 184, 61, 3020, 13378, 246, 9397, 4160, 3, 10676, 8678, 132, 388, 3801, 2580, 1311, 1742, 424, 1342, 3, 14, 63918, 1445, 1182, 15441, 13378, 1347, 1117, 256, 2964, 2788, 115, 2377, 2870, 854, 3279, 4, 4337, 6080, 5193, 3552, 6133, 12268, 36688, 1681, 500, 435, 4, 16433, 1987, 1756, 748, 847, 342, 140953, 866, 1789, 53506, 894, 2580, 12946, 669, 2870, 854, 4337, 731, 99, 3552, 1917, 500, 9566, 1987, 1756, 1613, 46721, 83, 7622, 4698, 6753, 399, 424, 6204, 22793, 1789, 4449, 599, 256, 7824, 187, 1399, 67, 2580, 405, 3081]\n",
            "\n",
            "After Padding the Sequence with padding length 100 :--> \n",
            "\n",
            "[   0    0    0 ... 2580  405 3081]\n"
          ],
          "name": "stdout"
        }
      ]
    },
    {
      "cell_type": "code",
      "metadata": {
        "papermill": {
          "duration": 0.021501,
          "end_time": "2020-08-29T09:36:27.546874",
          "exception": false,
          "start_time": "2020-08-29T09:36:27.525373",
          "status": "completed"
        },
        "tags": [],
        "trusted": true,
        "id": "efVcUj5xmVkr",
        "colab": {
          "base_uri": "https://localhost:8080/"
        },
        "outputId": "f5cf17c5-a3a7-40ee-ccc9-6d14ed52d416"
      },
      "source": [
        "print(\"Padded shape(training): \"+str(padded.shape))\n",
        "print(\"Padded shape(testing): \"+str(testing_padded.shape))"
      ],
      "execution_count": null,
      "outputs": [
        {
          "output_type": "stream",
          "text": [
            "Padded shape(training): (70943, 4000)\n",
            "Padded shape(testing): (17736, 4000)\n"
          ],
          "name": "stdout"
        }
      ]
    },
    {
      "cell_type": "code",
      "metadata": {
        "papermill": {
          "duration": 1.676288,
          "end_time": "2020-08-29T09:36:29.256866",
          "exception": false,
          "start_time": "2020-08-29T09:36:27.580578",
          "status": "completed"
        },
        "tags": [],
        "trusted": true,
        "id": "ct6vLKXdmVks",
        "colab": {
          "base_uri": "https://localhost:8080/"
        },
        "outputId": "dbb95a8a-6a21-41d4-f9ba-27f43687d8c8"
      },
      "source": [
        "model= Sequential()\n",
        "model.add(Embedding(vocab_size, embedding_dim, input_length=max_length))\n",
        "#model.add(Conv1D(200, kernel_size=3, activation = \"relu\"))\n",
        "model.add(Bidirectional(LSTM(64, return_sequences=True)))\n",
        "#model.add(Dropout(0.5))\n",
        "model.add(Bidirectional(LSTM(64)))\n",
        "model.add(Flatten())\n",
        "\n",
        "\n",
        "\n",
        "\n",
        "#model.add(Flatten())\n",
        "#l2 regularizer\n",
        "model.add(Dense(20,kernel_regularizer=regularizers.l2(0.01),activation=\"relu\"))\n",
        "#model.add(Flatten())\n",
        "model.add(Dense(12, activation='softmax'))\n",
        "#sgd= SGD(lr=0.0001,decay=1e-6,momentum=0.9,nesterov=True)\n",
        "adam=Adam(learning_rate=0.0005,beta_1=0.9,beta_2=0.999,epsilon=1e-07,amsgrad=False)\n",
        "model.summary()\n",
        "model.compile(loss='categorical_crossentropy',optimizer=adam,metrics=['accuracy'])\n",
        "#lstm"
      ],
      "execution_count": null,
      "outputs": [
        {
          "output_type": "stream",
          "text": [
            "Model: \"sequential\"\n",
            "_________________________________________________________________\n",
            "Layer (type)                 Output Shape              Param #   \n",
            "=================================================================\n",
            "embedding (Embedding)        (None, 4000, 300)         60000000  \n",
            "_________________________________________________________________\n",
            "bidirectional (Bidirectional (None, 4000, 128)         186880    \n",
            "_________________________________________________________________\n",
            "bidirectional_1 (Bidirection (None, 128)               98816     \n",
            "_________________________________________________________________\n",
            "flatten (Flatten)            (None, 128)               0         \n",
            "_________________________________________________________________\n",
            "dense (Dense)                (None, 20)                2580      \n",
            "_________________________________________________________________\n",
            "dense_1 (Dense)              (None, 12)                252       \n",
            "=================================================================\n",
            "Total params: 60,288,528\n",
            "Trainable params: 60,288,528\n",
            "Non-trainable params: 0\n",
            "_________________________________________________________________\n"
          ],
          "name": "stdout"
        }
      ]
    },
    {
      "cell_type": "code",
      "metadata": {
        "colab": {
          "base_uri": "https://localhost:8080/"
        },
        "id": "pdZG1dmel3FA",
        "outputId": "d09a30fd-ebae-4b2d-d623-b55f0dc2b9c0"
      },
      "source": [
        "history=model.fit(padded,train_labels,epochs=5,batch_size=128,validation_data=(testing_padded,test_labels),use_multiprocessing=True, workers=8)"
      ],
      "execution_count": null,
      "outputs": [
        {
          "output_type": "stream",
          "text": [
            "Epoch 1/5\n",
            "555/555 [==============================] - 951s 2s/step - loss: 1.9394 - accuracy: 0.4425 - val_loss: 1.3016 - val_accuracy: 0.6560\n",
            "Epoch 2/5\n",
            "555/555 [==============================] - 921s 2s/step - loss: 1.0379 - accuracy: 0.7218 - val_loss: 0.9349 - val_accuracy: 0.7566\n",
            "Epoch 3/5\n",
            "555/555 [==============================] - 920s 2s/step - loss: 0.7555 - accuracy: 0.8099 - val_loss: 0.8851 - val_accuracy: 0.7698\n",
            "Epoch 4/5\n",
            "555/555 [==============================] - 922s 2s/step - loss: 0.6739 - accuracy: 0.8376 - val_loss: 0.8075 - val_accuracy: 0.8017\n",
            "Epoch 5/5\n",
            "555/555 [==============================] - 926s 2s/step - loss: 0.4612 - accuracy: 0.9046 - val_loss: 0.7527 - val_accuracy: 0.8160\n"
          ],
          "name": "stdout"
        }
      ]
    },
    {
      "cell_type": "code",
      "metadata": {
        "papermill": {
          "duration": 0.496359,
          "end_time": "2020-08-29T09:38:38.037405",
          "exception": false,
          "start_time": "2020-08-29T09:38:37.541046",
          "status": "completed"
        },
        "tags": [],
        "trusted": true,
        "id": "7Kl-J9PsmVkt",
        "colab": {
          "base_uri": "https://localhost:8080/",
          "height": 588
        },
        "outputId": "9bdab019-de09-432b-e8a6-809f145368b8"
      },
      "source": [
        "print(history.history.keys())\n",
        "loss = history.history['loss']\n",
        "val_loss = history.history['val_loss']\n",
        "plt.plot(loss)\n",
        "plt.plot(val_loss)\n",
        "plt.title('model loss')\n",
        "plt.ylabel('loss')\n",
        "plt.xlabel('epoch')\n",
        "plt.legend(['loss', 'val_loss'])\n",
        "plt.show()\n",
        "\n",
        "accuracy = history.history['accuracy']\n",
        "val_accuracy= history.history['val_accuracy']\n",
        "plt.plot(accuracy)\n",
        "plt.plot(val_accuracy)\n",
        "plt.title('model accuracy')\n",
        "plt.ylabel('accuracy')\n",
        "plt.xlabel('epoch')\n",
        "plt.legend(['accuracy', 'val_accuracy'])\n",
        "plt.show()"
      ],
      "execution_count": null,
      "outputs": [
        {
          "output_type": "stream",
          "text": [
            "dict_keys(['loss', 'accuracy', 'val_loss', 'val_accuracy'])\n"
          ],
          "name": "stdout"
        },
        {
          "output_type": "display_data",
          "data": {
            "image/png": "[encoded data removed]",
            "text/plain": [
              "<Figure size 432x288 with 1 Axes>"
            ]
          },
          "metadata": {
            "tags": [],
            "needs_background": "light"
          }
        },
        {
          "output_type": "display_data",
          "data": {
            "image/png": "[encoded data removed]",
            "text/plain": [
              "<Figure size 432x288 with 1 Axes>"
            ]
          },
          "metadata": {
            "tags": [],
            "needs_background": "light"
          }
        }
      ]
    },
    {
      "cell_type": "code",
      "metadata": {
        "papermill": {
          "duration": 0.020894,
          "end_time": "2020-08-29T09:38:45.908871",
          "exception": false,
          "start_time": "2020-08-29T09:38:45.887977",
          "status": "completed"
        },
        "tags": [],
        "id": "7HFnbSGUmVku"
      },
      "source": [
        "predictions = model.predict(testing_padded)\n",
        "pred1 = np.argmax(predictions , axis=1)"
      ],
      "execution_count": null,
      "outputs": []
    },
    {
      "cell_type": "code",
      "metadata": {
        "colab": {
          "base_uri": "https://localhost:8080/"
        },
        "id": "NqM31EXnXpy9",
        "outputId": "566e686b-5baa-4ad6-c6d7-6df4ba5c3c31"
      },
      "source": [
        "%%time\n",
        "score = model.evaluate(testing_padded, test_labels , batch_size = 128)\n",
        "print()\n",
        "\n",
        "print(\"ACCURACY:\",score[1])\n",
        "print(\"LOSS:\",score[0])"
      ],
      "execution_count": null,
      "outputs": [
        {
          "output_type": "stream",
          "text": [
            "139/139 [==============================] - 61s 437ms/step - loss: 0.7527 - accuracy: 0.8160\n",
            "\n",
            "ACCURACY: 0.8159675002098083\n",
            "LOSS: 0.7526935935020447\n",
            "CPU times: user 55.4 s, sys: 6.53 s, total: 1min 1s\n",
            "Wall time: 1min 21s\n"
          ],
          "name": "stdout"
        }
      ]
    },
    {
      "cell_type": "code",
      "metadata": {
        "id": "EeOkUcpyZyjC"
      },
      "source": [
        "from sklearn.metrics import confusion_matrix, classification_report, accuracy_score"
      ],
      "execution_count": null,
      "outputs": []
    },
    {
      "cell_type": "code",
      "metadata": {
        "id": "rKN57VdYaEOo"
      },
      "source": [
        "test_labels = np.argmax(test_labels,axis=1)"
      ],
      "execution_count": null,
      "outputs": []
    },
    {
      "cell_type": "code",
      "metadata": {
        "id": "1vhbFScwYAm6",
        "colab": {
          "base_uri": "https://localhost:8080/"
        },
        "outputId": "d49602e3-0192-4c9b-ebb7-5a4adae26714"
      },
      "source": [
        "print(confusion_matrix(test_labels , pred1 ,normalize=None))"
      ],
      "execution_count": null,
      "outputs": [
        {
          "output_type": "stream",
          "text": [
            "[[1009    1   95    1   11    7   15    7   16   25    2   13]\n",
            " [   3  128    8    3   20  141   69    2   23   10    1   15]\n",
            " [  18    2 1467    7   25   24   15   19   20   88    6    8]\n",
            " [   2   22    4  427    4    4   31   22   26   32   74    1]\n",
            " [   2    8   19    2 1815   26   60    2   93  114    1   23]\n",
            " [   4   94   37    7   45 1479   45    2   22   25    4   17]\n",
            " [  15   11   34    3   75   18  435    5   61   52    3   10]\n",
            " [  10    7   17   25    4    2   20  730  107   14   35   25]\n",
            " [   6   12   18    7   88   15   92   22 1181   92    5   12]\n",
            " [   9    5   65   13   63   15   41   21  136 3320    8   12]\n",
            " [  10    7   17   51    5   15   29   31   17    7  364    4]\n",
            " [   4    8   23   15   18   46   10    5    9   26    3 2117]]\n"
          ],
          "name": "stdout"
        }
      ]
    },
    {
      "cell_type": "code",
      "metadata": {
        "colab": {
          "base_uri": "https://localhost:8080/"
        },
        "id": "GL1VKns_Zbc4",
        "outputId": "c315b505-7caa-4fb8-a600-91ecdefc1303"
      },
      "source": [
        "print(classification_report(test_labels , pred1,digits=5))"
      ],
      "execution_count": null,
      "outputs": [
        {
          "output_type": "stream",
          "text": [
            "              precision    recall  f1-score   support\n",
            "\n",
            "           0    0.92399   0.83943   0.87969      1202\n",
            "           1    0.41967   0.30260   0.35165       423\n",
            "           2    0.81319   0.86345   0.83757      1699\n",
            "           3    0.76114   0.65794   0.70579       649\n",
            "           4    0.83525   0.83834   0.83679      2165\n",
            "           5    0.82533   0.83043   0.82788      1781\n",
            "           6    0.50464   0.60249   0.54924       722\n",
            "           7    0.84101   0.73293   0.78326       996\n",
            "           8    0.69024   0.76194   0.72432      1550\n",
            "           9    0.87254   0.89536   0.88380      3708\n",
            "          10    0.71937   0.65350   0.68485       557\n",
            "          11    0.93797   0.92688   0.93239      2284\n",
            "\n",
            "    accuracy                        0.81597     17736\n",
            "   macro avg    0.76203   0.74211   0.74977     17736\n",
            "weighted avg    0.81711   0.81597   0.81534     17736\n",
            "\n"
          ],
          "name": "stdout"
        }
      ]
    },
    {
      "cell_type": "code",
      "metadata": {
        "colab": {
          "base_uri": "https://localhost:8080/"
        },
        "id": "P6648lmjZixZ",
        "outputId": "e6e6f760-9239-42a5-f52d-3e69329ae273"
      },
      "source": [
        "accuracy_score(test_labels , pred1)"
      ],
      "execution_count": null,
      "outputs": [
        {
          "output_type": "execute_result",
          "data": {
            "text/plain": [
              "0.8159675236806495"
            ]
          },
          "metadata": {
            "tags": []
          },
          "execution_count": 44
        }
      ]
    },
    {
      "cell_type": "code",
      "metadata": {
        "id": "qBuhpZwkUWGq"
      },
      "source": [
        ""
      ],
      "execution_count": null,
      "outputs": []
    }
  ]
}