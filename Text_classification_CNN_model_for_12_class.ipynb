{
  "nbformat": 4,
  "nbformat_minor": 0,
  "metadata": {
    "kernelspec": {
      "language": "python",
      "display_name": "Python 3",
      "name": "python3"
    },
    "language_info": {
      "name": "python",
      "version": "3.7.10",
      "mimetype": "text/x-python",
      "codemirror_mode": {
        "name": "ipython",
        "version": 3
      },
      "pygments_lexer": "ipython3",
      "nbconvert_exporter": "python",
      "file_extension": ".py"
    },
    "colab": {
      "name": "Text classification CNN model for 12 class.ipynb",
      "provenance": [],
      "collapsed_sections": []
    },
    "accelerator": "GPU"
  },
  "cells": [
    {
      "cell_type": "code",
      "metadata": {
        "id": "NZxIEppKsEkN",
        "colab": {
          "resources": {
            "http://localhost:8080/nbextensions/google.colab/files.js": {
              "data": "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",
              "ok": true,
              "headers": [
                [
                  "content-type",
                  "application/javascript"
                ]
              ],
              "status": 200,
              "status_text": ""
            }
          },
          "base_uri": "https://localhost:8080/",
          "height": 248
        },
        "outputId": "af332c6d-c372-407a-8843-762dd0a8e8ba"
      },
      "source": [
        "!pip install kaggle\n",
        "from google.colab import files \n",
        "#files.open('/content/drive/MyDrive/Colab Notebooks/json kaggle')\n",
        "files.upload() #download and upload json file\n",
        "\n",
        "\n",
        "\n",
        "!mkdir -p ~/.kaggle\n",
        "!cp kaggle.json ~/.kaggle/\n",
        "\n",
        "!chmod 600 ~/.kaggle/kaggle.json"
      ],
      "execution_count": null,
      "outputs": [
        {
          "output_type": "stream",
          "text": [
            "Requirement already satisfied: kaggle in /usr/local/lib/python3.7/dist-packages (1.5.12)\n",
            "Requirement already satisfied: python-dateutil in /usr/local/lib/python3.7/dist-packages (from kaggle) (2.8.1)\n",
            "Requirement already satisfied: six>=1.10 in /usr/local/lib/python3.7/dist-packages (from kaggle) (1.15.0)\n",
            "Requirement already satisfied: urllib3 in /usr/local/lib/python3.7/dist-packages (from kaggle) (1.24.3)\n",
            "Requirement already satisfied: requests in /usr/local/lib/python3.7/dist-packages (from kaggle) (2.23.0)\n",
            "Requirement already satisfied: python-slugify in /usr/local/lib/python3.7/dist-packages (from kaggle) (5.0.2)\n",
            "Requirement already satisfied: tqdm in /usr/local/lib/python3.7/dist-packages (from kaggle) (4.41.1)\n",
            "Requirement already satisfied: certifi in /usr/local/lib/python3.7/dist-packages (from kaggle) (2021.5.30)\n",
            "Requirement already satisfied: chardet<4,>=3.0.2 in /usr/local/lib/python3.7/dist-packages (from requests->kaggle) (3.0.4)\n",
            "Requirement already satisfied: idna<3,>=2.5 in /usr/local/lib/python3.7/dist-packages (from requests->kaggle) (2.10)\n",
            "Requirement already satisfied: text-unidecode>=1.3 in /usr/local/lib/python3.7/dist-packages (from python-slugify->kaggle) (1.3)\n"
          ],
          "name": "stdout"
        },
        {
          "output_type": "display_data",
          "data": {
            "text/html": [
              "\n",
              "     <input type=\"file\" id=\"files-1da6bd39-c534-44d6-b2f3-1e1fecec2149\" name=\"files[]\" multiple disabled\n",
              "        style=\"border:none\" />\n",
              "     <output id=\"result-1da6bd39-c534-44d6-b2f3-1e1fecec2149\">\n",
              "      Upload widget is only available when the cell has been executed in the\n",
              "      current browser session. Please rerun this cell to enable.\n",
              "      </output>\n",
              "      <script src=\"/nbextensions/google.colab/files.js\"></script> "
            ],
            "text/plain": [
              "<IPython.core.display.HTML object>"
            ]
          },
          "metadata": {
            "tags": []
          }
        },
        {
          "output_type": "stream",
          "text": [
            "Saving kaggle.json to kaggle.json\n"
          ],
          "name": "stdout"
        }
      ]
    },
    {
      "cell_type": "code",
      "metadata": {
        "id": "p1qlXqzisFxs",
        "colab": {
          "base_uri": "https://localhost:8080/"
        },
        "outputId": "51f59513-393b-4f3a-89b5-9ed595ff2f8d"
      },
      "source": [
        "!kaggle datasets download -d samratalam/stemmed-20-times-dataset"
      ],
      "execution_count": null,
      "outputs": [
        {
          "output_type": "stream",
          "text": [
            "Downloading stemmed-20-times-dataset.zip to /content\n",
            "100% 62.0M/62.2M [00:02<00:00, 17.4MB/s]\n",
            "100% 62.2M/62.2M [00:02<00:00, 30.1MB/s]\n"
          ],
          "name": "stdout"
        }
      ]
    },
    {
      "cell_type": "code",
      "metadata": {
        "id": "PttD-dBTsF1V",
        "colab": {
          "base_uri": "https://localhost:8080/"
        },
        "outputId": "e4c1c871-ab5b-40d5-c3ee-994336dfbdaf"
      },
      "source": [
        "#to unzip file\n",
        "\n",
        "from zipfile import ZipFile\n",
        "file_name= \"stemmed-20-times-dataset.zip\"\n",
        "\n",
        "with ZipFile(file_name ,'r') as zip:\n",
        "  zip.extractall()\n",
        "  print('Done')"
      ],
      "execution_count": null,
      "outputs": [
        {
          "output_type": "stream",
          "text": [
            "Done\n"
          ],
          "name": "stdout"
        }
      ]
    },
    {
      "cell_type": "code",
      "metadata": {
        "papermill": {
          "duration": 8.634984,
          "end_time": "2020-08-29T09:36:24.626494",
          "exception": false,
          "start_time": "2020-08-29T09:36:15.99151",
          "status": "completed"
        },
        "tags": [],
        "trusted": true,
        "id": "CsrHQU7xmVkK"
      },
      "source": [
        "import pandas as pd\n",
        "from pandas import read_excel\n",
        "import numpy as np\n",
        "import re\n",
        "from re import sub\n",
        "import multiprocessing\n",
        "#from unidecode import unidecode\n",
        "import os\n",
        "from time import time \n",
        "import tensorflow as tf\n",
        "import keras\n",
        "from keras.models import Sequential\n",
        "from keras.layers import LSTM,Dense,Dropout,Activation,Embedding,Flatten,Bidirectional,MaxPooling2D, Conv1D, MaxPooling1D\n",
        "from keras.optimizers import SGD,Adam\n",
        "from keras import regularizers\n",
        "from keras.preprocessing.text import Tokenizer\n",
        "from keras.preprocessing.sequence import pad_sequences\n",
        "from keras.utils.np_utils import to_categorical\n",
        "import h5py\n",
        "import csv\n",
        "import seaborn as sns\n",
        "import matplotlib.pyplot as plt\n",
        "from sklearn.model_selection import train_test_split\n",
        "from sklearn.model_selection import StratifiedKFold"
      ],
      "execution_count": null,
      "outputs": []
    },
    {
      "cell_type": "code",
      "metadata": {
        "colab": {
          "base_uri": "https://localhost:8080/",
          "height": 35
        },
        "id": "gTOEBXe91DVt",
        "outputId": "0aabdca4-2dd4-4ff8-b49f-a3326d4fff9d"
      },
      "source": [
        "'''\n",
        "!pip install wandb\n",
        "import wandb\n",
        "wandb.init()\n",
        "'''"
      ],
      "execution_count": null,
      "outputs": [
        {
          "output_type": "execute_result",
          "data": {
            "application/vnd.google.colaboratory.intrinsic+json": {
              "type": "string"
            },
            "text/plain": [
              "'\\n!pip install wandb\\nimport wandb\\nwandb.init()\\n'"
            ]
          },
          "metadata": {
            "tags": []
          },
          "execution_count": 5
        }
      ]
    },
    {
      "cell_type": "code",
      "metadata": {
        "papermill": {
          "duration": 1.040497,
          "end_time": "2020-08-29T09:36:25.755049",
          "exception": false,
          "start_time": "2020-08-29T09:36:24.714552",
          "status": "completed"
        },
        "tags": [],
        "trusted": true,
        "id": "kYXrrC-fmVki",
        "colab": {
          "base_uri": "https://localhost:8080/",
          "height": 408
        },
        "outputId": "3b0ceb41-14dc-4659-afd2-98f25e9ecba2"
      },
      "source": [
        "df=pd.read_csv('/content/strem_20_times_data_clen.csv')\n",
        "\n",
        "df.drop(columns=['Unnamed: 0'],inplace=True)\n",
        "display(df)"
      ],
      "execution_count": null,
      "outputs": [
        {
          "output_type": "display_data",
          "data": {
            "text/html": [
              "<div>\n",
              "<style scoped>\n",
              "    .dataframe tbody tr th:only-of-type {\n",
              "        vertical-align: middle;\n",
              "    }\n",
              "\n",
              "    .dataframe tbody tr th {\n",
              "        vertical-align: top;\n",
              "    }\n",
              "\n",
              "    .dataframe thead th {\n",
              "        text-align: right;\n",
              "    }\n",
              "</style>\n",
              "<table border=\"1\" class=\"dataframe\">\n",
              "  <thead>\n",
              "    <tr style=\"text-align: right;\">\n",
              "      <th></th>\n",
              "      <th>Sentence</th>\n",
              "      <th>Sentiment</th>\n",
              "      <th>length</th>\n",
              "    </tr>\n",
              "  </thead>\n",
              "  <tbody>\n",
              "    <tr>\n",
              "      <th>0</th>\n",
              "      <td>গ্রেগর সামসা সেলস্ম্যান সকাল ঘুম উঠ তেলাপোকা ব...</td>\n",
              "      <td>2</td>\n",
              "      <td>45477</td>\n",
              "    </tr>\n",
              "    <tr>\n",
              "      <th>1</th>\n",
              "      <td>গ্রেগর সামসা সেলস্ম্যান সকাল ঘুম উঠ তেলাপোকা ব...</td>\n",
              "      <td>1</td>\n",
              "      <td>45477</td>\n",
              "    </tr>\n",
              "    <tr>\n",
              "      <th>2</th>\n",
              "      <td>জাতী সংসদ বাজেট আলোচনা বিরোধীদলী নেতা দেশনেত্র...</td>\n",
              "      <td>4</td>\n",
              "      <td>33176</td>\n",
              "    </tr>\n",
              "    <tr>\n",
              "      <th>3</th>\n",
              "      <td>জাতী সংসদ বাজেট আলোচনা বিরোধীদলী নেতা দেশনেত্র...</td>\n",
              "      <td>8</td>\n",
              "      <td>33176</td>\n",
              "    </tr>\n",
              "    <tr>\n",
              "      <th>4</th>\n",
              "      <td>জাতী সংসদ বাজেট আলোচনা বিরোধীদলী নেতা দেশনেত্র...</td>\n",
              "      <td>9</td>\n",
              "      <td>33176</td>\n",
              "    </tr>\n",
              "    <tr>\n",
              "      <th>...</th>\n",
              "      <td>...</td>\n",
              "      <td>...</td>\n",
              "      <td>...</td>\n",
              "    </tr>\n",
              "    <tr>\n",
              "      <th>95757</th>\n",
              "      <td>ঢাকা সেপ্ট</td>\n",
              "      <td>4</td>\n",
              "      <td>10</td>\n",
              "    </tr>\n",
              "    <tr>\n",
              "      <th>95758</th>\n",
              "      <td>মারুফ মল্</td>\n",
              "      <td>6</td>\n",
              "      <td>9</td>\n",
              "    </tr>\n",
              "    <tr>\n",
              "      <th>95759</th>\n",
              "      <td>মারুফ মল্</td>\n",
              "      <td>6</td>\n",
              "      <td>9</td>\n",
              "    </tr>\n",
              "    <tr>\n",
              "      <th>95760</th>\n",
              "      <td>লਫন৴ োম</td>\n",
              "      <td>2</td>\n",
              "      <td>7</td>\n",
              "    </tr>\n",
              "    <tr>\n",
              "      <th>95761</th>\n",
              "      <td>সাতক্ষী</td>\n",
              "      <td>2</td>\n",
              "      <td>7</td>\n",
              "    </tr>\n",
              "  </tbody>\n",
              "</table>\n",
              "<p>95762 rows × 3 columns</p>\n",
              "</div>"
            ],
            "text/plain": [
              "                                                Sentence  Sentiment  length\n",
              "0      গ্রেগর সামসা সেলস্ম্যান সকাল ঘুম উঠ তেলাপোকা ব...          2   45477\n",
              "1      গ্রেগর সামসা সেলস্ম্যান সকাল ঘুম উঠ তেলাপোকা ব...          1   45477\n",
              "2      জাতী সংসদ বাজেট আলোচনা বিরোধীদলী নেতা দেশনেত্র...          4   33176\n",
              "3      জাতী সংসদ বাজেট আলোচনা বিরোধীদলী নেতা দেশনেত্র...          8   33176\n",
              "4      জাতী সংসদ বাজেট আলোচনা বিরোধীদলী নেতা দেশনেত্র...          9   33176\n",
              "...                                                  ...        ...     ...\n",
              "95757                                         ঢাকা সেপ্ট          4      10\n",
              "95758                                          মারুফ মল্          6       9\n",
              "95759                                          মারুফ মল্          6       9\n",
              "95760                                            লਫন৴ োম          2       7\n",
              "95761                                            সাতক্ষী          2       7\n",
              "\n",
              "[95762 rows x 3 columns]"
            ]
          },
          "metadata": {
            "tags": []
          }
        }
      ]
    },
    {
      "cell_type": "code",
      "metadata": {
        "id": "hflkCnK1VW77"
      },
      "source": [
        "\n"
      ],
      "execution_count": null,
      "outputs": []
    },
    {
      "cell_type": "code",
      "metadata": {
        "colab": {
          "base_uri": "https://localhost:8080/",
          "height": 35
        },
        "id": "VAxO5xcsWZe5",
        "outputId": "857d7ec8-e7e6-46b9-e054-5b175b5ad3c3"
      },
      "source": [
        "df.iloc[95119]['Sentence']"
      ],
      "execution_count": null,
      "outputs": [
        {
          "output_type": "execute_result",
          "data": {
            "application/vnd.google.colaboratory.intrinsic+json": {
              "type": "string"
            },
            "text/plain": [
              "'প্রি শিক্ষার্থী ইংরেজি পত্র নং প্রশ্ন প্রশ্ন শূন্যস্থান পূরণ নম্বর প্রভাষক ঢাকা রেসিডেনসিয়াল মড কলেজ'"
            ]
          },
          "metadata": {
            "tags": []
          },
          "execution_count": 7
        }
      ]
    },
    {
      "cell_type": "markdown",
      "metadata": {
        "id": "37yebWNefELa"
      },
      "source": [
        "# **Dataframe Null value **"
      ]
    },
    {
      "cell_type": "code",
      "metadata": {
        "colab": {
          "base_uri": "https://localhost:8080/",
          "height": 408
        },
        "id": "5hpahWjlWqKU",
        "outputId": "d3269def-c363-405d-aee3-66ead2b821b0"
      },
      "source": [
        "df.loc[df['length'] <= 100]"
      ],
      "execution_count": null,
      "outputs": [
        {
          "output_type": "execute_result",
          "data": {
            "text/html": [
              "<div>\n",
              "<style scoped>\n",
              "    .dataframe tbody tr th:only-of-type {\n",
              "        vertical-align: middle;\n",
              "    }\n",
              "\n",
              "    .dataframe tbody tr th {\n",
              "        vertical-align: top;\n",
              "    }\n",
              "\n",
              "    .dataframe thead th {\n",
              "        text-align: right;\n",
              "    }\n",
              "</style>\n",
              "<table border=\"1\" class=\"dataframe\">\n",
              "  <thead>\n",
              "    <tr style=\"text-align: right;\">\n",
              "      <th></th>\n",
              "      <th>Sentence</th>\n",
              "      <th>Sentiment</th>\n",
              "      <th>length</th>\n",
              "    </tr>\n",
              "  </thead>\n",
              "  <tbody>\n",
              "    <tr>\n",
              "      <th>95117</th>\n",
              "      <td>ইংরেজি পত্র লেসন প্রি শিক্ষার্থী ইংরেজি পত্র ল...</td>\n",
              "      <td>4</td>\n",
              "      <td>100</td>\n",
              "    </tr>\n",
              "    <tr>\n",
              "      <th>95118</th>\n",
              "      <td>প্রি শিক্ষার্থী ইংরেজি পত্র নম্বর প্রশ্ন আলোচন...</td>\n",
              "      <td>4</td>\n",
              "      <td>100</td>\n",
              "    </tr>\n",
              "    <tr>\n",
              "      <th>95119</th>\n",
              "      <td>প্রি শিক্ষার্থী ইংরেজি পত্র নং প্রশ্ন প্রশ্ন শ...</td>\n",
              "      <td>4</td>\n",
              "      <td>100</td>\n",
              "    </tr>\n",
              "    <tr>\n",
              "      <th>95120</th>\n",
              "      <td>প্রি শিক্ষার্থী ইংরেজি পত্র চর্চা কর মি নেব শি...</td>\n",
              "      <td>4</td>\n",
              "      <td>100</td>\n",
              "    </tr>\n",
              "    <tr>\n",
              "      <th>95121</th>\n",
              "      <td>রিয়াজুল বাশ মাহমুদ শরীফ বিডিনিউজ টোয়েন্টিফোর ড...</td>\n",
              "      <td>6</td>\n",
              "      <td>100</td>\n",
              "    </tr>\n",
              "    <tr>\n",
              "      <th>...</th>\n",
              "      <td>...</td>\n",
              "      <td>...</td>\n",
              "      <td>...</td>\n",
              "    </tr>\n",
              "    <tr>\n",
              "      <th>95757</th>\n",
              "      <td>ঢাকা সেপ্ট</td>\n",
              "      <td>4</td>\n",
              "      <td>10</td>\n",
              "    </tr>\n",
              "    <tr>\n",
              "      <th>95758</th>\n",
              "      <td>মারুফ মল্</td>\n",
              "      <td>6</td>\n",
              "      <td>9</td>\n",
              "    </tr>\n",
              "    <tr>\n",
              "      <th>95759</th>\n",
              "      <td>মারুফ মল্</td>\n",
              "      <td>6</td>\n",
              "      <td>9</td>\n",
              "    </tr>\n",
              "    <tr>\n",
              "      <th>95760</th>\n",
              "      <td>লਫন৴ োম</td>\n",
              "      <td>2</td>\n",
              "      <td>7</td>\n",
              "    </tr>\n",
              "    <tr>\n",
              "      <th>95761</th>\n",
              "      <td>সাতক্ষী</td>\n",
              "      <td>2</td>\n",
              "      <td>7</td>\n",
              "    </tr>\n",
              "  </tbody>\n",
              "</table>\n",
              "<p>645 rows × 3 columns</p>\n",
              "</div>"
            ],
            "text/plain": [
              "                                                Sentence  Sentiment  length\n",
              "95117  ইংরেজি পত্র লেসন প্রি শিক্ষার্থী ইংরেজি পত্র ল...          4     100\n",
              "95118  প্রি শিক্ষার্থী ইংরেজি পত্র নম্বর প্রশ্ন আলোচন...          4     100\n",
              "95119  প্রি শিক্ষার্থী ইংরেজি পত্র নং প্রশ্ন প্রশ্ন শ...          4     100\n",
              "95120  প্রি শিক্ষার্থী ইংরেজি পত্র চর্চা কর মি নেব শি...          4     100\n",
              "95121  রিয়াজুল বাশ মাহমুদ শরীফ বিডিনিউজ টোয়েন্টিফোর ড...          6     100\n",
              "...                                                  ...        ...     ...\n",
              "95757                                         ঢাকা সেপ্ট          4      10\n",
              "95758                                          মারুফ মল্          6       9\n",
              "95759                                          মারুফ মল্          6       9\n",
              "95760                                            লਫন৴ োম          2       7\n",
              "95761                                            সাতক্ষী          2       7\n",
              "\n",
              "[645 rows x 3 columns]"
            ]
          },
          "metadata": {
            "tags": []
          },
          "execution_count": 8
        }
      ]
    },
    {
      "cell_type": "code",
      "metadata": {
        "colab": {
          "base_uri": "https://localhost:8080/",
          "height": 408
        },
        "id": "OZszn05Kbvye",
        "outputId": "f5200480-750e-4f48-b30e-d6792842a0d7"
      },
      "source": [
        "df.drop(df[df['length'] < 100].index, inplace = True)\n",
        "display(df)"
      ],
      "execution_count": null,
      "outputs": [
        {
          "output_type": "display_data",
          "data": {
            "text/html": [
              "<div>\n",
              "<style scoped>\n",
              "    .dataframe tbody tr th:only-of-type {\n",
              "        vertical-align: middle;\n",
              "    }\n",
              "\n",
              "    .dataframe tbody tr th {\n",
              "        vertical-align: top;\n",
              "    }\n",
              "\n",
              "    .dataframe thead th {\n",
              "        text-align: right;\n",
              "    }\n",
              "</style>\n",
              "<table border=\"1\" class=\"dataframe\">\n",
              "  <thead>\n",
              "    <tr style=\"text-align: right;\">\n",
              "      <th></th>\n",
              "      <th>Sentence</th>\n",
              "      <th>Sentiment</th>\n",
              "      <th>length</th>\n",
              "    </tr>\n",
              "  </thead>\n",
              "  <tbody>\n",
              "    <tr>\n",
              "      <th>0</th>\n",
              "      <td>গ্রেগর সামসা সেলস্ম্যান সকাল ঘুম উঠ তেলাপোকা ব...</td>\n",
              "      <td>2</td>\n",
              "      <td>45477</td>\n",
              "    </tr>\n",
              "    <tr>\n",
              "      <th>1</th>\n",
              "      <td>গ্রেগর সামসা সেলস্ম্যান সকাল ঘুম উঠ তেলাপোকা ব...</td>\n",
              "      <td>1</td>\n",
              "      <td>45477</td>\n",
              "    </tr>\n",
              "    <tr>\n",
              "      <th>2</th>\n",
              "      <td>জাতী সংসদ বাজেট আলোচনা বিরোধীদলী নেতা দেশনেত্র...</td>\n",
              "      <td>4</td>\n",
              "      <td>33176</td>\n",
              "    </tr>\n",
              "    <tr>\n",
              "      <th>3</th>\n",
              "      <td>জাতী সংসদ বাজেট আলোচনা বিরোধীদলী নেতা দেশনেত্র...</td>\n",
              "      <td>8</td>\n",
              "      <td>33176</td>\n",
              "    </tr>\n",
              "    <tr>\n",
              "      <th>4</th>\n",
              "      <td>জাতী সংসদ বাজেট আলোচনা বিরোধীদলী নেতা দেশনেত্র...</td>\n",
              "      <td>9</td>\n",
              "      <td>33176</td>\n",
              "    </tr>\n",
              "    <tr>\n",
              "      <th>...</th>\n",
              "      <td>...</td>\n",
              "      <td>...</td>\n",
              "      <td>...</td>\n",
              "    </tr>\n",
              "    <tr>\n",
              "      <th>95125</th>\n",
              "      <td>জয়পুর জুন বিডিনিউজ টোয়েন্টিফোর ডটকমরয়টার্স চাক...</td>\n",
              "      <td>4</td>\n",
              "      <td>100</td>\n",
              "    </tr>\n",
              "    <tr>\n",
              "      <th>95126</th>\n",
              "      <td>ইউনিট লেসন প্রি শিক্ষার্থী ইংরেজি পত্র গতকাল ই...</td>\n",
              "      <td>4</td>\n",
              "      <td>100</td>\n",
              "    </tr>\n",
              "    <tr>\n",
              "      <th>95127</th>\n",
              "      <td>ইউনিট লেসন প্রিয় শিক্ষার্থী ইংরেজি পত্র ইউনিট...</td>\n",
              "      <td>4</td>\n",
              "      <td>100</td>\n",
              "    </tr>\n",
              "    <tr>\n",
              "      <th>95128</th>\n",
              "      <td>প্রি শিক্ষার্থী ইংরেজি পত্র নং প্রশ্ন আলোচনা ...</td>\n",
              "      <td>4</td>\n",
              "      <td>100</td>\n",
              "    </tr>\n",
              "    <tr>\n",
              "      <th>95129</th>\n",
              "      <td>লেসন প্রি শিক্ষার্থী ইংরেজি পত্র লেসন প্যাসেজ ...</td>\n",
              "      <td>4</td>\n",
              "      <td>100</td>\n",
              "    </tr>\n",
              "  </tbody>\n",
              "</table>\n",
              "<p>95130 rows × 3 columns</p>\n",
              "</div>"
            ],
            "text/plain": [
              "                                                Sentence  Sentiment  length\n",
              "0      গ্রেগর সামসা সেলস্ম্যান সকাল ঘুম উঠ তেলাপোকা ব...          2   45477\n",
              "1      গ্রেগর সামসা সেলস্ম্যান সকাল ঘুম উঠ তেলাপোকা ব...          1   45477\n",
              "2      জাতী সংসদ বাজেট আলোচনা বিরোধীদলী নেতা দেশনেত্র...          4   33176\n",
              "3      জাতী সংসদ বাজেট আলোচনা বিরোধীদলী নেতা দেশনেত্র...          8   33176\n",
              "4      জাতী সংসদ বাজেট আলোচনা বিরোধীদলী নেতা দেশনেত্র...          9   33176\n",
              "...                                                  ...        ...     ...\n",
              "95125  জয়পুর জুন বিডিনিউজ টোয়েন্টিফোর ডটকমরয়টার্স চাক...          4     100\n",
              "95126  ইউনিট লেসন প্রি শিক্ষার্থী ইংরেজি পত্র গতকাল ই...          4     100\n",
              "95127  ইউনিট লেসন প্রিয় শিক্ষার্থী ইংরেজি পত্র ইউনিট...          4     100\n",
              "95128  প্রি শিক্ষার্থী ইংরেজি পত্র নং প্রশ্ন আলোচনা ...          4     100\n",
              "95129  লেসন প্রি শিক্ষার্থী ইংরেজি পত্র লেসন প্যাসেজ ...          4     100\n",
              "\n",
              "[95130 rows x 3 columns]"
            ]
          },
          "metadata": {
            "tags": []
          }
        }
      ]
    },
    {
      "cell_type": "code",
      "metadata": {
        "colab": {
          "base_uri": "https://localhost:8080/",
          "height": 408
        },
        "id": "ksBBKazqcuqO",
        "outputId": "95a368cb-e374-4360-ef77-241b5e10b21f"
      },
      "source": [
        "df = df.drop_duplicates('Sentence', keep='first')\n",
        "\n",
        "df.reset_index(inplace=True)\n",
        "df.drop(columns=['index'],inplace=True)\n",
        "df"
      ],
      "execution_count": null,
      "outputs": [
        {
          "output_type": "execute_result",
          "data": {
            "text/html": [
              "<div>\n",
              "<style scoped>\n",
              "    .dataframe tbody tr th:only-of-type {\n",
              "        vertical-align: middle;\n",
              "    }\n",
              "\n",
              "    .dataframe tbody tr th {\n",
              "        vertical-align: top;\n",
              "    }\n",
              "\n",
              "    .dataframe thead th {\n",
              "        text-align: right;\n",
              "    }\n",
              "</style>\n",
              "<table border=\"1\" class=\"dataframe\">\n",
              "  <thead>\n",
              "    <tr style=\"text-align: right;\">\n",
              "      <th></th>\n",
              "      <th>Sentence</th>\n",
              "      <th>Sentiment</th>\n",
              "      <th>length</th>\n",
              "    </tr>\n",
              "  </thead>\n",
              "  <tbody>\n",
              "    <tr>\n",
              "      <th>0</th>\n",
              "      <td>গ্রেগর সামসা সেলস্ম্যান সকাল ঘুম উঠ তেলাপোকা ব...</td>\n",
              "      <td>2</td>\n",
              "      <td>45477</td>\n",
              "    </tr>\n",
              "    <tr>\n",
              "      <th>1</th>\n",
              "      <td>জাতী সংসদ বাজেট আলোচনা বিরোধীদলী নেতা দেশনেত্র...</td>\n",
              "      <td>4</td>\n",
              "      <td>33176</td>\n",
              "    </tr>\n",
              "    <tr>\n",
              "      <th>2</th>\n",
              "      <td>ঢাকা শহর আতঙ্ক শহর দিনরাত সবখান মৃত্যুর অশুভ ছ...</td>\n",
              "      <td>1</td>\n",
              "      <td>31688</td>\n",
              "    </tr>\n",
              "    <tr>\n",
              "      <th>3</th>\n",
              "      <td>এটিএন বাংলা ঈদ অনুষ্ঠানমালা ছয়দিন দশ পর্ব নাটক...</td>\n",
              "      <td>11</td>\n",
              "      <td>26534</td>\n",
              "    </tr>\n",
              "    <tr>\n",
              "      <th>4</th>\n",
              "      <td>কথা কথা কথা পাব অ্যাকটিং ভালো রপ্ত কর ওশোর পাত...</td>\n",
              "      <td>11</td>\n",
              "      <td>21860</td>\n",
              "    </tr>\n",
              "    <tr>\n",
              "      <th>...</th>\n",
              "      <td>...</td>\n",
              "      <td>...</td>\n",
              "      <td>...</td>\n",
              "    </tr>\n",
              "    <tr>\n",
              "      <th>88674</th>\n",
              "      <td>জয়পুর জুন বিডিনিউজ টোয়েন্টিফোর ডটকমরয়টার্স চাক...</td>\n",
              "      <td>4</td>\n",
              "      <td>100</td>\n",
              "    </tr>\n",
              "    <tr>\n",
              "      <th>88675</th>\n",
              "      <td>ইউনিট লেসন প্রি শিক্ষার্থী ইংরেজি পত্র গতকাল ই...</td>\n",
              "      <td>4</td>\n",
              "      <td>100</td>\n",
              "    </tr>\n",
              "    <tr>\n",
              "      <th>88676</th>\n",
              "      <td>ইউনিট লেসন প্রিয় শিক্ষার্থী ইংরেজি পত্র ইউনিট...</td>\n",
              "      <td>4</td>\n",
              "      <td>100</td>\n",
              "    </tr>\n",
              "    <tr>\n",
              "      <th>88677</th>\n",
              "      <td>প্রি শিক্ষার্থী ইংরেজি পত্র নং প্রশ্ন আলোচনা ...</td>\n",
              "      <td>4</td>\n",
              "      <td>100</td>\n",
              "    </tr>\n",
              "    <tr>\n",
              "      <th>88678</th>\n",
              "      <td>লেসন প্রি শিক্ষার্থী ইংরেজি পত্র লেসন প্যাসেজ ...</td>\n",
              "      <td>4</td>\n",
              "      <td>100</td>\n",
              "    </tr>\n",
              "  </tbody>\n",
              "</table>\n",
              "<p>88679 rows × 3 columns</p>\n",
              "</div>"
            ],
            "text/plain": [
              "                                                Sentence  Sentiment  length\n",
              "0      গ্রেগর সামসা সেলস্ম্যান সকাল ঘুম উঠ তেলাপোকা ব...          2   45477\n",
              "1      জাতী সংসদ বাজেট আলোচনা বিরোধীদলী নেতা দেশনেত্র...          4   33176\n",
              "2      ঢাকা শহর আতঙ্ক শহর দিনরাত সবখান মৃত্যুর অশুভ ছ...          1   31688\n",
              "3      এটিএন বাংলা ঈদ অনুষ্ঠানমালা ছয়দিন দশ পর্ব নাটক...         11   26534\n",
              "4      কথা কথা কথা পাব অ্যাকটিং ভালো রপ্ত কর ওশোর পাত...         11   21860\n",
              "...                                                  ...        ...     ...\n",
              "88674  জয়পুর জুন বিডিনিউজ টোয়েন্টিফোর ডটকমরয়টার্স চাক...          4     100\n",
              "88675  ইউনিট লেসন প্রি শিক্ষার্থী ইংরেজি পত্র গতকাল ই...          4     100\n",
              "88676  ইউনিট লেসন প্রিয় শিক্ষার্থী ইংরেজি পত্র ইউনিট...          4     100\n",
              "88677  প্রি শিক্ষার্থী ইংরেজি পত্র নং প্রশ্ন আলোচনা ...          4     100\n",
              "88678  লেসন প্রি শিক্ষার্থী ইংরেজি পত্র লেসন প্যাসেজ ...          4     100\n",
              "\n",
              "[88679 rows x 3 columns]"
            ]
          },
          "metadata": {
            "tags": []
          },
          "execution_count": 10
        }
      ]
    },
    {
      "cell_type": "code",
      "metadata": {
        "colab": {
          "base_uri": "https://localhost:8080/"
        },
        "id": "9tPSMluodocm",
        "outputId": "39cb3365-3d64-43ec-ab1a-d4a8558d99e2"
      },
      "source": [
        "df.isna().sum().sum()"
      ],
      "execution_count": null,
      "outputs": [
        {
          "output_type": "execute_result",
          "data": {
            "text/plain": [
              "0"
            ]
          },
          "metadata": {
            "tags": []
          },
          "execution_count": 11
        }
      ]
    },
    {
      "cell_type": "code",
      "metadata": {
        "id": "8mANYLtweiKi"
      },
      "source": [
        "df.dropna(axis=0, how=\"any\", thresh=None, subset=None, inplace=True)"
      ],
      "execution_count": null,
      "outputs": []
    },
    {
      "cell_type": "code",
      "metadata": {
        "colab": {
          "base_uri": "https://localhost:8080/"
        },
        "id": "ss_KWuoweu0F",
        "outputId": "d091501b-1def-469e-8aed-dd3655d3d8ed"
      },
      "source": [
        "df.isna().sum().sum()"
      ],
      "execution_count": null,
      "outputs": [
        {
          "output_type": "execute_result",
          "data": {
            "text/plain": [
              "0"
            ]
          },
          "metadata": {
            "tags": []
          },
          "execution_count": 13
        }
      ]
    },
    {
      "cell_type": "code",
      "metadata": {
        "trusted": true,
        "id": "wSs-U7q9mVkj",
        "colab": {
          "base_uri": "https://localhost:8080/",
          "height": 265
        },
        "outputId": "2a6fa354-a2be-4dcc-b943-b0034109b98c"
      },
      "source": [
        "df['Sentence'].apply(lambda x: len(str(x))).plot(kind='hist');"
      ],
      "execution_count": null,
      "outputs": [
        {
          "output_type": "display_data",
          "data": {
            "image/png": "[encoded data removed]",
            "text/plain": [
              "<Figure size 432x288 with 1 Axes>"
            ]
          },
          "metadata": {
            "tags": [],
            "needs_background": "light"
          }
        }
      ]
    },
    {
      "cell_type": "code",
      "metadata": {
        "id": "JgNu9RIL0hkG"
      },
      "source": [
        "df.Sentiment.reset_index(drop=True, inplace=True)"
      ],
      "execution_count": null,
      "outputs": []
    },
    {
      "cell_type": "code",
      "metadata": {
        "colab": {
          "base_uri": "https://localhost:8080/"
        },
        "id": "nMzwQ0UN0lrf",
        "outputId": "63456d5c-ed8f-4e18-f459-67f063f0983c"
      },
      "source": [
        "df.Sentiment.value_counts()"
      ],
      "execution_count": null,
      "outputs": [
        {
          "output_type": "execute_result",
          "data": {
            "text/plain": [
              "9     18558\n",
              "11    11296\n",
              "4     10706\n",
              "5      8951\n",
              "2      8199\n",
              "8      7684\n",
              "0      6126\n",
              "7      5036\n",
              "6      3754\n",
              "3      3389\n",
              "10     2810\n",
              "1      2170\n",
              "Name: Sentiment, dtype: int64"
            ]
          },
          "metadata": {
            "tags": []
          },
          "execution_count": 16
        }
      ]
    },
    {
      "cell_type": "code",
      "metadata": {
        "papermill": {
          "duration": 0.24749,
          "end_time": "2020-08-29T09:36:26.033522",
          "exception": false,
          "start_time": "2020-08-29T09:36:25.786032",
          "status": "completed"
        },
        "tags": [],
        "trusted": true,
        "id": "uMbyCOuWmVkk",
        "colab": {
          "base_uri": "https://localhost:8080/",
          "height": 331
        },
        "outputId": "ee0e0cc6-bc74-4396-902a-e58f3fb5b633"
      },
      "source": [
        "sns.countplot(df['Sentiment']);"
      ],
      "execution_count": null,
      "outputs": [
        {
          "output_type": "stream",
          "text": [
            "/usr/local/lib/python3.7/dist-packages/seaborn/_decorators.py:43: FutureWarning: Pass the following variable as a keyword arg: x. From version 0.12, the only valid positional argument will be `data`, and passing other arguments without an explicit keyword will result in an error or misinterpretation.\n",
            "  FutureWarning\n"
          ],
          "name": "stderr"
        },
        {
          "output_type": "display_data",
          "data": {
            "image/png": "[encoded data removed]",
            "text/plain": [
              "<Figure size 432x288 with 1 Axes>"
            ]
          },
          "metadata": {
            "tags": [],
            "needs_background": "light"
          }
        }
      ]
    },
    {
      "cell_type": "markdown",
      "metadata": {
        "id": "v7XemCFpV1it"
      },
      "source": [
        "# **bnltk 0.7.6 Stemmer**"
      ]
    },
    {
      "cell_type": "code",
      "metadata": {
        "id": "pVvpjSTfWTJ5"
      },
      "source": [
        ""
      ],
      "execution_count": null,
      "outputs": []
    },
    {
      "cell_type": "code",
      "metadata": {
        "id": "_IYaV-9vWTTk"
      },
      "source": [
        ""
      ],
      "execution_count": null,
      "outputs": []
    },
    {
      "cell_type": "code",
      "metadata": {
        "id": "-yDkfRwjWTWq"
      },
      "source": [
        "\n",
        "\n"
      ],
      "execution_count": null,
      "outputs": []
    },
    {
      "cell_type": "code",
      "metadata": {
        "id": "Qvt4Lz0Vhd-p"
      },
      "source": [
        ""
      ],
      "execution_count": null,
      "outputs": []
    },
    {
      "cell_type": "markdown",
      "metadata": {
        "id": "7_5470jthele"
      },
      "source": [
        "**New Stemmed**"
      ]
    },
    {
      "cell_type": "code",
      "metadata": {
        "colab": {
          "base_uri": "https://localhost:8080/"
        },
        "id": "imV82g7aWNaX",
        "outputId": "117fb6b6-d0e4-4ffa-eb3c-4bd504148889"
      },
      "source": [
        "uniqueWords = list(set(\" \".join(df['Sentence']).split(\" \")))\n",
        "count = len(uniqueWords)\n",
        "print(count)"
      ],
      "execution_count": null,
      "outputs": [
        {
          "output_type": "stream",
          "text": [
            "332301\n"
          ],
          "name": "stdout"
        }
      ]
    },
    {
      "cell_type": "code",
      "metadata": {
        "papermill": {
          "duration": 0.019937,
          "end_time": "2020-08-29T09:36:26.43929",
          "exception": false,
          "start_time": "2020-08-29T09:36:26.419353",
          "status": "completed"
        },
        "tags": [],
        "trusted": true,
        "id": "D4TnjSfQmVkl"
      },
      "source": [
        "df['Sentence'] = df['Sentence'].astype('str') \n",
        "df.reset_index(drop=True, inplace=True)\n",
        "#df['Sentence'] = df['Sentence'].astype('str')"
      ],
      "execution_count": null,
      "outputs": []
    },
    {
      "cell_type": "code",
      "metadata": {
        "trusted": true,
        "id": "Ku0ZD8k5mVkm"
      },
      "source": [
        ""
      ],
      "execution_count": null,
      "outputs": []
    },
    {
      "cell_type": "code",
      "metadata": {
        "trusted": true,
        "id": "EhhzSUaTmVkm"
      },
      "source": [
        "\n",
        "#df['Sentence'] = df.Sentence.apply(lambda x: Stemming(str(x)))"
      ],
      "execution_count": null,
      "outputs": []
    },
    {
      "cell_type": "code",
      "metadata": {
        "trusted": true,
        "id": "XbyfTxDAmVkm",
        "colab": {
          "base_uri": "https://localhost:8080/",
          "height": 265
        },
        "outputId": "66954c64-b965-40b0-d9c8-fbef2847f58d"
      },
      "source": [
        "df['Sentence'].apply(lambda x: len(str(x))).plot(kind='hist');"
      ],
      "execution_count": null,
      "outputs": [
        {
          "output_type": "display_data",
          "data": {
            "image/png": "[encoded data removed]",
            "text/plain": [
              "<Figure size 432x288 with 1 Axes>"
            ]
          },
          "metadata": {
            "tags": [],
            "needs_background": "light"
          }
        }
      ]
    },
    {
      "cell_type": "code",
      "metadata": {
        "id": "GDl2zEFLmNxy"
      },
      "source": [
        "from collections import Counter\n",
        "#Counter(\" \".join(df[\"Sentence\"]).split()).most_common(1000)  \n",
        "#NOT FASTER "
      ],
      "execution_count": null,
      "outputs": []
    },
    {
      "cell_type": "code",
      "metadata": {
        "id": "KnzB1K8dmmKw"
      },
      "source": [
        "#pd.Series(' '.join(df['Sentence']).lower().split()).value_counts()[:10000] #faster AND for large amounts of text/rows"
      ],
      "execution_count": null,
      "outputs": []
    },
    {
      "cell_type": "markdown",
      "metadata": {
        "id": "j1dggyKpIQTd"
      },
      "source": [
        "# **Shuffle the data**"
      ]
    },
    {
      "cell_type": "code",
      "metadata": {
        "id": "PhCjppGtIOpa"
      },
      "source": [
        "from sklearn.utils import shuffle\n",
        "df = shuffle(df)"
      ],
      "execution_count": null,
      "outputs": []
    },
    {
      "cell_type": "code",
      "metadata": {
        "colab": {
          "base_uri": "https://localhost:8080/"
        },
        "id": "yYFRSOk5y2Ym",
        "outputId": "73ac66e3-8fec-4d73-aa86-f4630e2361bd"
      },
      "source": [
        "df.Sentiment.value_counts()"
      ],
      "execution_count": null,
      "outputs": [
        {
          "output_type": "execute_result",
          "data": {
            "text/plain": [
              "9     18558\n",
              "11    11296\n",
              "4     10706\n",
              "5      8951\n",
              "2      8199\n",
              "8      7684\n",
              "0      6126\n",
              "7      5036\n",
              "6      3754\n",
              "3      3389\n",
              "10     2810\n",
              "1      2170\n",
              "Name: Sentiment, dtype: int64"
            ]
          },
          "metadata": {
            "tags": []
          },
          "execution_count": 25
        }
      ]
    },
    {
      "cell_type": "code",
      "metadata": {
        "papermill": {
          "duration": 0.149615,
          "end_time": "2020-08-29T09:36:26.620833",
          "exception": false,
          "start_time": "2020-08-29T09:36:26.471218",
          "status": "completed"
        },
        "tags": [],
        "trusted": true,
        "id": "g1o7nrismVkn",
        "colab": {
          "base_uri": "https://localhost:8080/"
        },
        "outputId": "a780d854-c4e5-43d8-9f0a-70a52bce4acd"
      },
      "source": [
        "train1, test1 = train_test_split(df,random_state=22, test_size=0.2)\n",
        "training_sentences = []\n",
        "testing_sentences = []\n",
        "\n",
        "\n",
        "\n",
        "\n",
        "train_sentences=train1['Sentence'].values\n",
        "train_labels=train1['Sentiment'].values\n",
        "#for i in range(train_sentences.shape[0]): \n",
        "    #print(train_sentences[i])\n",
        " #   x=str(train_sentences[i])\n",
        " #   training_sentences.append(x)\n",
        "\n",
        " \n",
        "    \n",
        "#training_sentences=np.array(training_sentences)\n",
        "\n",
        "\n",
        "\n",
        "\n",
        "\n",
        "test_sentences=test1['Sentence'].values\n",
        "test_labels=test1['Sentiment'].values\n",
        "#y = pd.get_dummies(data1['Sentiment']).values\n",
        "\n",
        "train_labels=pd.get_dummies(train_labels).values\n",
        "test_labels=pd.get_dummies(test_labels).values\n",
        "\n",
        "\n",
        "print(\"Training Set Length: \"+str(len(train1)))\n",
        "print(\"Testing Set Length: \"+str(len(test1)))\n",
        "print(\"training_sentences shape: \"+str(train_sentences.shape))\n",
        "print(\"testing_sentences shape: \"+str(test_sentences.shape))\n",
        "print(\"train_labels shape: \"+str(train_labels.shape))\n",
        "print(\"test_labels shape: \"+str(test_labels.shape))\n"
      ],
      "execution_count": null,
      "outputs": [
        {
          "output_type": "stream",
          "text": [
            "Training Set Length: 70943\n",
            "Testing Set Length: 17736\n",
            "training_sentences shape: (70943,)\n",
            "testing_sentences shape: (17736,)\n",
            "train_labels shape: (70943, 12)\n",
            "test_labels shape: (17736, 12)\n"
          ],
          "name": "stdout"
        }
      ]
    },
    {
      "cell_type": "code",
      "metadata": {
        "trusted": true,
        "id": "KAY5AQRxmVko",
        "colab": {
          "base_uri": "https://localhost:8080/"
        },
        "outputId": "4a4b2d81-4aa2-41df-9bc9-ff37cdbf7eb6"
      },
      "source": [
        "train_labels"
      ],
      "execution_count": null,
      "outputs": [
        {
          "output_type": "execute_result",
          "data": {
            "text/plain": [
              "array([[0, 0, 0, ..., 0, 0, 1],\n",
              "       [0, 0, 0, ..., 0, 0, 0],\n",
              "       [0, 0, 0, ..., 1, 0, 0],\n",
              "       ...,\n",
              "       [0, 0, 0, ..., 0, 0, 0],\n",
              "       [0, 0, 0, ..., 0, 0, 0],\n",
              "       [0, 0, 0, ..., 1, 0, 0]], dtype=uint8)"
            ]
          },
          "metadata": {
            "tags": []
          },
          "execution_count": 27
        }
      ]
    },
    {
      "cell_type": "code",
      "metadata": {
        "trusted": true,
        "id": "qB9iZkNLmVko"
      },
      "source": [
        ""
      ],
      "execution_count": null,
      "outputs": []
    },
    {
      "cell_type": "code",
      "metadata": {
        "papermill": {
          "duration": 0.020899,
          "end_time": "2020-08-29T09:36:26.674467",
          "exception": false,
          "start_time": "2020-08-29T09:36:26.653568",
          "status": "completed"
        },
        "tags": [],
        "trusted": true,
        "id": "hTeWiL_CmVko",
        "colab": {
          "base_uri": "https://localhost:8080/"
        },
        "outputId": "7f1a922b-cf21-4ae2-ca0c-b3d4c22a0a7e"
      },
      "source": [
        "print(train_sentences[10])\n",
        "print(train_labels[0])"
      ],
      "execution_count": null,
      "outputs": [
        {
          "output_type": "stream",
          "text": [
            "বাংলাদেশ কৃষি ব্যাংক অর্ধেক আমানতকারী টাক হিসাবধারী লাখ আমানতকারী রয় টাক হিসাবধারী রয় লাখ গতকাল বুধব বিকেবির পাঠানো বিজ্ঞপ্তি তথ্য লাখ ব্যক্তি ব্যাংক ঋণ টাকা লাখ ক্ষুদ্র প্রান্তিক হতদরিদ্র বর্গাচাষি ঋণ টাকা কর্মসূচির আওতায় বস্তিবাসী পরিব লাখ টাকা ঋণ বিজ্ঞপ্তি খা ঋণ বিতরণ ব্যাংক শাখা কম্পিউটারাইজেশন অফলাইন ব্যাংকিং কার্যক্রম শাখায় অনলাইন এটিএম বুথ বিকেবির শাখা মোবাইল ব্যাংকিং কার্যক্রম\n",
            "[0 0 0 0 0 0 0 0 0 0 0 1]\n"
          ],
          "name": "stdout"
        }
      ]
    },
    {
      "cell_type": "code",
      "metadata": {
        "papermill": {
          "duration": 0.02028,
          "end_time": "2020-08-29T09:36:26.728248",
          "exception": false,
          "start_time": "2020-08-29T09:36:26.707968",
          "status": "completed"
        },
        "tags": [],
        "trusted": true,
        "id": "O8Rw3bFfmVkp"
      },
      "source": [
        "vocab_size = 200000\n",
        "embedding_dim = 300\n",
        "max_length = 4000\n",
        "trunc_type='post'\n",
        "oov_tok = \"<OOV>\""
      ],
      "execution_count": null,
      "outputs": []
    },
    {
      "cell_type": "code",
      "metadata": {
        "papermill": {
          "duration": 0.02122,
          "end_time": "2020-08-29T09:36:26.76056",
          "exception": false,
          "start_time": "2020-08-29T09:36:26.73934",
          "status": "completed"
        },
        "tags": [],
        "trusted": true,
        "id": "816r9qMOmVkp",
        "colab": {
          "base_uri": "https://localhost:8080/"
        },
        "outputId": "008cda22-a0c1-4c6a-f9ce-de03cfb658ae"
      },
      "source": [
        "print(train_sentences.shape)\n",
        "print(train_labels.shape)"
      ],
      "execution_count": null,
      "outputs": [
        {
          "output_type": "stream",
          "text": [
            "(70943,)\n",
            "(70943, 12)\n"
          ],
          "name": "stdout"
        }
      ]
    },
    {
      "cell_type": "code",
      "metadata": {
        "papermill": {
          "duration": 0.682778,
          "end_time": "2020-08-29T09:36:27.475798",
          "exception": false,
          "start_time": "2020-08-29T09:36:26.79302",
          "status": "completed"
        },
        "tags": [],
        "trusted": true,
        "id": "kieBp_3XmVkp",
        "colab": {
          "base_uri": "https://localhost:8080/"
        },
        "outputId": "37b7c498-5b81-474a-fe85-00dc58f8f1cb"
      },
      "source": [
        "tokenizer = Tokenizer(num_words = vocab_size, oov_token=oov_tok)\n",
        "tokenizer.fit_on_texts(train_sentences)\n",
        "word_index = tokenizer.word_index\n",
        "\n",
        "#451606 words in raw dataset\n",
        "#434245 words in raw dataset after stopwords removal\n",
        "#339313 after stemming \n",
        "\n",
        "print(len(word_index))\n",
        "print(\"Word index length:\"+str(len(tokenizer.word_index)))\n",
        "sequences = tokenizer.texts_to_sequences(train_sentences)\n",
        "padded = pad_sequences(sequences,maxlen=max_length, truncating=trunc_type)\n",
        "\n",
        "\n",
        "test_sequences = tokenizer.texts_to_sequences(test_sentences)\n",
        "testing_padded = pad_sequences(test_sequences,maxlen=max_length)"
      ],
      "execution_count": null,
      "outputs": [
        {
          "output_type": "stream",
          "text": [
            "292587\n",
            "Word index length:292587\n"
          ],
          "name": "stdout"
        }
      ]
    },
    {
      "cell_type": "code",
      "metadata": {
        "papermill": {
          "duration": 0.026912,
          "end_time": "2020-08-29T09:36:27.514109",
          "exception": false,
          "start_time": "2020-08-29T09:36:27.487197",
          "status": "completed"
        },
        "tags": [],
        "trusted": true,
        "id": "LGQVeds7mVkq",
        "colab": {
          "base_uri": "https://localhost:8080/"
        },
        "outputId": "3451ca49-efd9-47cf-d30f-f24f5e94c96f"
      },
      "source": [
        "print(\"Sentence :--> \\n\")\n",
        "print(train_sentences[2]+\"\\n\")\n",
        "print(\"Sentence Tokenized and Converted into Sequence :--> \\n\")\n",
        "print(str(sequences[2])+\"\\n\")\n",
        "print(\"After Padding the Sequence with padding length 100 :--> \\n\")\n",
        "print(padded[2])"
      ],
      "execution_count": null,
      "outputs": [
        {
          "output_type": "stream",
          "text": [
            "Sentence :--> \n",
            "\n",
            "দিল্লির এইচবিএস ইনস্টিটিউট অব লিভ অ্যান্ড বিলিয়ারি সায়েন্স হাসপাতাল সাংবাদিক বড় মা হামিম জহির বিডিনিউজ টোয়েন্টিফোর ডটকম বাব ভালো বৃহস্পতিব দুপুর আইসিইউ নেয়া বাবা লাইফ সাপোর্ট জন্ড ভুগ জহিরুল হক বঙ্গবন্ধু শেখ মুজিব মেডিক বিশ্ববিদ্যাল হাসপাতাল চিকিৎসাধীন সপ্তাহ দিল্ নেয়া বঙ্গবন্ধুর স্নেহভাজন জহিরুল ঢাকা হাসপাতাল আস প্রধানমন্ত্রী শেখ হাসিনা জহিরুল আরোগ্য কামনা ফটোজার্নালিস্ট অ্যাসোসিয়েশন বৃহস্পতিব বিকাল জাতী প্রেসক্লাব দোয়া মাহফিল আয়োজন জহিরুল হক কলকাত আজকাল পত্রিক বাংলাদেশ প্রতিনিধি হাসা দৈনিক জনকণ্ঠ দৈনিক আজাদ অবজারভ টাইমস বাংল বাণী\n",
            "\n",
            "Sentence Tokenized and Converted into Sequence :--> \n",
            "\n",
            "[3284, 140864, 1020, 264, 6648, 363, 140865, 5052, 86, 75, 124, 30, 29266, 2619, 5, 6, 16, 1077, 92, 106, 67, 8579, 553, 445, 2676, 7410, 25837, 3247, 3910, 108, 266, 18, 1777, 304, 54, 86, 1461, 277, 1736, 553, 996, 41837, 3910, 11, 86, 60, 21, 18, 45, 3910, 14410, 1681, 53338, 2072, 106, 168, 43, 1086, 3031, 3554, 309, 3910, 108, 2320, 5754, 2216, 4, 310, 25, 1006, 13302, 1006, 801, 18484, 1649, 978, 2178]\n",
            "\n",
            "After Padding the Sequence with padding length 100 :--> \n",
            "\n",
            "[   0    0    0 ... 1649  978 2178]\n"
          ],
          "name": "stdout"
        }
      ]
    },
    {
      "cell_type": "code",
      "metadata": {
        "papermill": {
          "duration": 0.021501,
          "end_time": "2020-08-29T09:36:27.546874",
          "exception": false,
          "start_time": "2020-08-29T09:36:27.525373",
          "status": "completed"
        },
        "tags": [],
        "trusted": true,
        "id": "efVcUj5xmVkr",
        "colab": {
          "base_uri": "https://localhost:8080/"
        },
        "outputId": "e041b78c-7a7e-4074-a18c-06ce1cd232bd"
      },
      "source": [
        "print(\"Padded shape(training): \"+str(padded.shape))\n",
        "print(\"Padded shape(testing): \"+str(testing_padded.shape))"
      ],
      "execution_count": null,
      "outputs": [
        {
          "output_type": "stream",
          "text": [
            "Padded shape(training): (70943, 4000)\n",
            "Padded shape(testing): (17736, 4000)\n"
          ],
          "name": "stdout"
        }
      ]
    },
    {
      "cell_type": "code",
      "metadata": {
        "papermill": {
          "duration": 1.676288,
          "end_time": "2020-08-29T09:36:29.256866",
          "exception": false,
          "start_time": "2020-08-29T09:36:27.580578",
          "status": "completed"
        },
        "tags": [],
        "trusted": true,
        "id": "ct6vLKXdmVks",
        "colab": {
          "base_uri": "https://localhost:8080/"
        },
        "outputId": "05ac50a6-a7b6-40a5-df7c-c676351e540a"
      },
      "source": [
        "from keras.layers import MaxPool1D\n",
        "model= Sequential()\n",
        "model.add(Embedding(vocab_size, embedding_dim, input_length=max_length))\n",
        "model.add(Conv1D(200, kernel_size=3, activation = \"relu\"))\n",
        "model.add(MaxPool1D(pool_size=2))\n",
        "model.add(Dropout(0.3))\n",
        "\n",
        "model.add(Flatten())\n",
        "model.add(Dense(50, activation='relu'))\n",
        "\n",
        "#l2 regularizer\n",
        "model.add(Dense(20,kernel_regularizer=regularizers.l2(0.01),activation=\"relu\"))\n",
        "#model.add(Flatten())\n",
        "model.add(Dense(12, activation='softmax'))\n",
        "#sgd= SGD(lr=0.0001,decay=1e-6,momentum=0.9,nesterov=True)\n",
        "adam=Adam(learning_rate=0.0005,beta_1=0.9,beta_2=0.999,epsilon=1e-07,amsgrad=False)\n",
        "model.summary()\n",
        "model.compile(loss='categorical_crossentropy',optimizer=adam,metrics=['accuracy'])\n",
        "\n",
        "#CNN\n"
      ],
      "execution_count": null,
      "outputs": [
        {
          "output_type": "stream",
          "text": [
            "Model: \"sequential\"\n",
            "_________________________________________________________________\n",
            "Layer (type)                 Output Shape              Param #   \n",
            "=================================================================\n",
            "embedding (Embedding)        (None, 4000, 300)         60000000  \n",
            "_________________________________________________________________\n",
            "conv1d (Conv1D)              (None, 3998, 200)         180200    \n",
            "_________________________________________________________________\n",
            "max_pooling1d (MaxPooling1D) (None, 1999, 200)         0         \n",
            "_________________________________________________________________\n",
            "dropout (Dropout)            (None, 1999, 200)         0         \n",
            "_________________________________________________________________\n",
            "flatten (Flatten)            (None, 399800)            0         \n",
            "_________________________________________________________________\n",
            "dense (Dense)                (None, 50)                19990050  \n",
            "_________________________________________________________________\n",
            "dense_1 (Dense)              (None, 20)                1020      \n",
            "_________________________________________________________________\n",
            "dense_2 (Dense)              (None, 12)                252       \n",
            "=================================================================\n",
            "Total params: 80,171,522\n",
            "Trainable params: 80,171,522\n",
            "Non-trainable params: 0\n",
            "_________________________________________________________________\n"
          ],
          "name": "stdout"
        }
      ]
    },
    {
      "cell_type": "code",
      "metadata": {
        "colab": {
          "base_uri": "https://localhost:8080/"
        },
        "id": "pdZG1dmel3FA",
        "outputId": "e4555d56-aeb3-48ca-cda7-3270b1e5934d"
      },
      "source": [
        "history=model.fit(padded,train_labels,epochs=5,batch_size=128,validation_data=(testing_padded,test_labels),use_multiprocessing=True, workers=8)"
      ],
      "execution_count": null,
      "outputs": [
        {
          "output_type": "stream",
          "text": [
            "Epoch 1/5\n",
            "555/555 [==============================] - 819s 1s/step - loss: 1.9297 - accuracy: 0.4324 - val_loss: 0.7953 - val_accuracy: 0.7972\n",
            "Epoch 2/5\n",
            "555/555 [==============================] - 771s 1s/step - loss: 0.5478 - accuracy: 0.8631 - val_loss: 0.5957 - val_accuracy: 0.8475\n",
            "Epoch 3/5\n",
            "555/555 [==============================] - 770s 1s/step - loss: 0.2434 - accuracy: 0.9483 - val_loss: 0.6464 - val_accuracy: 0.8410\n",
            "Epoch 4/5\n",
            "555/555 [==============================] - 769s 1s/step - loss: 0.1264 - accuracy: 0.9770 - val_loss: 0.7160 - val_accuracy: 0.8381\n",
            "Epoch 5/5\n",
            "555/555 [==============================] - 777s 1s/step - loss: 0.0741 - accuracy: 0.9896 - val_loss: 0.8770 - val_accuracy: 0.8347\n"
          ],
          "name": "stdout"
        }
      ]
    },
    {
      "cell_type": "code",
      "metadata": {
        "papermill": {
          "duration": 0.496359,
          "end_time": "2020-08-29T09:38:38.037405",
          "exception": false,
          "start_time": "2020-08-29T09:38:37.541046",
          "status": "completed"
        },
        "tags": [],
        "trusted": true,
        "id": "7Kl-J9PsmVkt",
        "colab": {
          "base_uri": "https://localhost:8080/",
          "height": 588
        },
        "outputId": "7045c10b-9949-4775-c850-96e9a05b88a5"
      },
      "source": [
        "print(history.history.keys())\n",
        "loss = history.history['loss']\n",
        "val_loss = history.history['val_loss']\n",
        "plt.plot(loss)\n",
        "plt.plot(val_loss)\n",
        "plt.title('model loss')\n",
        "plt.ylabel('loss')\n",
        "plt.xlabel('epoch')\n",
        "plt.legend(['loss', 'val_loss'])\n",
        "plt.show()\n",
        "\n",
        "accuracy = history.history['accuracy']\n",
        "val_accuracy= history.history['val_accuracy']\n",
        "plt.plot(accuracy)\n",
        "plt.plot(val_accuracy)\n",
        "plt.title('model accuracy')\n",
        "plt.ylabel('accuracy')\n",
        "plt.xlabel('epoch')\n",
        "plt.legend(['accuracy', 'val_accuracy'])\n",
        "plt.show()"
      ],
      "execution_count": null,
      "outputs": [
        {
          "output_type": "stream",
          "text": [
            "dict_keys(['loss', 'accuracy', 'val_loss', 'val_accuracy'])\n"
          ],
          "name": "stdout"
        },
        {
          "output_type": "display_data",
          "data": {
            "image/png": "[encoded data removed]",
            "text/plain": [
              "<Figure size 432x288 with 1 Axes>"
            ]
          },
          "metadata": {
            "tags": [],
            "needs_background": "light"
          }
        },
        {
          "output_type": "display_data",
          "data": {
            "image/png": "[encoded data removed]",
            "text/plain": [
              "<Figure size 432x288 with 1 Axes>"
            ]
          },
          "metadata": {
            "tags": [],
            "needs_background": "light"
          }
        }
      ]
    },
    {
      "cell_type": "code",
      "metadata": {
        "papermill": {
          "duration": 7.718225,
          "end_time": "2020-08-29T09:38:45.824208",
          "exception": false,
          "start_time": "2020-08-29T09:38:38.105983",
          "status": "completed"
        },
        "tags": [],
        "trusted": true,
        "id": "wSL8OLbUmVku",
        "colab": {
          "base_uri": "https://localhost:8080/"
        },
        "outputId": "4f7f8914-9c79-460d-d418-5e95e325a721"
      },
      "source": [
        "#accuracy calculation\n",
        "loss_and_metrics = model.evaluate(padded,train_labels,batch_size=128)\n",
        "print(\"The train accuracy is: \"+str(loss_and_metrics[1]))\n",
        "loss_and_metrics = model.evaluate(testing_padded,test_labels,batch_size=128)\n",
        "print(\"The test accuracy is: \"+str(loss_and_metrics[1]))"
      ],
      "execution_count": null,
      "outputs": [
        {
          "output_type": "stream",
          "text": [
            "555/555 [==============================] - 172s 310ms/step - loss: 0.0489 - accuracy: 0.9954\n",
            "The train accuracy is: 0.9953624606132507\n",
            "139/139 [==============================] - 43s 310ms/step - loss: 0.8770 - accuracy: 0.8347\n",
            "The test accuracy is: 0.8346865177154541\n"
          ],
          "name": "stdout"
        }
      ]
    },
    {
      "cell_type": "code",
      "metadata": {
        "papermill": {
          "duration": 0.020894,
          "end_time": "2020-08-29T09:38:45.908871",
          "exception": false,
          "start_time": "2020-08-29T09:38:45.887977",
          "status": "completed"
        },
        "tags": [],
        "id": "7HFnbSGUmVku"
      },
      "source": [
        "predictions = model.predict(testing_padded)\n",
        "pred1 = np.argmax(predictions , axis=1)"
      ],
      "execution_count": null,
      "outputs": []
    },
    {
      "cell_type": "code",
      "metadata": {
        "id": "NqM31EXnXpy9"
      },
      "source": [
        "%%time\n",
        "score = model.evaluate(testing_padded, test_labels , batch_size = 128)\n",
        "print()\n",
        "\n",
        "print(\"ACCURACY:\",score[1])\n",
        "print(\"LOSS:\",score[0])"
      ],
      "execution_count": null,
      "outputs": []
    },
    {
      "cell_type": "code",
      "metadata": {
        "id": "EeOkUcpyZyjC"
      },
      "source": [
        "from sklearn.metrics import confusion_matrix, classification_report, accuracy_score"
      ],
      "execution_count": null,
      "outputs": []
    },
    {
      "cell_type": "code",
      "metadata": {
        "id": "rKN57VdYaEOo"
      },
      "source": [
        "test_labels = np.argmax(test_labels,axis=1)"
      ],
      "execution_count": null,
      "outputs": []
    },
    {
      "cell_type": "code",
      "metadata": {
        "id": "1vhbFScwYAm6"
      },
      "source": [
        "print(confusion_matrix(test_labels , pred1 ,normalize=None))"
      ],
      "execution_count": null,
      "outputs": []
    },
    {
      "cell_type": "code",
      "metadata": {
        "colab": {
          "base_uri": "https://localhost:8080/"
        },
        "id": "GL1VKns_Zbc4",
        "outputId": "f3322098-3666-4c61-9403-297abd3dfd99"
      },
      "source": [
        "print(classification_report(test_labels , pred1,digits=5))"
      ],
      "execution_count": null,
      "outputs": [
        {
          "output_type": "stream",
          "text": [
            "              precision    recall  f1-score   support\n",
            "\n",
            "           0    0.90835   0.87886   0.89336      1263\n",
            "           1    0.48307   0.47768   0.48036       448\n",
            "           2    0.79663   0.87380   0.83343      1569\n",
            "           3    0.83871   0.80456   0.82128       614\n",
            "           4    0.86151   0.79854   0.82883      2189\n",
            "           5    0.80295   0.85378   0.82759      1785\n",
            "           6    0.79392   0.62667   0.70045       750\n",
            "           7    0.85402   0.83012   0.84190      1036\n",
            "           8    0.81415   0.75160   0.78162      1562\n",
            "           9    0.82985   0.90689   0.86666      3630\n",
            "          10    0.79820   0.76910   0.78338       576\n",
            "          11    0.92646   0.90925   0.91778      2314\n",
            "\n",
            "    accuracy                        0.83469     17736\n",
            "   macro avg    0.80898   0.79007   0.79805     17736\n",
            "weighted avg    0.83533   0.83469   0.83369     17736\n",
            "\n"
          ],
          "name": "stdout"
        }
      ]
    },
    {
      "cell_type": "code",
      "metadata": {
        "colab": {
          "base_uri": "https://localhost:8080/"
        },
        "id": "P6648lmjZixZ",
        "outputId": "ae7df244-6a23-445a-9c9b-ab47b66cdc62"
      },
      "source": [
        "accuracy_score(test_labels , pred1)"
      ],
      "execution_count": null,
      "outputs": [
        {
          "output_type": "execute_result",
          "data": {
            "text/plain": [
              "0.8346865133062698"
            ]
          },
          "metadata": {
            "tags": []
          },
          "execution_count": 44
        }
      ]
    },
    {
      "cell_type": "code",
      "metadata": {
        "id": "qBuhpZwkUWGq"
      },
      "source": [
        ""
      ],
      "execution_count": null,
      "outputs": []
    }
  ]
}