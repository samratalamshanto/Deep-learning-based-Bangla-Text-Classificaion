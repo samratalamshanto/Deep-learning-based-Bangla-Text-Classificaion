{
  "nbformat": 4,
  "nbformat_minor": 0,
  "metadata": {
    "kernelspec": {
      "language": "python",
      "display_name": "Python 3",
      "name": "python3"
    },
    "language_info": {
      "name": "python",
      "version": "3.7.10",
      "mimetype": "text/x-python",
      "codemirror_mode": {
        "name": "ipython",
        "version": 3
      },
      "pygments_lexer": "ipython3",
      "nbconvert_exporter": "python",
      "file_extension": ".py"
    },
    "colab": {
      "name": "Text classification ANN model for 10 class.ipynb",
      "provenance": [],
      "collapsed_sections": []
    },
    "accelerator": "GPU"
  },
  "cells": [
    {
      "cell_type": "code",
      "metadata": {
        "id": "NZxIEppKsEkN",
        "colab": {
          "resources": {
            "http://localhost:8080/nbextensions/google.colab/files.js": {
              "data": "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",
              "ok": true,
              "headers": [
                [
                  "content-type",
                  "application/javascript"
                ]
              ],
              "status": 200,
              "status_text": ""
            }
          },
          "base_uri": "https://localhost:8080/",
          "height": 268
        },
        "outputId": "2aa4c207-995e-4faf-a646-4c7618430249"
      },
      "source": [
        "!pip install kaggle\n",
        "from google.colab import files \n",
        "#files.open('/content/drive/MyDrive/Colab Notebooks/json kaggle')\n",
        "files.upload() #download and upload json file\n",
        "\n",
        "\n",
        "\n",
        "!mkdir -p ~/.kaggle\n",
        "!cp kaggle.json ~/.kaggle/\n",
        "\n",
        "!chmod 600 ~/.kaggle/kaggle.json"
      ],
      "execution_count": null,
      "outputs": [
        {
          "output_type": "stream",
          "text": [
            "Requirement already satisfied: kaggle in /usr/local/lib/python3.7/dist-packages (1.5.12)\n",
            "Requirement already satisfied: tqdm in /usr/local/lib/python3.7/dist-packages (from kaggle) (4.41.1)\n",
            "Requirement already satisfied: certifi in /usr/local/lib/python3.7/dist-packages (from kaggle) (2021.5.30)\n",
            "Requirement already satisfied: python-dateutil in /usr/local/lib/python3.7/dist-packages (from kaggle) (2.8.1)\n",
            "Requirement already satisfied: requests in /usr/local/lib/python3.7/dist-packages (from kaggle) (2.23.0)\n",
            "Requirement already satisfied: python-slugify in /usr/local/lib/python3.7/dist-packages (from kaggle) (5.0.2)\n",
            "Requirement already satisfied: urllib3 in /usr/local/lib/python3.7/dist-packages (from kaggle) (1.24.3)\n",
            "Requirement already satisfied: six>=1.10 in /usr/local/lib/python3.7/dist-packages (from kaggle) (1.15.0)\n",
            "Requirement already satisfied: chardet<4,>=3.0.2 in /usr/local/lib/python3.7/dist-packages (from requests->kaggle) (3.0.4)\n",
            "Requirement already satisfied: idna<3,>=2.5 in /usr/local/lib/python3.7/dist-packages (from requests->kaggle) (2.10)\n",
            "Requirement already satisfied: text-unidecode>=1.3 in /usr/local/lib/python3.7/dist-packages (from python-slugify->kaggle) (1.3)\n"
          ],
          "name": "stdout"
        },
        {
          "output_type": "display_data",
          "data": {
            "text/html": [
              "\n",
              "     <input type=\"file\" id=\"files-3488acd1-4c7c-4785-9961-6ad268d6d210\" name=\"files[]\" multiple disabled\n",
              "        style=\"border:none\" />\n",
              "     <output id=\"result-3488acd1-4c7c-4785-9961-6ad268d6d210\">\n",
              "      Upload widget is only available when the cell has been executed in the\n",
              "      current browser session. Please rerun this cell to enable.\n",
              "      </output>\n",
              "      <script src=\"/nbextensions/google.colab/files.js\"></script> "
            ],
            "text/plain": [
              "<IPython.core.display.HTML object>"
            ]
          },
          "metadata": {
            "tags": []
          }
        },
        {
          "output_type": "stream",
          "text": [
            "Saving kaggle.json to kaggle.json\n"
          ],
          "name": "stdout"
        }
      ]
    },
    {
      "cell_type": "code",
      "metadata": {
        "id": "p1qlXqzisFxs",
        "colab": {
          "base_uri": "https://localhost:8080/"
        },
        "outputId": "31c15310-f2d3-4764-d588-f2f6294643c1"
      },
      "source": [
        "!kaggle datasets download -d samratalam/stemmed-20-times-dataset"
      ],
      "execution_count": null,
      "outputs": [
        {
          "output_type": "stream",
          "text": [
            "Downloading stemmed-20-times-dataset.zip to /content\n",
            "100% 62.0M/62.2M [00:00<00:00, 52.4MB/s]\n",
            "100% 62.2M/62.2M [00:00<00:00, 71.3MB/s]\n"
          ],
          "name": "stdout"
        }
      ]
    },
    {
      "cell_type": "code",
      "metadata": {
        "id": "PttD-dBTsF1V",
        "colab": {
          "base_uri": "https://localhost:8080/"
        },
        "outputId": "5624d24e-881a-4007-8643-63f5eed08fef"
      },
      "source": [
        "#to unzip file\n",
        "\n",
        "from zipfile import ZipFile\n",
        "file_name= \"stemmed-20-times-dataset.zip\"\n",
        "\n",
        "with ZipFile(file_name ,'r') as zip:\n",
        "  zip.extractall()\n",
        "  print('Done')"
      ],
      "execution_count": null,
      "outputs": [
        {
          "output_type": "stream",
          "text": [
            "Done\n"
          ],
          "name": "stdout"
        }
      ]
    },
    {
      "cell_type": "code",
      "metadata": {
        "papermill": {
          "duration": 8.634984,
          "end_time": "2020-08-29T09:36:24.626494",
          "exception": false,
          "start_time": "2020-08-29T09:36:15.99151",
          "status": "completed"
        },
        "tags": [],
        "trusted": true,
        "id": "CsrHQU7xmVkK"
      },
      "source": [
        "import pandas as pd\n",
        "from pandas import read_excel\n",
        "import numpy as np\n",
        "import re\n",
        "from re import sub\n",
        "import multiprocessing\n",
        "#from unidecode import unidecode\n",
        "import os\n",
        "from time import time \n",
        "import tensorflow as tf\n",
        "import keras\n",
        "from keras.models import Sequential\n",
        "from keras.layers import LSTM,Dense,Dropout,Activation,Embedding,Flatten,Bidirectional,MaxPooling2D, Conv1D, MaxPooling1D\n",
        "from keras.optimizers import SGD,Adam\n",
        "from keras import regularizers\n",
        "from keras.preprocessing.text import Tokenizer\n",
        "from keras.preprocessing.sequence import pad_sequences\n",
        "from keras.utils.np_utils import to_categorical\n",
        "import h5py\n",
        "import csv\n",
        "import seaborn as sns\n",
        "import matplotlib.pyplot as plt\n",
        "from sklearn.model_selection import train_test_split\n",
        "from sklearn.model_selection import StratifiedKFold"
      ],
      "execution_count": null,
      "outputs": []
    },
    {
      "cell_type": "code",
      "metadata": {
        "colab": {
          "base_uri": "https://localhost:8080/",
          "height": 35
        },
        "id": "gTOEBXe91DVt",
        "outputId": "7908a03f-6336-454b-80f4-51d125c8107f"
      },
      "source": [
        "'''\n",
        "!pip install wandb\n",
        "import wandb\n",
        "wandb.init()\n",
        "'''"
      ],
      "execution_count": null,
      "outputs": [
        {
          "output_type": "execute_result",
          "data": {
            "application/vnd.google.colaboratory.intrinsic+json": {
              "type": "string"
            },
            "text/plain": [
              "'\\n!pip install wandb\\nimport wandb\\nwandb.init()\\n'"
            ]
          },
          "metadata": {
            "tags": []
          },
          "execution_count": 5
        }
      ]
    },
    {
      "cell_type": "code",
      "metadata": {
        "papermill": {
          "duration": 1.040497,
          "end_time": "2020-08-29T09:36:25.755049",
          "exception": false,
          "start_time": "2020-08-29T09:36:24.714552",
          "status": "completed"
        },
        "tags": [],
        "trusted": true,
        "id": "kYXrrC-fmVki",
        "colab": {
          "base_uri": "https://localhost:8080/",
          "height": 414
        },
        "outputId": "134779e6-e06f-4adc-b75e-780a0bd9f255"
      },
      "source": [
        "df=pd.read_csv('/content/strem_20_times_data_clen.csv')\n",
        "\n",
        "df.drop(columns=['Unnamed: 0'],inplace=True)\n",
        "display(df)"
      ],
      "execution_count": null,
      "outputs": [
        {
          "output_type": "display_data",
          "data": {
            "text/html": [
              "<div>\n",
              "<style scoped>\n",
              "    .dataframe tbody tr th:only-of-type {\n",
              "        vertical-align: middle;\n",
              "    }\n",
              "\n",
              "    .dataframe tbody tr th {\n",
              "        vertical-align: top;\n",
              "    }\n",
              "\n",
              "    .dataframe thead th {\n",
              "        text-align: right;\n",
              "    }\n",
              "</style>\n",
              "<table border=\"1\" class=\"dataframe\">\n",
              "  <thead>\n",
              "    <tr style=\"text-align: right;\">\n",
              "      <th></th>\n",
              "      <th>Sentence</th>\n",
              "      <th>Sentiment</th>\n",
              "      <th>length</th>\n",
              "    </tr>\n",
              "  </thead>\n",
              "  <tbody>\n",
              "    <tr>\n",
              "      <th>0</th>\n",
              "      <td>গ্রেগর সামসা সেলস্ম্যান সকাল ঘুম উঠ তেলাপোকা ব...</td>\n",
              "      <td>2</td>\n",
              "      <td>45477</td>\n",
              "    </tr>\n",
              "    <tr>\n",
              "      <th>1</th>\n",
              "      <td>গ্রেগর সামসা সেলস্ম্যান সকাল ঘুম উঠ তেলাপোকা ব...</td>\n",
              "      <td>1</td>\n",
              "      <td>45477</td>\n",
              "    </tr>\n",
              "    <tr>\n",
              "      <th>2</th>\n",
              "      <td>জাতী সংসদ বাজেট আলোচনা বিরোধীদলী নেতা দেশনেত্র...</td>\n",
              "      <td>4</td>\n",
              "      <td>33176</td>\n",
              "    </tr>\n",
              "    <tr>\n",
              "      <th>3</th>\n",
              "      <td>জাতী সংসদ বাজেট আলোচনা বিরোধীদলী নেতা দেশনেত্র...</td>\n",
              "      <td>8</td>\n",
              "      <td>33176</td>\n",
              "    </tr>\n",
              "    <tr>\n",
              "      <th>4</th>\n",
              "      <td>জাতী সংসদ বাজেট আলোচনা বিরোধীদলী নেতা দেশনেত্র...</td>\n",
              "      <td>9</td>\n",
              "      <td>33176</td>\n",
              "    </tr>\n",
              "    <tr>\n",
              "      <th>...</th>\n",
              "      <td>...</td>\n",
              "      <td>...</td>\n",
              "      <td>...</td>\n",
              "    </tr>\n",
              "    <tr>\n",
              "      <th>95757</th>\n",
              "      <td>ঢাকা সেপ্ট</td>\n",
              "      <td>4</td>\n",
              "      <td>10</td>\n",
              "    </tr>\n",
              "    <tr>\n",
              "      <th>95758</th>\n",
              "      <td>মারুফ মল্</td>\n",
              "      <td>6</td>\n",
              "      <td>9</td>\n",
              "    </tr>\n",
              "    <tr>\n",
              "      <th>95759</th>\n",
              "      <td>মারুফ মল্</td>\n",
              "      <td>6</td>\n",
              "      <td>9</td>\n",
              "    </tr>\n",
              "    <tr>\n",
              "      <th>95760</th>\n",
              "      <td>লਫন৴ োম</td>\n",
              "      <td>2</td>\n",
              "      <td>7</td>\n",
              "    </tr>\n",
              "    <tr>\n",
              "      <th>95761</th>\n",
              "      <td>সাতক্ষী</td>\n",
              "      <td>2</td>\n",
              "      <td>7</td>\n",
              "    </tr>\n",
              "  </tbody>\n",
              "</table>\n",
              "<p>95762 rows × 3 columns</p>\n",
              "</div>"
            ],
            "text/plain": [
              "                                                Sentence  Sentiment  length\n",
              "0      গ্রেগর সামসা সেলস্ম্যান সকাল ঘুম উঠ তেলাপোকা ব...          2   45477\n",
              "1      গ্রেগর সামসা সেলস্ম্যান সকাল ঘুম উঠ তেলাপোকা ব...          1   45477\n",
              "2      জাতী সংসদ বাজেট আলোচনা বিরোধীদলী নেতা দেশনেত্র...          4   33176\n",
              "3      জাতী সংসদ বাজেট আলোচনা বিরোধীদলী নেতা দেশনেত্র...          8   33176\n",
              "4      জাতী সংসদ বাজেট আলোচনা বিরোধীদলী নেতা দেশনেত্র...          9   33176\n",
              "...                                                  ...        ...     ...\n",
              "95757                                         ঢাকা সেপ্ট          4      10\n",
              "95758                                          মারুফ মল্          6       9\n",
              "95759                                          মারুফ মল্          6       9\n",
              "95760                                            লਫন৴ োম          2       7\n",
              "95761                                            সাতক্ষী          2       7\n",
              "\n",
              "[95762 rows x 3 columns]"
            ]
          },
          "metadata": {
            "tags": []
          }
        }
      ]
    },
    {
      "cell_type": "code",
      "metadata": {
        "id": "hflkCnK1VW77"
      },
      "source": [
        "\n"
      ],
      "execution_count": null,
      "outputs": []
    },
    {
      "cell_type": "code",
      "metadata": {
        "colab": {
          "base_uri": "https://localhost:8080/",
          "height": 35
        },
        "id": "VAxO5xcsWZe5",
        "outputId": "19134a3f-8bd0-46ce-fe28-b86ae6c945de"
      },
      "source": [
        "df.iloc[95119]['Sentence']"
      ],
      "execution_count": null,
      "outputs": [
        {
          "output_type": "execute_result",
          "data": {
            "application/vnd.google.colaboratory.intrinsic+json": {
              "type": "string"
            },
            "text/plain": [
              "'প্রি শিক্ষার্থী ইংরেজি পত্র নং প্রশ্ন প্রশ্ন শূন্যস্থান পূরণ নম্বর প্রভাষক ঢাকা রেসিডেনসিয়াল মড কলেজ'"
            ]
          },
          "metadata": {
            "tags": []
          },
          "execution_count": 7
        }
      ]
    },
    {
      "cell_type": "markdown",
      "metadata": {
        "id": "37yebWNefELa"
      },
      "source": [
        "# **Dataframe Null value **"
      ]
    },
    {
      "cell_type": "code",
      "metadata": {
        "colab": {
          "base_uri": "https://localhost:8080/",
          "height": 414
        },
        "id": "5hpahWjlWqKU",
        "outputId": "4ba08457-4728-4f7d-9d2a-ff8691381cb5"
      },
      "source": [
        "df.loc[df['length'] <= 100]"
      ],
      "execution_count": null,
      "outputs": [
        {
          "output_type": "execute_result",
          "data": {
            "text/html": [
              "<div>\n",
              "<style scoped>\n",
              "    .dataframe tbody tr th:only-of-type {\n",
              "        vertical-align: middle;\n",
              "    }\n",
              "\n",
              "    .dataframe tbody tr th {\n",
              "        vertical-align: top;\n",
              "    }\n",
              "\n",
              "    .dataframe thead th {\n",
              "        text-align: right;\n",
              "    }\n",
              "</style>\n",
              "<table border=\"1\" class=\"dataframe\">\n",
              "  <thead>\n",
              "    <tr style=\"text-align: right;\">\n",
              "      <th></th>\n",
              "      <th>Sentence</th>\n",
              "      <th>Sentiment</th>\n",
              "      <th>length</th>\n",
              "    </tr>\n",
              "  </thead>\n",
              "  <tbody>\n",
              "    <tr>\n",
              "      <th>95117</th>\n",
              "      <td>ইংরেজি পত্র লেসন প্রি শিক্ষার্থী ইংরেজি পত্র ল...</td>\n",
              "      <td>4</td>\n",
              "      <td>100</td>\n",
              "    </tr>\n",
              "    <tr>\n",
              "      <th>95118</th>\n",
              "      <td>প্রি শিক্ষার্থী ইংরেজি পত্র নম্বর প্রশ্ন আলোচন...</td>\n",
              "      <td>4</td>\n",
              "      <td>100</td>\n",
              "    </tr>\n",
              "    <tr>\n",
              "      <th>95119</th>\n",
              "      <td>প্রি শিক্ষার্থী ইংরেজি পত্র নং প্রশ্ন প্রশ্ন শ...</td>\n",
              "      <td>4</td>\n",
              "      <td>100</td>\n",
              "    </tr>\n",
              "    <tr>\n",
              "      <th>95120</th>\n",
              "      <td>প্রি শিক্ষার্থী ইংরেজি পত্র চর্চা কর মি নেব শি...</td>\n",
              "      <td>4</td>\n",
              "      <td>100</td>\n",
              "    </tr>\n",
              "    <tr>\n",
              "      <th>95121</th>\n",
              "      <td>রিয়াজুল বাশ মাহমুদ শরীফ বিডিনিউজ টোয়েন্টিফোর ড...</td>\n",
              "      <td>6</td>\n",
              "      <td>100</td>\n",
              "    </tr>\n",
              "    <tr>\n",
              "      <th>...</th>\n",
              "      <td>...</td>\n",
              "      <td>...</td>\n",
              "      <td>...</td>\n",
              "    </tr>\n",
              "    <tr>\n",
              "      <th>95757</th>\n",
              "      <td>ঢাকা সেপ্ট</td>\n",
              "      <td>4</td>\n",
              "      <td>10</td>\n",
              "    </tr>\n",
              "    <tr>\n",
              "      <th>95758</th>\n",
              "      <td>মারুফ মল্</td>\n",
              "      <td>6</td>\n",
              "      <td>9</td>\n",
              "    </tr>\n",
              "    <tr>\n",
              "      <th>95759</th>\n",
              "      <td>মারুফ মল্</td>\n",
              "      <td>6</td>\n",
              "      <td>9</td>\n",
              "    </tr>\n",
              "    <tr>\n",
              "      <th>95760</th>\n",
              "      <td>লਫন৴ োম</td>\n",
              "      <td>2</td>\n",
              "      <td>7</td>\n",
              "    </tr>\n",
              "    <tr>\n",
              "      <th>95761</th>\n",
              "      <td>সাতক্ষী</td>\n",
              "      <td>2</td>\n",
              "      <td>7</td>\n",
              "    </tr>\n",
              "  </tbody>\n",
              "</table>\n",
              "<p>645 rows × 3 columns</p>\n",
              "</div>"
            ],
            "text/plain": [
              "                                                Sentence  Sentiment  length\n",
              "95117  ইংরেজি পত্র লেসন প্রি শিক্ষার্থী ইংরেজি পত্র ল...          4     100\n",
              "95118  প্রি শিক্ষার্থী ইংরেজি পত্র নম্বর প্রশ্ন আলোচন...          4     100\n",
              "95119  প্রি শিক্ষার্থী ইংরেজি পত্র নং প্রশ্ন প্রশ্ন শ...          4     100\n",
              "95120  প্রি শিক্ষার্থী ইংরেজি পত্র চর্চা কর মি নেব শি...          4     100\n",
              "95121  রিয়াজুল বাশ মাহমুদ শরীফ বিডিনিউজ টোয়েন্টিফোর ড...          6     100\n",
              "...                                                  ...        ...     ...\n",
              "95757                                         ঢাকা সেপ্ট          4      10\n",
              "95758                                          মারুফ মল্          6       9\n",
              "95759                                          মারুফ মল্          6       9\n",
              "95760                                            লਫন৴ োম          2       7\n",
              "95761                                            সাতক্ষী          2       7\n",
              "\n",
              "[645 rows x 3 columns]"
            ]
          },
          "metadata": {
            "tags": []
          },
          "execution_count": 8
        }
      ]
    },
    {
      "cell_type": "code",
      "metadata": {
        "colab": {
          "base_uri": "https://localhost:8080/",
          "height": 414
        },
        "id": "OZszn05Kbvye",
        "outputId": "f1e1bc19-06f5-47f6-ab92-7f1d73d2f9aa"
      },
      "source": [
        "df.drop(df[df['length'] < 100].index, inplace = True)\n",
        "display(df)"
      ],
      "execution_count": null,
      "outputs": [
        {
          "output_type": "display_data",
          "data": {
            "text/html": [
              "<div>\n",
              "<style scoped>\n",
              "    .dataframe tbody tr th:only-of-type {\n",
              "        vertical-align: middle;\n",
              "    }\n",
              "\n",
              "    .dataframe tbody tr th {\n",
              "        vertical-align: top;\n",
              "    }\n",
              "\n",
              "    .dataframe thead th {\n",
              "        text-align: right;\n",
              "    }\n",
              "</style>\n",
              "<table border=\"1\" class=\"dataframe\">\n",
              "  <thead>\n",
              "    <tr style=\"text-align: right;\">\n",
              "      <th></th>\n",
              "      <th>Sentence</th>\n",
              "      <th>Sentiment</th>\n",
              "      <th>length</th>\n",
              "    </tr>\n",
              "  </thead>\n",
              "  <tbody>\n",
              "    <tr>\n",
              "      <th>0</th>\n",
              "      <td>গ্রেগর সামসা সেলস্ম্যান সকাল ঘুম উঠ তেলাপোকা ব...</td>\n",
              "      <td>2</td>\n",
              "      <td>45477</td>\n",
              "    </tr>\n",
              "    <tr>\n",
              "      <th>1</th>\n",
              "      <td>গ্রেগর সামসা সেলস্ম্যান সকাল ঘুম উঠ তেলাপোকা ব...</td>\n",
              "      <td>1</td>\n",
              "      <td>45477</td>\n",
              "    </tr>\n",
              "    <tr>\n",
              "      <th>2</th>\n",
              "      <td>জাতী সংসদ বাজেট আলোচনা বিরোধীদলী নেতা দেশনেত্র...</td>\n",
              "      <td>4</td>\n",
              "      <td>33176</td>\n",
              "    </tr>\n",
              "    <tr>\n",
              "      <th>3</th>\n",
              "      <td>জাতী সংসদ বাজেট আলোচনা বিরোধীদলী নেতা দেশনেত্র...</td>\n",
              "      <td>8</td>\n",
              "      <td>33176</td>\n",
              "    </tr>\n",
              "    <tr>\n",
              "      <th>4</th>\n",
              "      <td>জাতী সংসদ বাজেট আলোচনা বিরোধীদলী নেতা দেশনেত্র...</td>\n",
              "      <td>9</td>\n",
              "      <td>33176</td>\n",
              "    </tr>\n",
              "    <tr>\n",
              "      <th>...</th>\n",
              "      <td>...</td>\n",
              "      <td>...</td>\n",
              "      <td>...</td>\n",
              "    </tr>\n",
              "    <tr>\n",
              "      <th>95125</th>\n",
              "      <td>জয়পুর জুন বিডিনিউজ টোয়েন্টিফোর ডটকমরয়টার্স চাক...</td>\n",
              "      <td>4</td>\n",
              "      <td>100</td>\n",
              "    </tr>\n",
              "    <tr>\n",
              "      <th>95126</th>\n",
              "      <td>ইউনিট লেসন প্রি শিক্ষার্থী ইংরেজি পত্র গতকাল ই...</td>\n",
              "      <td>4</td>\n",
              "      <td>100</td>\n",
              "    </tr>\n",
              "    <tr>\n",
              "      <th>95127</th>\n",
              "      <td>ইউনিট লেসন প্রিয় শিক্ষার্থী ইংরেজি পত্র ইউনিট...</td>\n",
              "      <td>4</td>\n",
              "      <td>100</td>\n",
              "    </tr>\n",
              "    <tr>\n",
              "      <th>95128</th>\n",
              "      <td>প্রি শিক্ষার্থী ইংরেজি পত্র নং প্রশ্ন আলোচনা ...</td>\n",
              "      <td>4</td>\n",
              "      <td>100</td>\n",
              "    </tr>\n",
              "    <tr>\n",
              "      <th>95129</th>\n",
              "      <td>লেসন প্রি শিক্ষার্থী ইংরেজি পত্র লেসন প্যাসেজ ...</td>\n",
              "      <td>4</td>\n",
              "      <td>100</td>\n",
              "    </tr>\n",
              "  </tbody>\n",
              "</table>\n",
              "<p>95130 rows × 3 columns</p>\n",
              "</div>"
            ],
            "text/plain": [
              "                                                Sentence  Sentiment  length\n",
              "0      গ্রেগর সামসা সেলস্ম্যান সকাল ঘুম উঠ তেলাপোকা ব...          2   45477\n",
              "1      গ্রেগর সামসা সেলস্ম্যান সকাল ঘুম উঠ তেলাপোকা ব...          1   45477\n",
              "2      জাতী সংসদ বাজেট আলোচনা বিরোধীদলী নেতা দেশনেত্র...          4   33176\n",
              "3      জাতী সংসদ বাজেট আলোচনা বিরোধীদলী নেতা দেশনেত্র...          8   33176\n",
              "4      জাতী সংসদ বাজেট আলোচনা বিরোধীদলী নেতা দেশনেত্র...          9   33176\n",
              "...                                                  ...        ...     ...\n",
              "95125  জয়পুর জুন বিডিনিউজ টোয়েন্টিফোর ডটকমরয়টার্স চাক...          4     100\n",
              "95126  ইউনিট লেসন প্রি শিক্ষার্থী ইংরেজি পত্র গতকাল ই...          4     100\n",
              "95127  ইউনিট লেসন প্রিয় শিক্ষার্থী ইংরেজি পত্র ইউনিট...          4     100\n",
              "95128  প্রি শিক্ষার্থী ইংরেজি পত্র নং প্রশ্ন আলোচনা ...          4     100\n",
              "95129  লেসন প্রি শিক্ষার্থী ইংরেজি পত্র লেসন প্যাসেজ ...          4     100\n",
              "\n",
              "[95130 rows x 3 columns]"
            ]
          },
          "metadata": {
            "tags": []
          }
        }
      ]
    },
    {
      "cell_type": "code",
      "metadata": {
        "colab": {
          "base_uri": "https://localhost:8080/",
          "height": 414
        },
        "id": "ksBBKazqcuqO",
        "outputId": "953b13dc-0792-401b-d070-1e72111cf425"
      },
      "source": [
        "df = df.drop_duplicates('Sentence', keep='first')\n",
        "df.drop(df[df['Sentiment']==1 ].index, inplace = True)\n",
        "df.drop(df[df['Sentiment']==8 ].index, inplace = True)\n",
        "df.reset_index(inplace=True)\n",
        "df.drop(columns=['index'],inplace=True)\n",
        "df"
      ],
      "execution_count": null,
      "outputs": [
        {
          "output_type": "execute_result",
          "data": {
            "text/html": [
              "<div>\n",
              "<style scoped>\n",
              "    .dataframe tbody tr th:only-of-type {\n",
              "        vertical-align: middle;\n",
              "    }\n",
              "\n",
              "    .dataframe tbody tr th {\n",
              "        vertical-align: top;\n",
              "    }\n",
              "\n",
              "    .dataframe thead th {\n",
              "        text-align: right;\n",
              "    }\n",
              "</style>\n",
              "<table border=\"1\" class=\"dataframe\">\n",
              "  <thead>\n",
              "    <tr style=\"text-align: right;\">\n",
              "      <th></th>\n",
              "      <th>Sentence</th>\n",
              "      <th>Sentiment</th>\n",
              "      <th>length</th>\n",
              "    </tr>\n",
              "  </thead>\n",
              "  <tbody>\n",
              "    <tr>\n",
              "      <th>0</th>\n",
              "      <td>গ্রেগর সামসা সেলস্ম্যান সকাল ঘুম উঠ তেলাপোকা ব...</td>\n",
              "      <td>2</td>\n",
              "      <td>45477</td>\n",
              "    </tr>\n",
              "    <tr>\n",
              "      <th>1</th>\n",
              "      <td>জাতী সংসদ বাজেট আলোচনা বিরোধীদলী নেতা দেশনেত্র...</td>\n",
              "      <td>4</td>\n",
              "      <td>33176</td>\n",
              "    </tr>\n",
              "    <tr>\n",
              "      <th>2</th>\n",
              "      <td>এটিএন বাংলা ঈদ অনুষ্ঠানমালা ছয়দিন দশ পর্ব নাটক...</td>\n",
              "      <td>11</td>\n",
              "      <td>26534</td>\n",
              "    </tr>\n",
              "    <tr>\n",
              "      <th>3</th>\n",
              "      <td>কথা কথা কথা পাব অ্যাকটিং ভালো রপ্ত কর ওশোর পাত...</td>\n",
              "      <td>11</td>\n",
              "      <td>21860</td>\n",
              "    </tr>\n",
              "    <tr>\n",
              "      <th>4</th>\n",
              "      <td>উত্থান পর্ব সাল ফেব্রুয়ারি মাস বাংলাদেশ প্রজন্...</td>\n",
              "      <td>2</td>\n",
              "      <td>21460</td>\n",
              "    </tr>\n",
              "    <tr>\n",
              "      <th>...</th>\n",
              "      <td>...</td>\n",
              "      <td>...</td>\n",
              "      <td>...</td>\n",
              "    </tr>\n",
              "    <tr>\n",
              "      <th>78820</th>\n",
              "      <td>জয়পুর জুন বিডিনিউজ টোয়েন্টিফোর ডটকমরয়টার্স চাক...</td>\n",
              "      <td>4</td>\n",
              "      <td>100</td>\n",
              "    </tr>\n",
              "    <tr>\n",
              "      <th>78821</th>\n",
              "      <td>ইউনিট লেসন প্রি শিক্ষার্থী ইংরেজি পত্র গতকাল ই...</td>\n",
              "      <td>4</td>\n",
              "      <td>100</td>\n",
              "    </tr>\n",
              "    <tr>\n",
              "      <th>78822</th>\n",
              "      <td>ইউনিট লেসন প্রিয় শিক্ষার্থী ইংরেজি পত্র ইউনিট...</td>\n",
              "      <td>4</td>\n",
              "      <td>100</td>\n",
              "    </tr>\n",
              "    <tr>\n",
              "      <th>78823</th>\n",
              "      <td>প্রি শিক্ষার্থী ইংরেজি পত্র নং প্রশ্ন আলোচনা ...</td>\n",
              "      <td>4</td>\n",
              "      <td>100</td>\n",
              "    </tr>\n",
              "    <tr>\n",
              "      <th>78824</th>\n",
              "      <td>লেসন প্রি শিক্ষার্থী ইংরেজি পত্র লেসন প্যাসেজ ...</td>\n",
              "      <td>4</td>\n",
              "      <td>100</td>\n",
              "    </tr>\n",
              "  </tbody>\n",
              "</table>\n",
              "<p>78825 rows × 3 columns</p>\n",
              "</div>"
            ],
            "text/plain": [
              "                                                Sentence  Sentiment  length\n",
              "0      গ্রেগর সামসা সেলস্ম্যান সকাল ঘুম উঠ তেলাপোকা ব...          2   45477\n",
              "1      জাতী সংসদ বাজেট আলোচনা বিরোধীদলী নেতা দেশনেত্র...          4   33176\n",
              "2      এটিএন বাংলা ঈদ অনুষ্ঠানমালা ছয়দিন দশ পর্ব নাটক...         11   26534\n",
              "3      কথা কথা কথা পাব অ্যাকটিং ভালো রপ্ত কর ওশোর পাত...         11   21860\n",
              "4      উত্থান পর্ব সাল ফেব্রুয়ারি মাস বাংলাদেশ প্রজন্...          2   21460\n",
              "...                                                  ...        ...     ...\n",
              "78820  জয়পুর জুন বিডিনিউজ টোয়েন্টিফোর ডটকমরয়টার্স চাক...          4     100\n",
              "78821  ইউনিট লেসন প্রি শিক্ষার্থী ইংরেজি পত্র গতকাল ই...          4     100\n",
              "78822  ইউনিট লেসন প্রিয় শিক্ষার্থী ইংরেজি পত্র ইউনিট...          4     100\n",
              "78823  প্রি শিক্ষার্থী ইংরেজি পত্র নং প্রশ্ন আলোচনা ...          4     100\n",
              "78824  লেসন প্রি শিক্ষার্থী ইংরেজি পত্র লেসন প্যাসেজ ...          4     100\n",
              "\n",
              "[78825 rows x 3 columns]"
            ]
          },
          "metadata": {
            "tags": []
          },
          "execution_count": 10
        }
      ]
    },
    {
      "cell_type": "code",
      "metadata": {
        "colab": {
          "base_uri": "https://localhost:8080/"
        },
        "id": "9tPSMluodocm",
        "outputId": "92c83721-4880-49f8-b63c-1265afda7ffb"
      },
      "source": [
        "df.isna().sum().sum()"
      ],
      "execution_count": null,
      "outputs": [
        {
          "output_type": "execute_result",
          "data": {
            "text/plain": [
              "0"
            ]
          },
          "metadata": {
            "tags": []
          },
          "execution_count": 11
        }
      ]
    },
    {
      "cell_type": "code",
      "metadata": {
        "id": "8mANYLtweiKi"
      },
      "source": [
        "df.dropna(axis=0, how=\"any\", thresh=None, subset=None, inplace=True)"
      ],
      "execution_count": null,
      "outputs": []
    },
    {
      "cell_type": "code",
      "metadata": {
        "colab": {
          "base_uri": "https://localhost:8080/"
        },
        "id": "ss_KWuoweu0F",
        "outputId": "3200be5a-41b2-415b-9219-8c3f6e79355e"
      },
      "source": [
        "df.isna().sum().sum()"
      ],
      "execution_count": null,
      "outputs": [
        {
          "output_type": "execute_result",
          "data": {
            "text/plain": [
              "0"
            ]
          },
          "metadata": {
            "tags": []
          },
          "execution_count": 13
        }
      ]
    },
    {
      "cell_type": "code",
      "metadata": {
        "trusted": true,
        "id": "wSs-U7q9mVkj",
        "colab": {
          "base_uri": "https://localhost:8080/",
          "height": 264
        },
        "outputId": "e4d48dc4-87f2-4b5c-c4a7-932741d72c6b"
      },
      "source": [
        "df['Sentence'].apply(lambda x: len(str(x))).plot(kind='hist');"
      ],
      "execution_count": null,
      "outputs": [
        {
          "output_type": "display_data",
          "data": {
            "image/png": "[encoded data removed]",
            "text/plain": [
              "<Figure size 432x288 with 1 Axes>"
            ]
          },
          "metadata": {
            "tags": [],
            "needs_background": "light"
          }
        }
      ]
    },
    {
      "cell_type": "code",
      "metadata": {
        "id": "JgNu9RIL0hkG"
      },
      "source": [
        "df.Sentiment.reset_index(drop=True, inplace=True)"
      ],
      "execution_count": null,
      "outputs": []
    },
    {
      "cell_type": "code",
      "metadata": {
        "colab": {
          "base_uri": "https://localhost:8080/"
        },
        "id": "nMzwQ0UN0lrf",
        "outputId": "d741eb15-742b-4964-9c5d-406ac83cdbe6"
      },
      "source": [
        "df.Sentiment.value_counts()"
      ],
      "execution_count": null,
      "outputs": [
        {
          "output_type": "execute_result",
          "data": {
            "text/plain": [
              "9     18558\n",
              "11    11296\n",
              "4     10706\n",
              "5      8951\n",
              "2      8199\n",
              "0      6126\n",
              "7      5036\n",
              "6      3754\n",
              "3      3389\n",
              "10     2810\n",
              "Name: Sentiment, dtype: int64"
            ]
          },
          "metadata": {
            "tags": []
          },
          "execution_count": 16
        }
      ]
    },
    {
      "cell_type": "code",
      "metadata": {
        "papermill": {
          "duration": 0.24749,
          "end_time": "2020-08-29T09:36:26.033522",
          "exception": false,
          "start_time": "2020-08-29T09:36:25.786032",
          "status": "completed"
        },
        "tags": [],
        "trusted": true,
        "id": "uMbyCOuWmVkk",
        "colab": {
          "base_uri": "https://localhost:8080/",
          "height": 334
        },
        "outputId": "e91cc95d-6b6a-40b1-8b67-a9865c23d8e4"
      },
      "source": [
        "sns.countplot(df['Sentiment']);"
      ],
      "execution_count": null,
      "outputs": [
        {
          "output_type": "stream",
          "text": [
            "/usr/local/lib/python3.7/dist-packages/seaborn/_decorators.py:43: FutureWarning: Pass the following variable as a keyword arg: x. From version 0.12, the only valid positional argument will be `data`, and passing other arguments without an explicit keyword will result in an error or misinterpretation.\n",
            "  FutureWarning\n"
          ],
          "name": "stderr"
        },
        {
          "output_type": "display_data",
          "data": {
            "image/png": "[encoded data removed]",
            "text/plain": [
              "<Figure size 432x288 with 1 Axes>"
            ]
          },
          "metadata": {
            "tags": [],
            "needs_background": "light"
          }
        }
      ]
    },
    {
      "cell_type": "markdown",
      "metadata": {
        "id": "v7XemCFpV1it"
      },
      "source": [
        "# **bnltk 0.7.6 Stemmer**"
      ]
    },
    {
      "cell_type": "code",
      "metadata": {
        "id": "pVvpjSTfWTJ5"
      },
      "source": [
        ""
      ],
      "execution_count": null,
      "outputs": []
    },
    {
      "cell_type": "code",
      "metadata": {
        "id": "_IYaV-9vWTTk"
      },
      "source": [
        ""
      ],
      "execution_count": null,
      "outputs": []
    },
    {
      "cell_type": "code",
      "metadata": {
        "id": "-yDkfRwjWTWq"
      },
      "source": [
        "\n",
        "\n"
      ],
      "execution_count": null,
      "outputs": []
    },
    {
      "cell_type": "code",
      "metadata": {
        "id": "Qvt4Lz0Vhd-p"
      },
      "source": [
        ""
      ],
      "execution_count": null,
      "outputs": []
    },
    {
      "cell_type": "markdown",
      "metadata": {
        "id": "7_5470jthele"
      },
      "source": [
        "**New Stemmed**"
      ]
    },
    {
      "cell_type": "code",
      "metadata": {
        "colab": {
          "base_uri": "https://localhost:8080/"
        },
        "id": "imV82g7aWNaX",
        "outputId": "1a6c2b81-1b81-4aca-a856-30cf42230b9a"
      },
      "source": [
        "uniqueWords = list(set(\" \".join(df['Sentence']).split(\" \")))\n",
        "count = len(uniqueWords)\n",
        "print(count)"
      ],
      "execution_count": null,
      "outputs": [
        {
          "output_type": "stream",
          "text": [
            "271263\n"
          ],
          "name": "stdout"
        }
      ]
    },
    {
      "cell_type": "code",
      "metadata": {
        "papermill": {
          "duration": 0.019937,
          "end_time": "2020-08-29T09:36:26.43929",
          "exception": false,
          "start_time": "2020-08-29T09:36:26.419353",
          "status": "completed"
        },
        "tags": [],
        "trusted": true,
        "id": "D4TnjSfQmVkl"
      },
      "source": [
        "df['Sentence'] = df['Sentence'].astype('str') \n",
        "df.reset_index(drop=True, inplace=True)\n",
        "#df['Sentence'] = df['Sentence'].astype('str')"
      ],
      "execution_count": null,
      "outputs": []
    },
    {
      "cell_type": "code",
      "metadata": {
        "trusted": true,
        "id": "Ku0ZD8k5mVkm"
      },
      "source": [
        ""
      ],
      "execution_count": null,
      "outputs": []
    },
    {
      "cell_type": "code",
      "metadata": {
        "trusted": true,
        "id": "EhhzSUaTmVkm"
      },
      "source": [
        "\n",
        "#df['Sentence'] = df.Sentence.apply(lambda x: Stemming(str(x)))"
      ],
      "execution_count": null,
      "outputs": []
    },
    {
      "cell_type": "code",
      "metadata": {
        "trusted": true,
        "id": "XbyfTxDAmVkm",
        "colab": {
          "base_uri": "https://localhost:8080/",
          "height": 264
        },
        "outputId": "f67696f6-ec9a-4b1b-b498-3cb6cb73b4d7"
      },
      "source": [
        "df['Sentence'].apply(lambda x: len(str(x))).plot(kind='hist');"
      ],
      "execution_count": null,
      "outputs": [
        {
          "output_type": "display_data",
          "data": {
            "image/png": "[encoded data removed]",
            "text/plain": [
              "<Figure size 432x288 with 1 Axes>"
            ]
          },
          "metadata": {
            "tags": [],
            "needs_background": "light"
          }
        }
      ]
    },
    {
      "cell_type": "code",
      "metadata": {
        "id": "GDl2zEFLmNxy"
      },
      "source": [
        "from collections import Counter\n",
        "#Counter(\" \".join(df[\"Sentence\"]).split()).most_common(1000)  \n",
        "#NOT FASTER "
      ],
      "execution_count": null,
      "outputs": []
    },
    {
      "cell_type": "code",
      "metadata": {
        "id": "KnzB1K8dmmKw"
      },
      "source": [
        "#pd.Series(' '.join(df['Sentence']).lower().split()).value_counts()[:10000] #faster AND for large amounts of text/rows"
      ],
      "execution_count": null,
      "outputs": []
    },
    {
      "cell_type": "markdown",
      "metadata": {
        "id": "j1dggyKpIQTd"
      },
      "source": [
        "# **Shuffle the data**"
      ]
    },
    {
      "cell_type": "code",
      "metadata": {
        "id": "PhCjppGtIOpa"
      },
      "source": [
        "from sklearn.utils import shuffle\n",
        "df = shuffle(df)"
      ],
      "execution_count": null,
      "outputs": []
    },
    {
      "cell_type": "code",
      "metadata": {
        "colab": {
          "base_uri": "https://localhost:8080/"
        },
        "id": "yYFRSOk5y2Ym",
        "outputId": "3497956e-73ff-4fbb-a5b1-29b982310b37"
      },
      "source": [
        "df.Sentiment.value_counts()"
      ],
      "execution_count": null,
      "outputs": [
        {
          "output_type": "execute_result",
          "data": {
            "text/plain": [
              "9     18558\n",
              "11    11296\n",
              "4     10706\n",
              "5      8951\n",
              "2      8199\n",
              "0      6126\n",
              "7      5036\n",
              "6      3754\n",
              "3      3389\n",
              "10     2810\n",
              "Name: Sentiment, dtype: int64"
            ]
          },
          "metadata": {
            "tags": []
          },
          "execution_count": 25
        }
      ]
    },
    {
      "cell_type": "code",
      "metadata": {
        "papermill": {
          "duration": 0.149615,
          "end_time": "2020-08-29T09:36:26.620833",
          "exception": false,
          "start_time": "2020-08-29T09:36:26.471218",
          "status": "completed"
        },
        "tags": [],
        "trusted": true,
        "id": "g1o7nrismVkn",
        "colab": {
          "base_uri": "https://localhost:8080/"
        },
        "outputId": "b576af1a-09f3-45a2-8955-142892dd9238"
      },
      "source": [
        "train1, test1 = train_test_split(df,random_state=22, test_size=0.2)\n",
        "training_sentences = []\n",
        "testing_sentences = []\n",
        "\n",
        "\n",
        "\n",
        "\n",
        "train_sentences=train1['Sentence'].values\n",
        "train_labels=train1['Sentiment'].values\n",
        "#for i in range(train_sentences.shape[0]): \n",
        "    #print(train_sentences[i])\n",
        " #   x=str(train_sentences[i])\n",
        " #   training_sentences.append(x)\n",
        "\n",
        " \n",
        "    \n",
        "#training_sentences=np.array(training_sentences)\n",
        "\n",
        "\n",
        "\n",
        "\n",
        "\n",
        "test_sentences=test1['Sentence'].values\n",
        "test_labels=test1['Sentiment'].values\n",
        "#y = pd.get_dummies(data1['Sentiment']).values\n",
        "\n",
        "train_labels=pd.get_dummies(train_labels).values\n",
        "test_labels=pd.get_dummies(test_labels).values\n",
        "\n",
        "\n",
        "print(\"Training Set Length: \"+str(len(train1)))\n",
        "print(\"Testing Set Length: \"+str(len(test1)))\n",
        "print(\"training_sentences shape: \"+str(train_sentences.shape))\n",
        "print(\"testing_sentences shape: \"+str(test_sentences.shape))\n",
        "print(\"train_labels shape: \"+str(train_labels.shape))\n",
        "print(\"test_labels shape: \"+str(test_labels.shape))\n"
      ],
      "execution_count": null,
      "outputs": [
        {
          "output_type": "stream",
          "text": [
            "Training Set Length: 63060\n",
            "Testing Set Length: 15765\n",
            "training_sentences shape: (63060,)\n",
            "testing_sentences shape: (15765,)\n",
            "train_labels shape: (63060, 10)\n",
            "test_labels shape: (15765, 10)\n"
          ],
          "name": "stdout"
        }
      ]
    },
    {
      "cell_type": "code",
      "metadata": {
        "trusted": true,
        "id": "KAY5AQRxmVko",
        "colab": {
          "base_uri": "https://localhost:8080/"
        },
        "outputId": "4a64af97-85a8-4298-f1bd-da7ec2a47ec8"
      },
      "source": [
        "train_labels"
      ],
      "execution_count": null,
      "outputs": [
        {
          "output_type": "execute_result",
          "data": {
            "text/plain": [
              "array([[1, 0, 0, ..., 0, 0, 0],\n",
              "       [0, 0, 0, ..., 0, 0, 0],\n",
              "       [0, 0, 0, ..., 0, 0, 0],\n",
              "       ...,\n",
              "       [0, 0, 0, ..., 0, 0, 0],\n",
              "       [0, 0, 0, ..., 0, 0, 0],\n",
              "       [0, 0, 0, ..., 0, 0, 1]], dtype=uint8)"
            ]
          },
          "metadata": {
            "tags": []
          },
          "execution_count": 27
        }
      ]
    },
    {
      "cell_type": "code",
      "metadata": {
        "trusted": true,
        "id": "qB9iZkNLmVko"
      },
      "source": [
        ""
      ],
      "execution_count": null,
      "outputs": []
    },
    {
      "cell_type": "code",
      "metadata": {
        "papermill": {
          "duration": 0.020899,
          "end_time": "2020-08-29T09:36:26.674467",
          "exception": false,
          "start_time": "2020-08-29T09:36:26.653568",
          "status": "completed"
        },
        "tags": [],
        "trusted": true,
        "id": "hTeWiL_CmVko",
        "colab": {
          "base_uri": "https://localhost:8080/"
        },
        "outputId": "515ecb09-1c7b-4746-e590-3401b5df6764"
      },
      "source": [
        "print(train_sentences[10])\n",
        "print(train_labels[0])"
      ],
      "execution_count": null,
      "outputs": [
        {
          "output_type": "stream",
          "text": [
            "ঢাকায় রায়পুর উপজেলা পৌর বিএনপির আংশিক কমি গঠন কমি সম্পাদক সাংগঠনিক সম্পাদক পদ একাধিক প্রার্থী সংঘর্ষ আশঙ্কায় ঢাকায় কমি গঠন জেলা কমি দলীয় সূত্র মঙ্গলব রায়পুর জেলা পরিষদ মিলনায়তন উপজেলা পৌর বিএনপির সম্মেলন উপজেলা বিএনপির সভাপতি মনিরুল ইসলাম হাওলাদ পৌর বিএনপির সভাপতি এম জিলানী প্রতিদ্বন্দ্বিতায় নির্বাচিত সম্পাদক সাংগঠনিক সম্পাদক নেতা নির্বাচন চূড়ান্ত তড়িঘড়ি সম্মেলন সম্মেলন প্রধান অতিথি লক্ষ্মীপুর রায়পুর আসন সাংসদ জেলা বিএনপির সভাপতি আবুল খায় ভূঁইয়া উপস্থিত হননি দলীয় সূত্র শুক্র স্থানীয় নেতাকর্মী ঢাকায় মহানগর বিএনপির কার্যালয় জড়ো দুপুর রাত সমঝোতা বৈঠক জেলা বিএনপির সভাপতি আবুল খায় ভূঁইয়া বৈঠ উপস্থিত সমঝোতা উপজেলা বিএনপির সম্পাদক পদ পাঁচজন প্রার্থী প্রতিদ্বন্দ্বিতা কাউন্সিলর ভোট উপজেলা বিএনপির সম্পাদক পদ নাজমুল ইসলাম মিঠু সাংগঠনিক সম্পাদক পদ মোবারক হোস মাস্ নির্বাচিত পৌর বিএনপির সম্পাদক পদ এম জাহ সাংগঠনিক সম্পাদক পদ দেলোয় হোস নির্বাচিত কয়েকজন জ্যেষ্ঠ নেতা জানান উপজেলা পৌর বিএনপির সম্পাদক সাংগঠনিক সম্পাদক পদ চারছয়জন প্রার্থী প্রতিদ্বন্দ্বিতা প্রার্থী সমর্থক নেতাকর্মী সম্মেলনস্থল জড়ো পকেট কমি পরাজিত প্রার্থী সমর্থক হামলা ভাঙচুর আশঙ্কা পরিস্থিতি সামাল কঠিন যেত তড়িঘড়ি জেলা বিএনপির সম্পাদক সাহাব উদ্দিন সাবু শুক্র ঢাকায় কমি সম্মেলন পৌর বিএনপির সভাপতি এম জিলানী বিএনপি দল নেতৃত্ব প্রতিযোগিতা থাকব সাল পৌর বিএনপি সাল উপজেলা বিএনপির সর্বশেষ সম্মেলন জেলা বিএনপির সভাপতি অসুস্থ নেতাকর্মী ঢাকায় ঢাকায় উপস্থিত কমি চাইল জেলা বিএনপির সভাপতি আবুল খায় ভূঁইয়া পকেট কমি তৃণমূল নেতাকর্মী নেতা নির্বাচন কাউন্সিলর ভোট নেতা নির্বাচিত\n",
            "[1 0 0 0 0 0 0 0 0 0]\n"
          ],
          "name": "stdout"
        }
      ]
    },
    {
      "cell_type": "code",
      "metadata": {
        "papermill": {
          "duration": 0.02028,
          "end_time": "2020-08-29T09:36:26.728248",
          "exception": false,
          "start_time": "2020-08-29T09:36:26.707968",
          "status": "completed"
        },
        "tags": [],
        "trusted": true,
        "id": "O8Rw3bFfmVkp"
      },
      "source": [
        "vocab_size = 200000\n",
        "embedding_dim = 300\n",
        "max_length = 4000\n",
        "trunc_type='post'\n",
        "oov_tok = \"<OOV>\""
      ],
      "execution_count": null,
      "outputs": []
    },
    {
      "cell_type": "code",
      "metadata": {
        "papermill": {
          "duration": 0.02122,
          "end_time": "2020-08-29T09:36:26.76056",
          "exception": false,
          "start_time": "2020-08-29T09:36:26.73934",
          "status": "completed"
        },
        "tags": [],
        "trusted": true,
        "id": "816r9qMOmVkp",
        "colab": {
          "base_uri": "https://localhost:8080/"
        },
        "outputId": "5c759584-345a-4992-9779-f2939a14058b"
      },
      "source": [
        "print(train_sentences.shape)\n",
        "print(train_labels.shape)"
      ],
      "execution_count": null,
      "outputs": [
        {
          "output_type": "stream",
          "text": [
            "(63060,)\n",
            "(63060, 10)\n"
          ],
          "name": "stdout"
        }
      ]
    },
    {
      "cell_type": "code",
      "metadata": {
        "papermill": {
          "duration": 0.682778,
          "end_time": "2020-08-29T09:36:27.475798",
          "exception": false,
          "start_time": "2020-08-29T09:36:26.79302",
          "status": "completed"
        },
        "tags": [],
        "trusted": true,
        "id": "kieBp_3XmVkp",
        "colab": {
          "base_uri": "https://localhost:8080/"
        },
        "outputId": "5d87a5da-8a56-40e6-f961-626ee6d87bfc"
      },
      "source": [
        "tokenizer = Tokenizer(num_words = vocab_size, oov_token=oov_tok)\n",
        "tokenizer.fit_on_texts(train_sentences)\n",
        "word_index = tokenizer.word_index\n",
        "\n",
        "#451606 words in raw dataset\n",
        "#434245 words in raw dataset after stopwords removal\n",
        "#339313 after stemming \n",
        "\n",
        "print(len(word_index))\n",
        "print(\"Word index length:\"+str(len(tokenizer.word_index)))\n",
        "sequences = tokenizer.texts_to_sequences(train_sentences)\n",
        "padded = pad_sequences(sequences,maxlen=max_length, truncating=trunc_type)\n",
        "\n",
        "\n",
        "test_sequences = tokenizer.texts_to_sequences(test_sentences)\n",
        "testing_padded = pad_sequences(test_sequences,maxlen=max_length)"
      ],
      "execution_count": null,
      "outputs": [
        {
          "output_type": "stream",
          "text": [
            "238622\n",
            "Word index length:238622\n"
          ],
          "name": "stdout"
        }
      ]
    },
    {
      "cell_type": "code",
      "metadata": {
        "papermill": {
          "duration": 0.026912,
          "end_time": "2020-08-29T09:36:27.514109",
          "exception": false,
          "start_time": "2020-08-29T09:36:27.487197",
          "status": "completed"
        },
        "tags": [],
        "trusted": true,
        "id": "LGQVeds7mVkq",
        "colab": {
          "base_uri": "https://localhost:8080/"
        },
        "outputId": "403db107-a1cd-4dfd-b569-4b6eb94a7dbd"
      },
      "source": [
        "print(\"Sentence :--> \\n\")\n",
        "print(train_sentences[2]+\"\\n\")\n",
        "print(\"Sentence Tokenized and Converted into Sequence :--> \\n\")\n",
        "print(str(sequences[2])+\"\\n\")\n",
        "print(\"After Padding the Sequence with padding length 100 :--> \\n\")\n",
        "print(padded[2])"
      ],
      "execution_count": null,
      "outputs": [
        {
          "output_type": "stream",
          "text": [
            "Sentence :--> \n",
            "\n",
            "প্রয়াত অভিনেতা হুমায়ূন ফরিদীর সেলুলয়েড খলনায়ক হাসা থিতু চাইছ শতাব্দী চোখ চলচ্চিত্র সা গ্লিটজ আলাপচারিতা শতাব্দী খলচরিত্র অভিন সুযোগ সিনেমা অভিন চরিত্র সবচা গুরুত্বপূর্ণ সিনেমা দৃশ্য অভিন অনুঘটক ভূমিকা থাক কোনো আপত্তি অভিনেতা অভিন সুযোগ অভিন কর জীবনঢুলী বাপজান বায়োস্কোপএর সিনেমা ভূমিকা অভিন সিনেমা শতাব্দী বলছ তথাকথিত নায়ক গল্প নায়ক হাসা উপস্থাপন শতাব্দী চোখ দেখ সিনেমা আলোচনা চল নাট্যদল প্রাচ্যনাট সিনিয়র অভিনেতা শিল্পী প্রসঙ্গ ধৈযর্্যশক্তি একেব থি অভিন ট্যাবলেটক্যাপসুল খা বিষ রাতারাতি অভিনেতা প্রতিনিয়ত অনুশীলন সেজন্য প্রয়োজন প্রচুর সম ব্য এখনক সম থি আস অনুশীলন সম অল্প সম পাতা ক্ষেত্র অভিন চরিত্র শহর চরিত্র অভিন গ্রাম চরিত্র অভিন গ্রাম পারল শহর সিনিয়র অভিন শিল্পী ক্ষেত্র সিনেমা ব্যস্তত পাশাপাশি টিভি নাট নিয়মিত অভিন শতাব্দী ওয়াদুদ অভিন অম্লান বিশ্বাস অনন্যা রুলিন রহমান দহন নাহিদ বাবুর দহন বেলা ধারাবাহি অভিনেতা হাসা স্বপ্ন কথা গ্লিটজ জীবন অস্ক পুরস্ক হা গালিচা হাঁট চা\n",
            "\n",
            "Sentence Tokenized and Converted into Sequence :--> \n",
            "\n",
            "[1396, 935, 1932, 54330, 28744, 9566, 34, 7636, 4096, 5819, 675, 176, 217, 1660, 11530, 5819, 13996, 304, 147, 140, 304, 399, 320, 359, 140, 1384, 304, 33739, 424, 98, 9267, 1886, 935, 304, 147, 304, 44, 33740, 45284, 119144, 140, 424, 304, 140, 5819, 647, 6447, 1953, 532, 1953, 34, 940, 5819, 675, 398, 140, 105, 129, 7952, 26173, 1125, 935, 512, 372, 119145, 1389, 2815, 304, 119146, 263, 21, 7996, 935, 5571, 1353, 1510, 430, 2229, 9, 746, 4213, 9, 2815, 73, 1353, 9, 1782, 9, 581, 1321, 304, 399, 188, 399, 304, 97, 399, 304, 97, 753, 188, 1125, 304, 512, 1321, 140, 7235, 185, 558, 1892, 947, 304, 5819, 7568, 304, 19360, 397, 8715, 70588, 19, 20080, 1237, 6707, 20080, 241, 12855, 935, 34, 631, 10, 1660, 249, 2362, 360, 48, 13997, 4653, 52]\n",
            "\n",
            "After Padding the Sequence with padding length 100 :--> \n",
            "\n",
            "[    0     0     0 ... 13997  4653    52]\n"
          ],
          "name": "stdout"
        }
      ]
    },
    {
      "cell_type": "code",
      "metadata": {
        "papermill": {
          "duration": 0.021501,
          "end_time": "2020-08-29T09:36:27.546874",
          "exception": false,
          "start_time": "2020-08-29T09:36:27.525373",
          "status": "completed"
        },
        "tags": [],
        "trusted": true,
        "id": "efVcUj5xmVkr",
        "colab": {
          "base_uri": "https://localhost:8080/"
        },
        "outputId": "e82ffab8-6d94-4e78-f84a-07d1b4fe164f"
      },
      "source": [
        "print(\"Padded shape(training): \"+str(padded.shape))\n",
        "print(\"Padded shape(testing): \"+str(testing_padded.shape))"
      ],
      "execution_count": null,
      "outputs": [
        {
          "output_type": "stream",
          "text": [
            "Padded shape(training): (63060, 4000)\n",
            "Padded shape(testing): (15765, 4000)\n"
          ],
          "name": "stdout"
        }
      ]
    },
    {
      "cell_type": "code",
      "metadata": {
        "papermill": {
          "duration": 1.676288,
          "end_time": "2020-08-29T09:36:29.256866",
          "exception": false,
          "start_time": "2020-08-29T09:36:27.580578",
          "status": "completed"
        },
        "tags": [],
        "trusted": true,
        "id": "ct6vLKXdmVks",
        "colab": {
          "base_uri": "https://localhost:8080/"
        },
        "outputId": "0b396cbd-e13f-483a-cb48-3b8642fb4838"
      },
      "source": [
        "model= Sequential()\n",
        "model.add(Embedding(vocab_size, embedding_dim, input_length=max_length))\n",
        "#model.add(Conv1D(200, kernel_size=3, activation = \"relu\"))\n",
        "#model.add(Bidirectional(LSTM(64, return_sequences=True)))\n",
        "#model.add(Dropout(0.5))\n",
        "#model.add(Bidirectional(LSTM(64)))\n",
        "#model.add(Flatten())\n",
        "model.add(Dense(400, activation='relu'))\n",
        "model.add(Dense(100, activation='relu'))\n",
        "model.add(Dense(100, activation='relu'))\n",
        "model.add(Flatten())\n",
        "model.add(Dense(50, activation='relu'))\n",
        "model.add(Dense(50, activation='relu'))\n",
        "model.add(Dense(25, activation='relu'))\n",
        "#model.add(Flatten())\n",
        "#l2 regularizer\n",
        "model.add(Dense(20,kernel_regularizer=regularizers.l2(0.01),activation=\"relu\"))\n",
        "#model.add(Flatten())\n",
        "model.add(Dense(10, activation='softmax'))\n",
        "#sgd= SGD(lr=0.0001,decay=1e-6,momentum=0.9,nesterov=True)\n",
        "adam=Adam(learning_rate=0.0005,beta_1=0.9,beta_2=0.999,epsilon=1e-07,amsgrad=False)\n",
        "model.summary()\n",
        "model.compile(loss='categorical_crossentropy',optimizer=adam,metrics=['accuracy'])\n",
        "\n",
        "#ANN"
      ],
      "execution_count": null,
      "outputs": [
        {
          "output_type": "stream",
          "text": [
            "Model: \"sequential\"\n",
            "_________________________________________________________________\n",
            "Layer (type)                 Output Shape              Param #   \n",
            "=================================================================\n",
            "embedding (Embedding)        (None, 4000, 300)         60000000  \n",
            "_________________________________________________________________\n",
            "dense (Dense)                (None, 4000, 400)         120400    \n",
            "_________________________________________________________________\n",
            "dense_1 (Dense)              (None, 4000, 100)         40100     \n",
            "_________________________________________________________________\n",
            "dense_2 (Dense)              (None, 4000, 100)         10100     \n",
            "_________________________________________________________________\n",
            "flatten (Flatten)            (None, 400000)            0         \n",
            "_________________________________________________________________\n",
            "dense_3 (Dense)              (None, 50)                20000050  \n",
            "_________________________________________________________________\n",
            "dense_4 (Dense)              (None, 50)                2550      \n",
            "_________________________________________________________________\n",
            "dense_5 (Dense)              (None, 25)                1275      \n",
            "_________________________________________________________________\n",
            "dense_6 (Dense)              (None, 20)                520       \n",
            "_________________________________________________________________\n",
            "dense_7 (Dense)              (None, 10)                210       \n",
            "=================================================================\n",
            "Total params: 80,175,205\n",
            "Trainable params: 80,175,205\n",
            "Non-trainable params: 0\n",
            "_________________________________________________________________\n"
          ],
          "name": "stdout"
        }
      ]
    },
    {
      "cell_type": "code",
      "metadata": {
        "colab": {
          "base_uri": "https://localhost:8080/"
        },
        "id": "pdZG1dmel3FA",
        "outputId": "b3018732-7721-4120-f4b9-3f6a928da4b0"
      },
      "source": [
        "history=model.fit(padded,train_labels,epochs=5,batch_size=128,validation_data=(testing_padded,test_labels),use_multiprocessing=True, workers=8)"
      ],
      "execution_count": null,
      "outputs": [
        {
          "output_type": "stream",
          "text": [
            "Epoch 1/5\n",
            "493/493 [==============================] - 499s 980ms/step - loss: 1.6916 - accuracy: 0.4818 - val_loss: 0.7501 - val_accuracy: 0.8143\n",
            "Epoch 2/5\n",
            "493/493 [==============================] - 482s 978ms/step - loss: 0.5497 - accuracy: 0.8707 - val_loss: 0.6140 - val_accuracy: 0.8482\n",
            "Epoch 3/5\n",
            "493/493 [==============================] - 482s 979ms/step - loss: 0.3092 - accuracy: 0.9325 - val_loss: 0.6596 - val_accuracy: 0.8462\n",
            "Epoch 4/5\n",
            "493/493 [==============================] - 480s 973ms/step - loss: 0.1932 - accuracy: 0.9630 - val_loss: 0.7400 - val_accuracy: 0.8406\n",
            "Epoch 5/5\n",
            "493/493 [==============================] - 479s 971ms/step - loss: 0.1338 - accuracy: 0.9772 - val_loss: 0.8531 - val_accuracy: 0.8396\n"
          ],
          "name": "stdout"
        }
      ]
    },
    {
      "cell_type": "code",
      "metadata": {
        "papermill": {
          "duration": 0.496359,
          "end_time": "2020-08-29T09:38:38.037405",
          "exception": false,
          "start_time": "2020-08-29T09:38:37.541046",
          "status": "completed"
        },
        "tags": [],
        "trusted": true,
        "id": "7Kl-J9PsmVkt",
        "colab": {
          "base_uri": "https://localhost:8080/",
          "height": 591
        },
        "outputId": "25e6b5f1-ffd8-4dc6-b6f8-a76d27f40e07"
      },
      "source": [
        "print(history.history.keys())\n",
        "loss = history.history['loss']\n",
        "val_loss = history.history['val_loss']\n",
        "plt.plot(loss)\n",
        "plt.plot(val_loss)\n",
        "plt.title('model loss')\n",
        "plt.ylabel('loss')\n",
        "plt.xlabel('epoch')\n",
        "plt.legend(['loss', 'val_loss'])\n",
        "plt.show()\n",
        "\n",
        "accuracy = history.history['accuracy']\n",
        "val_accuracy= history.history['val_accuracy']\n",
        "plt.plot(accuracy)\n",
        "plt.plot(val_accuracy)\n",
        "plt.title('model accuracy')\n",
        "plt.ylabel('accuracy')\n",
        "plt.xlabel('epoch')\n",
        "plt.legend(['accuracy', 'val_accuracy'])\n",
        "plt.show()"
      ],
      "execution_count": null,
      "outputs": [
        {
          "output_type": "stream",
          "text": [
            "dict_keys(['loss', 'accuracy', 'val_loss', 'val_accuracy'])\n"
          ],
          "name": "stdout"
        },
        {
          "output_type": "display_data",
          "data": {
            "image/png": "[encoded data removed]",
            "text/plain": [
              "<Figure size 432x288 with 1 Axes>"
            ]
          },
          "metadata": {
            "tags": [],
            "needs_background": "light"
          }
        },
        {
          "output_type": "display_data",
          "data": {
            "image/png": "[encoded data removed]",
            "text/plain": [
              "<Figure size 432x288 with 1 Axes>"
            ]
          },
          "metadata": {
            "tags": [],
            "needs_background": "light"
          }
        }
      ]
    },
    {
      "cell_type": "code",
      "metadata": {
        "papermill": {
          "duration": 7.718225,
          "end_time": "2020-08-29T09:38:45.824208",
          "exception": false,
          "start_time": "2020-08-29T09:38:38.105983",
          "status": "completed"
        },
        "tags": [],
        "trusted": true,
        "id": "wSL8OLbUmVku",
        "colab": {
          "base_uri": "https://localhost:8080/"
        },
        "outputId": "ebd0875e-69fa-405d-b811-bc5eda4f9682"
      },
      "source": [
        "#accuracy calculation\n",
        "loss_and_metrics = model.evaluate(padded,train_labels,batch_size=128)\n",
        "print(\"The train accuracy is: \"+str(loss_and_metrics[1]))\n",
        "loss_and_metrics = model.evaluate(testing_padded,test_labels,batch_size=128)\n",
        "print(\"The test accuracy is: \"+str(loss_and_metrics[1]))"
      ],
      "execution_count": null,
      "outputs": [
        {
          "output_type": "stream",
          "text": [
            "493/493 [==============================] - 88s 178ms/step - loss: 0.0946 - accuracy: 0.9883\n",
            "The train accuracy is: 0.9883285760879517\n",
            "124/124 [==============================] - 22s 177ms/step - loss: 0.8531 - accuracy: 0.8396\n",
            "The test accuracy is: 0.8395813703536987\n"
          ],
          "name": "stdout"
        }
      ]
    },
    {
      "cell_type": "code",
      "metadata": {
        "papermill": {
          "duration": 0.020894,
          "end_time": "2020-08-29T09:38:45.908871",
          "exception": false,
          "start_time": "2020-08-29T09:38:45.887977",
          "status": "completed"
        },
        "tags": [],
        "id": "7HFnbSGUmVku"
      },
      "source": [
        "predictions = model.predict(testing_padded)\n",
        "pred1 = np.argmax(predictions , axis=1)"
      ],
      "execution_count": null,
      "outputs": []
    },
    {
      "cell_type": "code",
      "metadata": {
        "colab": {
          "base_uri": "https://localhost:8080/"
        },
        "id": "NqM31EXnXpy9",
        "outputId": "de92699f-fe04-4bbd-a868-4b8a5b59e700"
      },
      "source": [
        "%%time\n",
        "score = model.evaluate(testing_padded, test_labels , batch_size = 128)\n",
        "print()\n",
        "\n",
        "print(\"ACCURACY:\",score[1])\n",
        "print(\"LOSS:\",score[0])"
      ],
      "execution_count": null,
      "outputs": [
        {
          "output_type": "stream",
          "text": [
            "124/124 [==============================] - 22s 176ms/step - loss: 0.8531 - accuracy: 0.8396\n",
            "\n",
            "ACCURACY: 0.8395813703536987\n",
            "LOSS: 0.8530522584915161\n",
            "CPU times: user 15.5 s, sys: 393 ms, total: 15.9 s\n",
            "Wall time: 21.9 s\n"
          ],
          "name": "stdout"
        }
      ]
    },
    {
      "cell_type": "code",
      "metadata": {
        "id": "EeOkUcpyZyjC"
      },
      "source": [
        "from sklearn.metrics import confusion_matrix, classification_report, accuracy_score"
      ],
      "execution_count": null,
      "outputs": []
    },
    {
      "cell_type": "code",
      "metadata": {
        "id": "rKN57VdYaEOo"
      },
      "source": [
        "test_labels = np.argmax(test_labels,axis=1)"
      ],
      "execution_count": null,
      "outputs": []
    },
    {
      "cell_type": "code",
      "metadata": {
        "colab": {
          "base_uri": "https://localhost:8080/"
        },
        "id": "1vhbFScwYAm6",
        "outputId": "7009accd-13c2-44f2-dd20-5e2fb0d704cf"
      },
      "source": [
        "print(confusion_matrix(test_labels , pred1 ,normalize=None))"
      ],
      "execution_count": null,
      "outputs": [
        {
          "output_type": "stream",
          "text": [
            "[[1018   79    5    3    1    5   26   28    5    3]\n",
            " [  52 1353    4   14   35    8   32   95    4   37]\n",
            " [   2    5  542    2   10   18   41   28   26    0]\n",
            " [   2   42    1 1708   55   97    2  153    4   87]\n",
            " [   2   44   16   27 1559   36   38   40    2   41]\n",
            " [   6   21   28   52   40  502   10   61   15    5]\n",
            " [  17   40   54    2   43    7  831   18    6    5]\n",
            " [  29  102   22  130   33   87   28 3224   51   12]\n",
            " [   3    6   57    4   20   37    8   25  409    1]\n",
            " [   4   62    0   49   43    6    9   14    0 2090]]\n"
          ],
          "name": "stdout"
        }
      ]
    },
    {
      "cell_type": "code",
      "metadata": {
        "colab": {
          "base_uri": "https://localhost:8080/"
        },
        "id": "GL1VKns_Zbc4",
        "outputId": "b89e37de-967d-4a66-e75f-a4c74a6c1e13"
      },
      "source": [
        "print(classification_report(test_labels , pred1))"
      ],
      "execution_count": null,
      "outputs": [
        {
          "output_type": "stream",
          "text": [
            "              precision    recall  f1-score   support\n",
            "\n",
            "           0       0.90      0.87      0.88      1173\n",
            "           1       0.77      0.83      0.80      1634\n",
            "           2       0.74      0.80      0.77       674\n",
            "           3       0.86      0.79      0.82      2151\n",
            "           4       0.85      0.86      0.86      1805\n",
            "           5       0.63      0.68      0.65       740\n",
            "           6       0.81      0.81      0.81      1023\n",
            "           7       0.87      0.87      0.87      3718\n",
            "           8       0.78      0.72      0.75       570\n",
            "           9       0.92      0.92      0.92      2277\n",
            "\n",
            "    accuracy                           0.84     15765\n",
            "   macro avg       0.81      0.82      0.81     15765\n",
            "weighted avg       0.84      0.84      0.84     15765\n",
            "\n"
          ],
          "name": "stdout"
        }
      ]
    },
    {
      "cell_type": "code",
      "metadata": {
        "colab": {
          "base_uri": "https://localhost:8080/"
        },
        "id": "P6648lmjZixZ",
        "outputId": "e9b2cb56-cf06-4ef8-fc6d-94de1cc730da"
      },
      "source": [
        "accuracy_score(test_labels , pred1)"
      ],
      "execution_count": null,
      "outputs": [
        {
          "output_type": "execute_result",
          "data": {
            "text/plain": [
              "0.839581351094196"
            ]
          },
          "metadata": {
            "tags": []
          },
          "execution_count": 44
        }
      ]
    },
    {
      "cell_type": "code",
      "metadata": {
        "id": "qBuhpZwkUWGq"
      },
      "source": [
        ""
      ],
      "execution_count": null,
      "outputs": []
    }
  ]
}