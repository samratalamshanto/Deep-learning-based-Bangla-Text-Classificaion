{
  "nbformat": 4,
  "nbformat_minor": 0,
  "metadata": {
    "kernelspec": {
      "language": "python",
      "display_name": "Python 3",
      "name": "python3"
    },
    "language_info": {
      "name": "python",
      "version": "3.7.10",
      "mimetype": "text/x-python",
      "codemirror_mode": {
        "name": "ipython",
        "version": 3
      },
      "pygments_lexer": "ipython3",
      "nbconvert_exporter": "python",
      "file_extension": ".py"
    },
    "colab": {
      "name": "Text classification mixed model for 10 class.ipynb",
      "provenance": [],
      "collapsed_sections": []
    },
    "accelerator": "GPU"
  },
  "cells": [
    {
      "cell_type": "code",
      "metadata": {
        "id": "NZxIEppKsEkN",
        "colab": {
          "resources": {
            "http://localhost:8080/nbextensions/google.colab/files.js": {
              "data": "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",
              "ok": true,
              "headers": [
                [
                  "content-type",
                  "application/javascript"
                ]
              ],
              "status": 200,
              "status_text": ""
            }
          },
          "base_uri": "https://localhost:8080/",
          "height": 268
        },
        "outputId": "b70be75e-e0c6-48b3-b923-02046b952bc7"
      },
      "source": [
        "!pip install kaggle\n",
        "from google.colab import files \n",
        "#files.open('/content/drive/MyDrive/Colab Notebooks/json kaggle')\n",
        "files.upload() #download and upload json file\n",
        "\n",
        "\n",
        "\n",
        "!mkdir -p ~/.kaggle\n",
        "!cp kaggle.json ~/.kaggle/\n",
        "\n",
        "!chmod 600 ~/.kaggle/kaggle.json"
      ],
      "execution_count": null,
      "outputs": [
        {
          "output_type": "stream",
          "text": [
            "Requirement already satisfied: kaggle in /usr/local/lib/python3.7/dist-packages (1.5.12)\n",
            "Requirement already satisfied: python-dateutil in /usr/local/lib/python3.7/dist-packages (from kaggle) (2.8.1)\n",
            "Requirement already satisfied: requests in /usr/local/lib/python3.7/dist-packages (from kaggle) (2.23.0)\n",
            "Requirement already satisfied: python-slugify in /usr/local/lib/python3.7/dist-packages (from kaggle) (5.0.2)\n",
            "Requirement already satisfied: six>=1.10 in /usr/local/lib/python3.7/dist-packages (from kaggle) (1.15.0)\n",
            "Requirement already satisfied: tqdm in /usr/local/lib/python3.7/dist-packages (from kaggle) (4.41.1)\n",
            "Requirement already satisfied: certifi in /usr/local/lib/python3.7/dist-packages (from kaggle) (2021.5.30)\n",
            "Requirement already satisfied: urllib3 in /usr/local/lib/python3.7/dist-packages (from kaggle) (1.24.3)\n",
            "Requirement already satisfied: chardet<4,>=3.0.2 in /usr/local/lib/python3.7/dist-packages (from requests->kaggle) (3.0.4)\n",
            "Requirement already satisfied: idna<3,>=2.5 in /usr/local/lib/python3.7/dist-packages (from requests->kaggle) (2.10)\n",
            "Requirement already satisfied: text-unidecode>=1.3 in /usr/local/lib/python3.7/dist-packages (from python-slugify->kaggle) (1.3)\n"
          ],
          "name": "stdout"
        },
        {
          "output_type": "display_data",
          "data": {
            "text/html": [
              "\n",
              "     <input type=\"file\" id=\"files-99f8c7f0-168f-467b-aedd-76367febb41a\" name=\"files[]\" multiple disabled\n",
              "        style=\"border:none\" />\n",
              "     <output id=\"result-99f8c7f0-168f-467b-aedd-76367febb41a\">\n",
              "      Upload widget is only available when the cell has been executed in the\n",
              "      current browser session. Please rerun this cell to enable.\n",
              "      </output>\n",
              "      <script src=\"/nbextensions/google.colab/files.js\"></script> "
            ],
            "text/plain": [
              "<IPython.core.display.HTML object>"
            ]
          },
          "metadata": {
            "tags": []
          }
        },
        {
          "output_type": "stream",
          "text": [
            "Saving kaggle.json to kaggle.json\n"
          ],
          "name": "stdout"
        }
      ]
    },
    {
      "cell_type": "code",
      "metadata": {
        "id": "p1qlXqzisFxs",
        "colab": {
          "base_uri": "https://localhost:8080/"
        },
        "outputId": "2ea85094-3609-4a28-e11a-834756dc56a7"
      },
      "source": [
        "!kaggle datasets download -d samratalam/stemmed-20-times-dataset"
      ],
      "execution_count": null,
      "outputs": [
        {
          "output_type": "stream",
          "text": [
            "Downloading stemmed-20-times-dataset.zip to /content\n",
            " 68% 42.0M/62.2M [00:00<00:00, 168MB/s]\n",
            "100% 62.2M/62.2M [00:00<00:00, 208MB/s]\n"
          ],
          "name": "stdout"
        }
      ]
    },
    {
      "cell_type": "code",
      "metadata": {
        "id": "PttD-dBTsF1V",
        "colab": {
          "base_uri": "https://localhost:8080/"
        },
        "outputId": "b92aa11f-81c7-474d-c8b0-84fdcba29c2c"
      },
      "source": [
        "#to unzip file\n",
        "\n",
        "from zipfile import ZipFile\n",
        "file_name= \"stemmed-20-times-dataset.zip\"\n",
        "\n",
        "with ZipFile(file_name ,'r') as zip:\n",
        "  zip.extractall()\n",
        "  print('Done')"
      ],
      "execution_count": null,
      "outputs": [
        {
          "output_type": "stream",
          "text": [
            "Done\n"
          ],
          "name": "stdout"
        }
      ]
    },
    {
      "cell_type": "code",
      "metadata": {
        "papermill": {
          "duration": 8.634984,
          "end_time": "2020-08-29T09:36:24.626494",
          "exception": false,
          "start_time": "2020-08-29T09:36:15.99151",
          "status": "completed"
        },
        "tags": [],
        "trusted": true,
        "id": "CsrHQU7xmVkK"
      },
      "source": [
        "import pandas as pd\n",
        "from pandas import read_excel\n",
        "import numpy as np\n",
        "import re\n",
        "from re import sub\n",
        "import multiprocessing\n",
        "#from unidecode import unidecode\n",
        "import os\n",
        "from time import time \n",
        "import tensorflow as tf\n",
        "import keras\n",
        "from keras.models import Sequential\n",
        "from keras.layers import LSTM,Dense,Dropout,Activation,Embedding,Flatten,Bidirectional,MaxPooling2D, Conv1D, MaxPooling1D\n",
        "from keras.optimizers import SGD,Adam\n",
        "from keras import regularizers\n",
        "from keras.preprocessing.text import Tokenizer\n",
        "from keras.preprocessing.sequence import pad_sequences\n",
        "from keras.utils.np_utils import to_categorical\n",
        "import h5py\n",
        "import csv\n",
        "import seaborn as sns\n",
        "import matplotlib.pyplot as plt\n",
        "from sklearn.model_selection import train_test_split\n",
        "from sklearn.model_selection import StratifiedKFold"
      ],
      "execution_count": null,
      "outputs": []
    },
    {
      "cell_type": "code",
      "metadata": {
        "colab": {
          "base_uri": "https://localhost:8080/",
          "height": 35
        },
        "id": "gTOEBXe91DVt",
        "outputId": "cc436254-899c-4eb6-a719-22fe732ccf23"
      },
      "source": [
        "'''\n",
        "!pip install wandb\n",
        "import wandb\n",
        "wandb.init()\n",
        "'''"
      ],
      "execution_count": null,
      "outputs": [
        {
          "output_type": "execute_result",
          "data": {
            "application/vnd.google.colaboratory.intrinsic+json": {
              "type": "string"
            },
            "text/plain": [
              "'\\n!pip install wandb\\nimport wandb\\nwandb.init()\\n'"
            ]
          },
          "metadata": {
            "tags": []
          },
          "execution_count": 5
        }
      ]
    },
    {
      "cell_type": "code",
      "metadata": {
        "papermill": {
          "duration": 1.040497,
          "end_time": "2020-08-29T09:36:25.755049",
          "exception": false,
          "start_time": "2020-08-29T09:36:24.714552",
          "status": "completed"
        },
        "tags": [],
        "trusted": true,
        "id": "kYXrrC-fmVki",
        "colab": {
          "base_uri": "https://localhost:8080/",
          "height": 414
        },
        "outputId": "d8d2f05d-edc2-437a-971c-1b2648a81845"
      },
      "source": [
        "df=pd.read_csv('/content/strem_20_times_data_clen.csv')\n",
        "\n",
        "df.drop(columns=['Unnamed: 0'],inplace=True)\n",
        "display(df)"
      ],
      "execution_count": null,
      "outputs": [
        {
          "output_type": "display_data",
          "data": {
            "text/html": [
              "<div>\n",
              "<style scoped>\n",
              "    .dataframe tbody tr th:only-of-type {\n",
              "        vertical-align: middle;\n",
              "    }\n",
              "\n",
              "    .dataframe tbody tr th {\n",
              "        vertical-align: top;\n",
              "    }\n",
              "\n",
              "    .dataframe thead th {\n",
              "        text-align: right;\n",
              "    }\n",
              "</style>\n",
              "<table border=\"1\" class=\"dataframe\">\n",
              "  <thead>\n",
              "    <tr style=\"text-align: right;\">\n",
              "      <th></th>\n",
              "      <th>Sentence</th>\n",
              "      <th>Sentiment</th>\n",
              "      <th>length</th>\n",
              "    </tr>\n",
              "  </thead>\n",
              "  <tbody>\n",
              "    <tr>\n",
              "      <th>0</th>\n",
              "      <td>গ্রেগর সামসা সেলস্ম্যান সকাল ঘুম উঠ তেলাপোকা ব...</td>\n",
              "      <td>2</td>\n",
              "      <td>45477</td>\n",
              "    </tr>\n",
              "    <tr>\n",
              "      <th>1</th>\n",
              "      <td>গ্রেগর সামসা সেলস্ম্যান সকাল ঘুম উঠ তেলাপোকা ব...</td>\n",
              "      <td>1</td>\n",
              "      <td>45477</td>\n",
              "    </tr>\n",
              "    <tr>\n",
              "      <th>2</th>\n",
              "      <td>জাতী সংসদ বাজেট আলোচনা বিরোধীদলী নেতা দেশনেত্র...</td>\n",
              "      <td>4</td>\n",
              "      <td>33176</td>\n",
              "    </tr>\n",
              "    <tr>\n",
              "      <th>3</th>\n",
              "      <td>জাতী সংসদ বাজেট আলোচনা বিরোধীদলী নেতা দেশনেত্র...</td>\n",
              "      <td>8</td>\n",
              "      <td>33176</td>\n",
              "    </tr>\n",
              "    <tr>\n",
              "      <th>4</th>\n",
              "      <td>জাতী সংসদ বাজেট আলোচনা বিরোধীদলী নেতা দেশনেত্র...</td>\n",
              "      <td>9</td>\n",
              "      <td>33176</td>\n",
              "    </tr>\n",
              "    <tr>\n",
              "      <th>...</th>\n",
              "      <td>...</td>\n",
              "      <td>...</td>\n",
              "      <td>...</td>\n",
              "    </tr>\n",
              "    <tr>\n",
              "      <th>95757</th>\n",
              "      <td>ঢাকা সেপ্ট</td>\n",
              "      <td>4</td>\n",
              "      <td>10</td>\n",
              "    </tr>\n",
              "    <tr>\n",
              "      <th>95758</th>\n",
              "      <td>মারুফ মল্</td>\n",
              "      <td>6</td>\n",
              "      <td>9</td>\n",
              "    </tr>\n",
              "    <tr>\n",
              "      <th>95759</th>\n",
              "      <td>মারুফ মল্</td>\n",
              "      <td>6</td>\n",
              "      <td>9</td>\n",
              "    </tr>\n",
              "    <tr>\n",
              "      <th>95760</th>\n",
              "      <td>লਫন৴ োম</td>\n",
              "      <td>2</td>\n",
              "      <td>7</td>\n",
              "    </tr>\n",
              "    <tr>\n",
              "      <th>95761</th>\n",
              "      <td>সাতক্ষী</td>\n",
              "      <td>2</td>\n",
              "      <td>7</td>\n",
              "    </tr>\n",
              "  </tbody>\n",
              "</table>\n",
              "<p>95762 rows × 3 columns</p>\n",
              "</div>"
            ],
            "text/plain": [
              "                                                Sentence  Sentiment  length\n",
              "0      গ্রেগর সামসা সেলস্ম্যান সকাল ঘুম উঠ তেলাপোকা ব...          2   45477\n",
              "1      গ্রেগর সামসা সেলস্ম্যান সকাল ঘুম উঠ তেলাপোকা ব...          1   45477\n",
              "2      জাতী সংসদ বাজেট আলোচনা বিরোধীদলী নেতা দেশনেত্র...          4   33176\n",
              "3      জাতী সংসদ বাজেট আলোচনা বিরোধীদলী নেতা দেশনেত্র...          8   33176\n",
              "4      জাতী সংসদ বাজেট আলোচনা বিরোধীদলী নেতা দেশনেত্র...          9   33176\n",
              "...                                                  ...        ...     ...\n",
              "95757                                         ঢাকা সেপ্ট          4      10\n",
              "95758                                          মারুফ মল্          6       9\n",
              "95759                                          মারুফ মল্          6       9\n",
              "95760                                            লਫন৴ োম          2       7\n",
              "95761                                            সাতক্ষী          2       7\n",
              "\n",
              "[95762 rows x 3 columns]"
            ]
          },
          "metadata": {
            "tags": []
          }
        }
      ]
    },
    {
      "cell_type": "code",
      "metadata": {
        "id": "hflkCnK1VW77"
      },
      "source": [
        "\n"
      ],
      "execution_count": null,
      "outputs": []
    },
    {
      "cell_type": "code",
      "metadata": {
        "colab": {
          "base_uri": "https://localhost:8080/",
          "height": 35
        },
        "id": "VAxO5xcsWZe5",
        "outputId": "b707f96c-4a27-4703-b7ed-caf903ef8146"
      },
      "source": [
        "df.iloc[95119]['Sentence']"
      ],
      "execution_count": null,
      "outputs": [
        {
          "output_type": "execute_result",
          "data": {
            "application/vnd.google.colaboratory.intrinsic+json": {
              "type": "string"
            },
            "text/plain": [
              "'প্রি শিক্ষার্থী ইংরেজি পত্র নং প্রশ্ন প্রশ্ন শূন্যস্থান পূরণ নম্বর প্রভাষক ঢাকা রেসিডেনসিয়াল মড কলেজ'"
            ]
          },
          "metadata": {
            "tags": []
          },
          "execution_count": 14
        }
      ]
    },
    {
      "cell_type": "markdown",
      "metadata": {
        "id": "37yebWNefELa"
      },
      "source": [
        "# **Dataframe Null value **"
      ]
    },
    {
      "cell_type": "code",
      "metadata": {
        "colab": {
          "base_uri": "https://localhost:8080/",
          "height": 414
        },
        "id": "5hpahWjlWqKU",
        "outputId": "4fa54138-01d2-49e2-d675-0d40bde44c5e"
      },
      "source": [
        "df.loc[df['length'] <= 100]"
      ],
      "execution_count": null,
      "outputs": [
        {
          "output_type": "execute_result",
          "data": {
            "text/html": [
              "<div>\n",
              "<style scoped>\n",
              "    .dataframe tbody tr th:only-of-type {\n",
              "        vertical-align: middle;\n",
              "    }\n",
              "\n",
              "    .dataframe tbody tr th {\n",
              "        vertical-align: top;\n",
              "    }\n",
              "\n",
              "    .dataframe thead th {\n",
              "        text-align: right;\n",
              "    }\n",
              "</style>\n",
              "<table border=\"1\" class=\"dataframe\">\n",
              "  <thead>\n",
              "    <tr style=\"text-align: right;\">\n",
              "      <th></th>\n",
              "      <th>Sentence</th>\n",
              "      <th>Sentiment</th>\n",
              "      <th>length</th>\n",
              "    </tr>\n",
              "  </thead>\n",
              "  <tbody>\n",
              "    <tr>\n",
              "      <th>95117</th>\n",
              "      <td>ইংরেজি পত্র লেসন প্রি শিক্ষার্থী ইংরেজি পত্র ল...</td>\n",
              "      <td>4</td>\n",
              "      <td>100</td>\n",
              "    </tr>\n",
              "    <tr>\n",
              "      <th>95118</th>\n",
              "      <td>প্রি শিক্ষার্থী ইংরেজি পত্র নম্বর প্রশ্ন আলোচন...</td>\n",
              "      <td>4</td>\n",
              "      <td>100</td>\n",
              "    </tr>\n",
              "    <tr>\n",
              "      <th>95119</th>\n",
              "      <td>প্রি শিক্ষার্থী ইংরেজি পত্র নং প্রশ্ন প্রশ্ন শ...</td>\n",
              "      <td>4</td>\n",
              "      <td>100</td>\n",
              "    </tr>\n",
              "    <tr>\n",
              "      <th>95120</th>\n",
              "      <td>প্রি শিক্ষার্থী ইংরেজি পত্র চর্চা কর মি নেব শি...</td>\n",
              "      <td>4</td>\n",
              "      <td>100</td>\n",
              "    </tr>\n",
              "    <tr>\n",
              "      <th>95121</th>\n",
              "      <td>রিয়াজুল বাশ মাহমুদ শরীফ বিডিনিউজ টোয়েন্টিফোর ড...</td>\n",
              "      <td>6</td>\n",
              "      <td>100</td>\n",
              "    </tr>\n",
              "    <tr>\n",
              "      <th>...</th>\n",
              "      <td>...</td>\n",
              "      <td>...</td>\n",
              "      <td>...</td>\n",
              "    </tr>\n",
              "    <tr>\n",
              "      <th>95757</th>\n",
              "      <td>ঢাকা সেপ্ট</td>\n",
              "      <td>4</td>\n",
              "      <td>10</td>\n",
              "    </tr>\n",
              "    <tr>\n",
              "      <th>95758</th>\n",
              "      <td>মারুফ মল্</td>\n",
              "      <td>6</td>\n",
              "      <td>9</td>\n",
              "    </tr>\n",
              "    <tr>\n",
              "      <th>95759</th>\n",
              "      <td>মারুফ মল্</td>\n",
              "      <td>6</td>\n",
              "      <td>9</td>\n",
              "    </tr>\n",
              "    <tr>\n",
              "      <th>95760</th>\n",
              "      <td>লਫন৴ োম</td>\n",
              "      <td>2</td>\n",
              "      <td>7</td>\n",
              "    </tr>\n",
              "    <tr>\n",
              "      <th>95761</th>\n",
              "      <td>সাতক্ষী</td>\n",
              "      <td>2</td>\n",
              "      <td>7</td>\n",
              "    </tr>\n",
              "  </tbody>\n",
              "</table>\n",
              "<p>645 rows × 3 columns</p>\n",
              "</div>"
            ],
            "text/plain": [
              "                                                Sentence  Sentiment  length\n",
              "95117  ইংরেজি পত্র লেসন প্রি শিক্ষার্থী ইংরেজি পত্র ল...          4     100\n",
              "95118  প্রি শিক্ষার্থী ইংরেজি পত্র নম্বর প্রশ্ন আলোচন...          4     100\n",
              "95119  প্রি শিক্ষার্থী ইংরেজি পত্র নং প্রশ্ন প্রশ্ন শ...          4     100\n",
              "95120  প্রি শিক্ষার্থী ইংরেজি পত্র চর্চা কর মি নেব শি...          4     100\n",
              "95121  রিয়াজুল বাশ মাহমুদ শরীফ বিডিনিউজ টোয়েন্টিফোর ড...          6     100\n",
              "...                                                  ...        ...     ...\n",
              "95757                                         ঢাকা সেপ্ট          4      10\n",
              "95758                                          মারুফ মল্          6       9\n",
              "95759                                          মারুফ মল্          6       9\n",
              "95760                                            লਫন৴ োম          2       7\n",
              "95761                                            সাতক্ষী          2       7\n",
              "\n",
              "[645 rows x 3 columns]"
            ]
          },
          "metadata": {
            "tags": []
          },
          "execution_count": 15
        }
      ]
    },
    {
      "cell_type": "code",
      "metadata": {
        "colab": {
          "base_uri": "https://localhost:8080/",
          "height": 414
        },
        "id": "OZszn05Kbvye",
        "outputId": "78654efa-97b6-4fe4-886e-0b4d6095c9fd"
      },
      "source": [
        "df.drop(df[df['length'] < 100].index, inplace = True)\n",
        "display(df)"
      ],
      "execution_count": null,
      "outputs": [
        {
          "output_type": "display_data",
          "data": {
            "text/html": [
              "<div>\n",
              "<style scoped>\n",
              "    .dataframe tbody tr th:only-of-type {\n",
              "        vertical-align: middle;\n",
              "    }\n",
              "\n",
              "    .dataframe tbody tr th {\n",
              "        vertical-align: top;\n",
              "    }\n",
              "\n",
              "    .dataframe thead th {\n",
              "        text-align: right;\n",
              "    }\n",
              "</style>\n",
              "<table border=\"1\" class=\"dataframe\">\n",
              "  <thead>\n",
              "    <tr style=\"text-align: right;\">\n",
              "      <th></th>\n",
              "      <th>Sentence</th>\n",
              "      <th>Sentiment</th>\n",
              "      <th>length</th>\n",
              "    </tr>\n",
              "  </thead>\n",
              "  <tbody>\n",
              "    <tr>\n",
              "      <th>0</th>\n",
              "      <td>গ্রেগর সামসা সেলস্ম্যান সকাল ঘুম উঠ তেলাপোকা ব...</td>\n",
              "      <td>2</td>\n",
              "      <td>45477</td>\n",
              "    </tr>\n",
              "    <tr>\n",
              "      <th>1</th>\n",
              "      <td>গ্রেগর সামসা সেলস্ম্যান সকাল ঘুম উঠ তেলাপোকা ব...</td>\n",
              "      <td>1</td>\n",
              "      <td>45477</td>\n",
              "    </tr>\n",
              "    <tr>\n",
              "      <th>2</th>\n",
              "      <td>জাতী সংসদ বাজেট আলোচনা বিরোধীদলী নেতা দেশনেত্র...</td>\n",
              "      <td>4</td>\n",
              "      <td>33176</td>\n",
              "    </tr>\n",
              "    <tr>\n",
              "      <th>3</th>\n",
              "      <td>জাতী সংসদ বাজেট আলোচনা বিরোধীদলী নেতা দেশনেত্র...</td>\n",
              "      <td>8</td>\n",
              "      <td>33176</td>\n",
              "    </tr>\n",
              "    <tr>\n",
              "      <th>4</th>\n",
              "      <td>জাতী সংসদ বাজেট আলোচনা বিরোধীদলী নেতা দেশনেত্র...</td>\n",
              "      <td>9</td>\n",
              "      <td>33176</td>\n",
              "    </tr>\n",
              "    <tr>\n",
              "      <th>...</th>\n",
              "      <td>...</td>\n",
              "      <td>...</td>\n",
              "      <td>...</td>\n",
              "    </tr>\n",
              "    <tr>\n",
              "      <th>95125</th>\n",
              "      <td>জয়পুর জুন বিডিনিউজ টোয়েন্টিফোর ডটকমরয়টার্স চাক...</td>\n",
              "      <td>4</td>\n",
              "      <td>100</td>\n",
              "    </tr>\n",
              "    <tr>\n",
              "      <th>95126</th>\n",
              "      <td>ইউনিট লেসন প্রি শিক্ষার্থী ইংরেজি পত্র গতকাল ই...</td>\n",
              "      <td>4</td>\n",
              "      <td>100</td>\n",
              "    </tr>\n",
              "    <tr>\n",
              "      <th>95127</th>\n",
              "      <td>ইউনিট লেসন প্রিয় শিক্ষার্থী ইংরেজি পত্র ইউনিট...</td>\n",
              "      <td>4</td>\n",
              "      <td>100</td>\n",
              "    </tr>\n",
              "    <tr>\n",
              "      <th>95128</th>\n",
              "      <td>প্রি শিক্ষার্থী ইংরেজি পত্র নং প্রশ্ন আলোচনা ...</td>\n",
              "      <td>4</td>\n",
              "      <td>100</td>\n",
              "    </tr>\n",
              "    <tr>\n",
              "      <th>95129</th>\n",
              "      <td>লেসন প্রি শিক্ষার্থী ইংরেজি পত্র লেসন প্যাসেজ ...</td>\n",
              "      <td>4</td>\n",
              "      <td>100</td>\n",
              "    </tr>\n",
              "  </tbody>\n",
              "</table>\n",
              "<p>95130 rows × 3 columns</p>\n",
              "</div>"
            ],
            "text/plain": [
              "                                                Sentence  Sentiment  length\n",
              "0      গ্রেগর সামসা সেলস্ম্যান সকাল ঘুম উঠ তেলাপোকা ব...          2   45477\n",
              "1      গ্রেগর সামসা সেলস্ম্যান সকাল ঘুম উঠ তেলাপোকা ব...          1   45477\n",
              "2      জাতী সংসদ বাজেট আলোচনা বিরোধীদলী নেতা দেশনেত্র...          4   33176\n",
              "3      জাতী সংসদ বাজেট আলোচনা বিরোধীদলী নেতা দেশনেত্র...          8   33176\n",
              "4      জাতী সংসদ বাজেট আলোচনা বিরোধীদলী নেতা দেশনেত্র...          9   33176\n",
              "...                                                  ...        ...     ...\n",
              "95125  জয়পুর জুন বিডিনিউজ টোয়েন্টিফোর ডটকমরয়টার্স চাক...          4     100\n",
              "95126  ইউনিট লেসন প্রি শিক্ষার্থী ইংরেজি পত্র গতকাল ই...          4     100\n",
              "95127  ইউনিট লেসন প্রিয় শিক্ষার্থী ইংরেজি পত্র ইউনিট...          4     100\n",
              "95128  প্রি শিক্ষার্থী ইংরেজি পত্র নং প্রশ্ন আলোচনা ...          4     100\n",
              "95129  লেসন প্রি শিক্ষার্থী ইংরেজি পত্র লেসন প্যাসেজ ...          4     100\n",
              "\n",
              "[95130 rows x 3 columns]"
            ]
          },
          "metadata": {
            "tags": []
          }
        }
      ]
    },
    {
      "cell_type": "code",
      "metadata": {
        "colab": {
          "base_uri": "https://localhost:8080/",
          "height": 414
        },
        "id": "ksBBKazqcuqO",
        "outputId": "cdb7e3a8-8537-4610-9c50-ad2fd6b654b2"
      },
      "source": [
        "df = df.drop_duplicates('Sentence', keep='first')\n",
        "df.drop(df[df['Sentiment']==1 ].index, inplace = True)\n",
        "df.drop(df[df['Sentiment']==8 ].index, inplace = True)\n",
        "df.reset_index(inplace=True)\n",
        "df.drop(columns=['index'],inplace=True)\n",
        "df"
      ],
      "execution_count": null,
      "outputs": [
        {
          "output_type": "execute_result",
          "data": {
            "text/html": [
              "<div>\n",
              "<style scoped>\n",
              "    .dataframe tbody tr th:only-of-type {\n",
              "        vertical-align: middle;\n",
              "    }\n",
              "\n",
              "    .dataframe tbody tr th {\n",
              "        vertical-align: top;\n",
              "    }\n",
              "\n",
              "    .dataframe thead th {\n",
              "        text-align: right;\n",
              "    }\n",
              "</style>\n",
              "<table border=\"1\" class=\"dataframe\">\n",
              "  <thead>\n",
              "    <tr style=\"text-align: right;\">\n",
              "      <th></th>\n",
              "      <th>Sentence</th>\n",
              "      <th>Sentiment</th>\n",
              "      <th>length</th>\n",
              "    </tr>\n",
              "  </thead>\n",
              "  <tbody>\n",
              "    <tr>\n",
              "      <th>0</th>\n",
              "      <td>গ্রেগর সামসা সেলস্ম্যান সকাল ঘুম উঠ তেলাপোকা ব...</td>\n",
              "      <td>2</td>\n",
              "      <td>45477</td>\n",
              "    </tr>\n",
              "    <tr>\n",
              "      <th>1</th>\n",
              "      <td>জাতী সংসদ বাজেট আলোচনা বিরোধীদলী নেতা দেশনেত্র...</td>\n",
              "      <td>4</td>\n",
              "      <td>33176</td>\n",
              "    </tr>\n",
              "    <tr>\n",
              "      <th>2</th>\n",
              "      <td>এটিএন বাংলা ঈদ অনুষ্ঠানমালা ছয়দিন দশ পর্ব নাটক...</td>\n",
              "      <td>11</td>\n",
              "      <td>26534</td>\n",
              "    </tr>\n",
              "    <tr>\n",
              "      <th>3</th>\n",
              "      <td>কথা কথা কথা পাব অ্যাকটিং ভালো রপ্ত কর ওশোর পাত...</td>\n",
              "      <td>11</td>\n",
              "      <td>21860</td>\n",
              "    </tr>\n",
              "    <tr>\n",
              "      <th>4</th>\n",
              "      <td>উত্থান পর্ব সাল ফেব্রুয়ারি মাস বাংলাদেশ প্রজন্...</td>\n",
              "      <td>2</td>\n",
              "      <td>21460</td>\n",
              "    </tr>\n",
              "    <tr>\n",
              "      <th>...</th>\n",
              "      <td>...</td>\n",
              "      <td>...</td>\n",
              "      <td>...</td>\n",
              "    </tr>\n",
              "    <tr>\n",
              "      <th>78820</th>\n",
              "      <td>জয়পুর জুন বিডিনিউজ টোয়েন্টিফোর ডটকমরয়টার্স চাক...</td>\n",
              "      <td>4</td>\n",
              "      <td>100</td>\n",
              "    </tr>\n",
              "    <tr>\n",
              "      <th>78821</th>\n",
              "      <td>ইউনিট লেসন প্রি শিক্ষার্থী ইংরেজি পত্র গতকাল ই...</td>\n",
              "      <td>4</td>\n",
              "      <td>100</td>\n",
              "    </tr>\n",
              "    <tr>\n",
              "      <th>78822</th>\n",
              "      <td>ইউনিট লেসন প্রিয় শিক্ষার্থী ইংরেজি পত্র ইউনিট...</td>\n",
              "      <td>4</td>\n",
              "      <td>100</td>\n",
              "    </tr>\n",
              "    <tr>\n",
              "      <th>78823</th>\n",
              "      <td>প্রি শিক্ষার্থী ইংরেজি পত্র নং প্রশ্ন আলোচনা ...</td>\n",
              "      <td>4</td>\n",
              "      <td>100</td>\n",
              "    </tr>\n",
              "    <tr>\n",
              "      <th>78824</th>\n",
              "      <td>লেসন প্রি শিক্ষার্থী ইংরেজি পত্র লেসন প্যাসেজ ...</td>\n",
              "      <td>4</td>\n",
              "      <td>100</td>\n",
              "    </tr>\n",
              "  </tbody>\n",
              "</table>\n",
              "<p>78825 rows × 3 columns</p>\n",
              "</div>"
            ],
            "text/plain": [
              "                                                Sentence  Sentiment  length\n",
              "0      গ্রেগর সামসা সেলস্ম্যান সকাল ঘুম উঠ তেলাপোকা ব...          2   45477\n",
              "1      জাতী সংসদ বাজেট আলোচনা বিরোধীদলী নেতা দেশনেত্র...          4   33176\n",
              "2      এটিএন বাংলা ঈদ অনুষ্ঠানমালা ছয়দিন দশ পর্ব নাটক...         11   26534\n",
              "3      কথা কথা কথা পাব অ্যাকটিং ভালো রপ্ত কর ওশোর পাত...         11   21860\n",
              "4      উত্থান পর্ব সাল ফেব্রুয়ারি মাস বাংলাদেশ প্রজন্...          2   21460\n",
              "...                                                  ...        ...     ...\n",
              "78820  জয়পুর জুন বিডিনিউজ টোয়েন্টিফোর ডটকমরয়টার্স চাক...          4     100\n",
              "78821  ইউনিট লেসন প্রি শিক্ষার্থী ইংরেজি পত্র গতকাল ই...          4     100\n",
              "78822  ইউনিট লেসন প্রিয় শিক্ষার্থী ইংরেজি পত্র ইউনিট...          4     100\n",
              "78823  প্রি শিক্ষার্থী ইংরেজি পত্র নং প্রশ্ন আলোচনা ...          4     100\n",
              "78824  লেসন প্রি শিক্ষার্থী ইংরেজি পত্র লেসন প্যাসেজ ...          4     100\n",
              "\n",
              "[78825 rows x 3 columns]"
            ]
          },
          "metadata": {
            "tags": []
          },
          "execution_count": 17
        }
      ]
    },
    {
      "cell_type": "code",
      "metadata": {
        "colab": {
          "base_uri": "https://localhost:8080/"
        },
        "id": "9tPSMluodocm",
        "outputId": "cbffce3f-532f-4765-91d1-59631ef700dd"
      },
      "source": [
        "df.isna().sum().sum()"
      ],
      "execution_count": null,
      "outputs": [
        {
          "output_type": "execute_result",
          "data": {
            "text/plain": [
              "0"
            ]
          },
          "metadata": {
            "tags": []
          },
          "execution_count": 18
        }
      ]
    },
    {
      "cell_type": "code",
      "metadata": {
        "id": "8mANYLtweiKi"
      },
      "source": [
        "df.dropna(axis=0, how=\"any\", thresh=None, subset=None, inplace=True)"
      ],
      "execution_count": null,
      "outputs": []
    },
    {
      "cell_type": "code",
      "metadata": {
        "colab": {
          "base_uri": "https://localhost:8080/"
        },
        "id": "ss_KWuoweu0F",
        "outputId": "3cec2404-ba60-4ba5-8a19-f56c1c784f85"
      },
      "source": [
        "df.isna().sum().sum()"
      ],
      "execution_count": null,
      "outputs": [
        {
          "output_type": "execute_result",
          "data": {
            "text/plain": [
              "0"
            ]
          },
          "metadata": {
            "tags": []
          },
          "execution_count": 20
        }
      ]
    },
    {
      "cell_type": "code",
      "metadata": {
        "trusted": true,
        "id": "wSs-U7q9mVkj",
        "colab": {
          "base_uri": "https://localhost:8080/",
          "height": 264
        },
        "outputId": "6b7b94d2-ce81-461f-f6a7-5235bb814358"
      },
      "source": [
        "df['Sentence'].apply(lambda x: len(str(x))).plot(kind='hist');"
      ],
      "execution_count": null,
      "outputs": [
        {
          "output_type": "display_data",
          "data": {
            "image/png": "[encoded data removed]",
            "text/plain": [
              "<Figure size 432x288 with 1 Axes>"
            ]
          },
          "metadata": {
            "tags": [],
            "needs_background": "light"
          }
        }
      ]
    },
    {
      "cell_type": "code",
      "metadata": {
        "id": "JgNu9RIL0hkG"
      },
      "source": [
        "df.Sentiment.reset_index(drop=True, inplace=True)"
      ],
      "execution_count": null,
      "outputs": []
    },
    {
      "cell_type": "code",
      "metadata": {
        "colab": {
          "base_uri": "https://localhost:8080/"
        },
        "id": "nMzwQ0UN0lrf",
        "outputId": "b16f5c6c-a512-4785-830d-f3a814a38aa4"
      },
      "source": [
        "df.Sentiment.value_counts()"
      ],
      "execution_count": null,
      "outputs": [
        {
          "output_type": "execute_result",
          "data": {
            "text/plain": [
              "9     18558\n",
              "11    11296\n",
              "4     10706\n",
              "5      8951\n",
              "2      8199\n",
              "0      6126\n",
              "7      5036\n",
              "6      3754\n",
              "3      3389\n",
              "10     2810\n",
              "Name: Sentiment, dtype: int64"
            ]
          },
          "metadata": {
            "tags": []
          },
          "execution_count": 24
        }
      ]
    },
    {
      "cell_type": "code",
      "metadata": {
        "papermill": {
          "duration": 0.24749,
          "end_time": "2020-08-29T09:36:26.033522",
          "exception": false,
          "start_time": "2020-08-29T09:36:25.786032",
          "status": "completed"
        },
        "tags": [],
        "trusted": true,
        "id": "uMbyCOuWmVkk",
        "colab": {
          "base_uri": "https://localhost:8080/",
          "height": 334
        },
        "outputId": "8951e67d-87cb-4023-d0d2-148af440cd89"
      },
      "source": [
        "sns.countplot(df['Sentiment']);"
      ],
      "execution_count": null,
      "outputs": [
        {
          "output_type": "stream",
          "text": [
            "/usr/local/lib/python3.7/dist-packages/seaborn/_decorators.py:43: FutureWarning: Pass the following variable as a keyword arg: x. From version 0.12, the only valid positional argument will be `data`, and passing other arguments without an explicit keyword will result in an error or misinterpretation.\n",
            "  FutureWarning\n"
          ],
          "name": "stderr"
        },
        {
          "output_type": "display_data",
          "data": {
            "image/png": "[encoded data removed]",
            "text/plain": [
              "<Figure size 432x288 with 1 Axes>"
            ]
          },
          "metadata": {
            "tags": [],
            "needs_background": "light"
          }
        }
      ]
    },
    {
      "cell_type": "markdown",
      "metadata": {
        "id": "v7XemCFpV1it"
      },
      "source": [
        "# **bnltk 0.7.6 Stemmer**"
      ]
    },
    {
      "cell_type": "code",
      "metadata": {
        "id": "pVvpjSTfWTJ5"
      },
      "source": [
        ""
      ],
      "execution_count": null,
      "outputs": []
    },
    {
      "cell_type": "code",
      "metadata": {
        "id": "_IYaV-9vWTTk"
      },
      "source": [
        ""
      ],
      "execution_count": null,
      "outputs": []
    },
    {
      "cell_type": "code",
      "metadata": {
        "id": "-yDkfRwjWTWq"
      },
      "source": [
        "\n",
        "\n"
      ],
      "execution_count": null,
      "outputs": []
    },
    {
      "cell_type": "code",
      "metadata": {
        "id": "Qvt4Lz0Vhd-p"
      },
      "source": [
        ""
      ],
      "execution_count": null,
      "outputs": []
    },
    {
      "cell_type": "markdown",
      "metadata": {
        "id": "7_5470jthele"
      },
      "source": [
        "**New Stemmed**"
      ]
    },
    {
      "cell_type": "code",
      "metadata": {
        "colab": {
          "base_uri": "https://localhost:8080/"
        },
        "id": "imV82g7aWNaX",
        "outputId": "7ea9eddf-33e8-48cc-f2e7-79a8d115d0c3"
      },
      "source": [
        "uniqueWords = list(set(\" \".join(df['Sentence']).split(\" \")))\n",
        "count = len(uniqueWords)\n",
        "print(count)"
      ],
      "execution_count": null,
      "outputs": [
        {
          "output_type": "stream",
          "text": [
            "271263\n"
          ],
          "name": "stdout"
        }
      ]
    },
    {
      "cell_type": "code",
      "metadata": {
        "papermill": {
          "duration": 0.019937,
          "end_time": "2020-08-29T09:36:26.43929",
          "exception": false,
          "start_time": "2020-08-29T09:36:26.419353",
          "status": "completed"
        },
        "tags": [],
        "trusted": true,
        "id": "D4TnjSfQmVkl"
      },
      "source": [
        "df['Sentence'] = df['Sentence'].astype('str') \n",
        "df.reset_index(drop=True, inplace=True)\n",
        "#df['Sentence'] = df['Sentence'].astype('str')"
      ],
      "execution_count": null,
      "outputs": []
    },
    {
      "cell_type": "code",
      "metadata": {
        "trusted": true,
        "id": "Ku0ZD8k5mVkm"
      },
      "source": [
        ""
      ],
      "execution_count": null,
      "outputs": []
    },
    {
      "cell_type": "code",
      "metadata": {
        "trusted": true,
        "id": "EhhzSUaTmVkm"
      },
      "source": [
        "\n",
        "#df['Sentence'] = df.Sentence.apply(lambda x: Stemming(str(x)))"
      ],
      "execution_count": null,
      "outputs": []
    },
    {
      "cell_type": "code",
      "metadata": {
        "trusted": true,
        "id": "XbyfTxDAmVkm",
        "colab": {
          "base_uri": "https://localhost:8080/",
          "height": 264
        },
        "outputId": "c4570efa-199a-4c8f-cc0f-5c4e97fe273e"
      },
      "source": [
        "df['Sentence'].apply(lambda x: len(str(x))).plot(kind='hist');"
      ],
      "execution_count": null,
      "outputs": [
        {
          "output_type": "display_data",
          "data": {
            "image/png": "[encoded data removed]",
            "text/plain": [
              "<Figure size 432x288 with 1 Axes>"
            ]
          },
          "metadata": {
            "tags": [],
            "needs_background": "light"
          }
        }
      ]
    },
    {
      "cell_type": "code",
      "metadata": {
        "id": "GDl2zEFLmNxy"
      },
      "source": [
        "from collections import Counter\n",
        "#Counter(\" \".join(df[\"Sentence\"]).split()).most_common(1000)  \n",
        "#NOT FASTER "
      ],
      "execution_count": null,
      "outputs": []
    },
    {
      "cell_type": "code",
      "metadata": {
        "id": "KnzB1K8dmmKw"
      },
      "source": [
        "#pd.Series(' '.join(df['Sentence']).lower().split()).value_counts()[:10000] #faster AND for large amounts of text/rows"
      ],
      "execution_count": null,
      "outputs": []
    },
    {
      "cell_type": "markdown",
      "metadata": {
        "id": "j1dggyKpIQTd"
      },
      "source": [
        "# **Shuffle the data**"
      ]
    },
    {
      "cell_type": "code",
      "metadata": {
        "id": "PhCjppGtIOpa"
      },
      "source": [
        "from sklearn.utils import shuffle\n",
        "df = shuffle(df)"
      ],
      "execution_count": null,
      "outputs": []
    },
    {
      "cell_type": "code",
      "metadata": {
        "colab": {
          "base_uri": "https://localhost:8080/"
        },
        "id": "yYFRSOk5y2Ym",
        "outputId": "b32cf8e9-d983-4dff-fcc3-569eddd52bbe"
      },
      "source": [
        "df.Sentiment.value_counts()"
      ],
      "execution_count": null,
      "outputs": [
        {
          "output_type": "execute_result",
          "data": {
            "text/plain": [
              "9     18558\n",
              "11    11296\n",
              "4     10706\n",
              "5      8951\n",
              "2      8199\n",
              "0      6126\n",
              "7      5036\n",
              "6      3754\n",
              "3      3389\n",
              "10     2810\n",
              "Name: Sentiment, dtype: int64"
            ]
          },
          "metadata": {
            "tags": []
          },
          "execution_count": 33
        }
      ]
    },
    {
      "cell_type": "code",
      "metadata": {
        "papermill": {
          "duration": 0.149615,
          "end_time": "2020-08-29T09:36:26.620833",
          "exception": false,
          "start_time": "2020-08-29T09:36:26.471218",
          "status": "completed"
        },
        "tags": [],
        "trusted": true,
        "id": "g1o7nrismVkn",
        "colab": {
          "base_uri": "https://localhost:8080/"
        },
        "outputId": "e7955f7d-513e-4873-f60a-786f1e22335f"
      },
      "source": [
        "train1, test1 = train_test_split(df,random_state=22, test_size=0.2)\n",
        "training_sentences = []\n",
        "testing_sentences = []\n",
        "\n",
        "\n",
        "\n",
        "\n",
        "train_sentences=train1['Sentence'].values\n",
        "train_labels=train1['Sentiment'].values\n",
        "#for i in range(train_sentences.shape[0]): \n",
        "    #print(train_sentences[i])\n",
        " #   x=str(train_sentences[i])\n",
        " #   training_sentences.append(x)\n",
        "\n",
        " \n",
        "    \n",
        "#training_sentences=np.array(training_sentences)\n",
        "\n",
        "\n",
        "\n",
        "\n",
        "\n",
        "test_sentences=test1['Sentence'].values\n",
        "test_labels=test1['Sentiment'].values\n",
        "#y = pd.get_dummies(data1['Sentiment']).values\n",
        "\n",
        "train_labels=pd.get_dummies(train_labels).values\n",
        "test_labels=pd.get_dummies(test_labels).values\n",
        "\n",
        "\n",
        "print(\"Training Set Length: \"+str(len(train1)))\n",
        "print(\"Testing Set Length: \"+str(len(test1)))\n",
        "print(\"training_sentences shape: \"+str(train_sentences.shape))\n",
        "print(\"testing_sentences shape: \"+str(test_sentences.shape))\n",
        "print(\"train_labels shape: \"+str(train_labels.shape))\n",
        "print(\"test_labels shape: \"+str(test_labels.shape))\n"
      ],
      "execution_count": null,
      "outputs": [
        {
          "output_type": "stream",
          "text": [
            "Training Set Length: 63060\n",
            "Testing Set Length: 15765\n",
            "training_sentences shape: (63060,)\n",
            "testing_sentences shape: (15765,)\n",
            "train_labels shape: (63060, 10)\n",
            "test_labels shape: (15765, 10)\n"
          ],
          "name": "stdout"
        }
      ]
    },
    {
      "cell_type": "code",
      "metadata": {
        "trusted": true,
        "id": "KAY5AQRxmVko",
        "colab": {
          "base_uri": "https://localhost:8080/"
        },
        "outputId": "3832be45-a371-4fe3-f4ad-d5b7121cb6d3"
      },
      "source": [
        "train_labels"
      ],
      "execution_count": null,
      "outputs": [
        {
          "output_type": "execute_result",
          "data": {
            "text/plain": [
              "array([[0, 0, 1, ..., 0, 0, 0],\n",
              "       [0, 0, 0, ..., 0, 0, 0],\n",
              "       [0, 1, 0, ..., 0, 0, 0],\n",
              "       ...,\n",
              "       [0, 0, 0, ..., 1, 0, 0],\n",
              "       [0, 0, 0, ..., 0, 0, 0],\n",
              "       [0, 0, 0, ..., 0, 0, 0]], dtype=uint8)"
            ]
          },
          "metadata": {
            "tags": []
          },
          "execution_count": 35
        }
      ]
    },
    {
      "cell_type": "code",
      "metadata": {
        "trusted": true,
        "id": "qB9iZkNLmVko"
      },
      "source": [
        ""
      ],
      "execution_count": null,
      "outputs": []
    },
    {
      "cell_type": "code",
      "metadata": {
        "papermill": {
          "duration": 0.020899,
          "end_time": "2020-08-29T09:36:26.674467",
          "exception": false,
          "start_time": "2020-08-29T09:36:26.653568",
          "status": "completed"
        },
        "tags": [],
        "trusted": true,
        "id": "hTeWiL_CmVko",
        "colab": {
          "base_uri": "https://localhost:8080/"
        },
        "outputId": "88712ba9-4854-4443-d034-ea3dbfb2a9f6"
      },
      "source": [
        "print(train_sentences[10])\n",
        "print(train_labels[0])"
      ],
      "execution_count": null,
      "outputs": [
        {
          "output_type": "stream",
          "text": [
            "এম মহীউদ্দিন পদোন্নতি গ্রামীণ ব্যাংক উপব্যবস্থাপনা পরিচালক প্রতিষ্ঠান প্রশাসন মহাব্যবস্থাপক সাল গ্রামীণ ব্যাংক প্রকল্প মাঠ ব্যবস্থাপক পদ যোগ মহীউদ্দিন চট্টগ্রাম বিশ্ববিদ্যাল বাংলা ভাষা সাহিত্য সম্মানসহ স্নাতকোত্তর ডিগ্রি অর্জন গ্রামীণ ব্যাংক কর্মসূচি উপস্থাপনসহ অনুষ্ঠান যোগ দেশ সফর বিজ্ঞপ্তি\n",
            "[0 0 1 0 0 0 0 0 0 0]\n"
          ],
          "name": "stdout"
        }
      ]
    },
    {
      "cell_type": "code",
      "metadata": {
        "papermill": {
          "duration": 0.02028,
          "end_time": "2020-08-29T09:36:26.728248",
          "exception": false,
          "start_time": "2020-08-29T09:36:26.707968",
          "status": "completed"
        },
        "tags": [],
        "trusted": true,
        "id": "O8Rw3bFfmVkp"
      },
      "source": [
        "vocab_size = 200000\n",
        "embedding_dim = 300\n",
        "max_length = 4000\n",
        "trunc_type='post'\n",
        "oov_tok = \"<OOV>\""
      ],
      "execution_count": null,
      "outputs": []
    },
    {
      "cell_type": "code",
      "metadata": {
        "papermill": {
          "duration": 0.02122,
          "end_time": "2020-08-29T09:36:26.76056",
          "exception": false,
          "start_time": "2020-08-29T09:36:26.73934",
          "status": "completed"
        },
        "tags": [],
        "trusted": true,
        "id": "816r9qMOmVkp",
        "colab": {
          "base_uri": "https://localhost:8080/"
        },
        "outputId": "c131db6c-9737-40a1-e16c-29db3dfa20b1"
      },
      "source": [
        "print(train_sentences.shape)\n",
        "print(train_labels.shape)"
      ],
      "execution_count": null,
      "outputs": [
        {
          "output_type": "stream",
          "text": [
            "(63060,)\n",
            "(63060, 10)\n"
          ],
          "name": "stdout"
        }
      ]
    },
    {
      "cell_type": "code",
      "metadata": {
        "papermill": {
          "duration": 0.682778,
          "end_time": "2020-08-29T09:36:27.475798",
          "exception": false,
          "start_time": "2020-08-29T09:36:26.79302",
          "status": "completed"
        },
        "tags": [],
        "trusted": true,
        "id": "kieBp_3XmVkp",
        "colab": {
          "base_uri": "https://localhost:8080/"
        },
        "outputId": "01edf1c8-9a2d-4b54-cf1e-3db1a80e1f73"
      },
      "source": [
        "tokenizer = Tokenizer(num_words = vocab_size, oov_token=oov_tok)\n",
        "tokenizer.fit_on_texts(train_sentences)\n",
        "word_index = tokenizer.word_index\n",
        "\n",
        "#451606 words in raw dataset\n",
        "#434245 words in raw dataset after stopwords removal\n",
        "#339313 after stemming \n",
        "\n",
        "print(len(word_index))\n",
        "print(\"Word index length:\"+str(len(tokenizer.word_index)))\n",
        "sequences = tokenizer.texts_to_sequences(train_sentences)\n",
        "padded = pad_sequences(sequences,maxlen=max_length, truncating=trunc_type)\n",
        "\n",
        "\n",
        "test_sequences = tokenizer.texts_to_sequences(test_sentences)\n",
        "testing_padded = pad_sequences(test_sequences,maxlen=max_length)"
      ],
      "execution_count": null,
      "outputs": [
        {
          "output_type": "stream",
          "text": [
            "239719\n",
            "Word index length:239719\n"
          ],
          "name": "stdout"
        }
      ]
    },
    {
      "cell_type": "code",
      "metadata": {
        "papermill": {
          "duration": 0.026912,
          "end_time": "2020-08-29T09:36:27.514109",
          "exception": false,
          "start_time": "2020-08-29T09:36:27.487197",
          "status": "completed"
        },
        "tags": [],
        "trusted": true,
        "id": "LGQVeds7mVkq",
        "colab": {
          "base_uri": "https://localhost:8080/"
        },
        "outputId": "53f72d6b-0b53-4f84-c607-ca65091ba34c"
      },
      "source": [
        "print(\"Sentence :--> \\n\")\n",
        "print(train_sentences[2]+\"\\n\")\n",
        "print(\"Sentence Tokenized and Converted into Sequence :--> \\n\")\n",
        "print(str(sequences[2])+\"\\n\")\n",
        "print(\"After Padding the Sequence with padding length 100 :--> \\n\")\n",
        "print(padded[2])"
      ],
      "execution_count": null,
      "outputs": [
        {
          "output_type": "stream",
          "text": [
            "Sentence :--> \n",
            "\n",
            "রোবব বেলা সোয়া মৈত্রী নার্সি হোম মালিক ডা গৌরাঙ্গ চন্দ্র দাস নার্সিং হোম ওয়ার্ড রাস খুন পুলিশ খানজাহান আলী থান ওসি মো শহীদুল হক জানান রাস ওখানক নার্স প্রেম সম্পর্ক ডা গৌরাঙ্গ কয়েকদিন রাস সম্পর্ক বিরত থাক নির্দেশ ক্ষিপ্ত রাস ধারালো অস্ত্র ডা গৌরাঙ্গ কুপি পা উদ্ধ খুলনা মেডিক কলেজ হাসপাতাল নেয়া কর্তব্যরত চিকিৎসক মৃত লাশ ময়নাতদন্ত হাসপাতাল মর্গ রাস গ্রেপ্ত অভিযান জানান ওসি\n",
            "\n",
            "Sentence Tokenized and Converted into Sequence :--> \n",
            "\n",
            "[91, 234, 1393, 5146, 119344, 3886, 421, 827, 15887, 947, 1452, 8743, 3886, 1487, 1016, 301, 12, 15684, 143, 120, 180, 86, 1832, 97, 6, 1016, 20995, 8744, 1011, 376, 827, 15887, 1982, 1016, 376, 2944, 99, 334, 6286, 1016, 2763, 505, 827, 15887, 1854, 15, 166, 734, 281, 80, 72, 468, 1971, 472, 894, 183, 1666, 72, 1054, 1016, 112, 356, 6, 180]\n",
            "\n",
            "After Padding the Sequence with padding length 100 :--> \n",
            "\n",
            "[  0   0   0 ... 356   6 180]\n"
          ],
          "name": "stdout"
        }
      ]
    },
    {
      "cell_type": "code",
      "metadata": {
        "papermill": {
          "duration": 0.021501,
          "end_time": "2020-08-29T09:36:27.546874",
          "exception": false,
          "start_time": "2020-08-29T09:36:27.525373",
          "status": "completed"
        },
        "tags": [],
        "trusted": true,
        "id": "efVcUj5xmVkr",
        "colab": {
          "base_uri": "https://localhost:8080/"
        },
        "outputId": "251726b9-9fb2-4c95-de79-caa9f5007200"
      },
      "source": [
        "print(\"Padded shape(training): \"+str(padded.shape))\n",
        "print(\"Padded shape(testing): \"+str(testing_padded.shape))"
      ],
      "execution_count": null,
      "outputs": [
        {
          "output_type": "stream",
          "text": [
            "Padded shape(training): (63060, 4000)\n",
            "Padded shape(testing): (15765, 4000)\n"
          ],
          "name": "stdout"
        }
      ]
    },
    {
      "cell_type": "code",
      "metadata": {
        "papermill": {
          "duration": 1.676288,
          "end_time": "2020-08-29T09:36:29.256866",
          "exception": false,
          "start_time": "2020-08-29T09:36:27.580578",
          "status": "completed"
        },
        "tags": [],
        "trusted": true,
        "id": "ct6vLKXdmVks",
        "colab": {
          "base_uri": "https://localhost:8080/"
        },
        "outputId": "a39d7b80-af50-4291-d6fc-4331423bbc62"
      },
      "source": [
        "\n",
        "model= Sequential()\n",
        "model.add(Embedding(vocab_size, embedding_dim, input_length=max_length))\n",
        "model.add(Conv1D(200, kernel_size=3, activation = \"relu\"))\n",
        "model.add(Bidirectional(LSTM(64, return_sequences=True)))\n",
        "model.add(Dropout(0.5))\n",
        "model.add(Bidirectional(LSTM(64)))\n",
        "model.add(Dense(50, activation='relu'))\n",
        "model.add(Dense(50, activation='relu'))\n",
        "model.add(Flatten())\n",
        "#l2 regularizer\n",
        "model.add(Dense(100,kernel_regularizer=regularizers.l2(0.01),activation=\"relu\"))\n",
        "model.add(Dense(10, activation='softmax'))\n",
        "#sgd= SGD(lr=0.0001,decay=1e-6,momentum=0.9,nesterov=True)\n",
        "adam=Adam(learning_rate=0.0005,beta_1=0.9,beta_2=0.999,epsilon=1e-07,amsgrad=False)\n",
        "model.summary()\n",
        "model.compile(loss='categorical_crossentropy',optimizer=adam,metrics=['accuracy'])"
      ],
      "execution_count": null,
      "outputs": [
        {
          "output_type": "stream",
          "text": [
            "Model: \"sequential_1\"\n",
            "_________________________________________________________________\n",
            "Layer (type)                 Output Shape              Param #   \n",
            "=================================================================\n",
            "embedding_1 (Embedding)      (None, 4000, 300)         60000000  \n",
            "_________________________________________________________________\n",
            "conv1d_1 (Conv1D)            (None, 3998, 200)         180200    \n",
            "_________________________________________________________________\n",
            "bidirectional_2 (Bidirection (None, 3998, 128)         135680    \n",
            "_________________________________________________________________\n",
            "dropout_1 (Dropout)          (None, 3998, 128)         0         \n",
            "_________________________________________________________________\n",
            "bidirectional_3 (Bidirection (None, 128)               98816     \n",
            "_________________________________________________________________\n",
            "dense_4 (Dense)              (None, 50)                6450      \n",
            "_________________________________________________________________\n",
            "dense_5 (Dense)              (None, 50)                2550      \n",
            "_________________________________________________________________\n",
            "flatten_1 (Flatten)          (None, 50)                0         \n",
            "_________________________________________________________________\n",
            "dense_6 (Dense)              (None, 100)               5100      \n",
            "_________________________________________________________________\n",
            "dense_7 (Dense)              (None, 10)                1010      \n",
            "=================================================================\n",
            "Total params: 60,429,806\n",
            "Trainable params: 60,429,806\n",
            "Non-trainable params: 0\n",
            "_________________________________________________________________\n"
          ],
          "name": "stdout"
        }
      ]
    },
    {
      "cell_type": "code",
      "metadata": {
        "colab": {
          "base_uri": "https://localhost:8080/"
        },
        "id": "pdZG1dmel3FA",
        "outputId": "0d2b2f2b-9f04-4acf-f3d3-1f36cbc901c5"
      },
      "source": [
        "history=model.fit(padded,train_labels,epochs=5,batch_size=128,validation_data=(testing_padded,test_labels),use_multiprocessing=True, workers=8)"
      ],
      "execution_count": null,
      "outputs": [
        {
          "output_type": "stream",
          "text": [
            "Epoch 1/5\n",
            "493/493 [==============================] - 945s 2s/step - loss: 1.9518 - accuracy: 0.4682 - val_loss: 0.8864 - val_accuracy: 0.7666\n",
            "Epoch 2/5\n",
            "493/493 [==============================] - 898s 2s/step - loss: 0.8040 - accuracy: 0.7859 - val_loss: 0.6916 - val_accuracy: 0.8224\n",
            "Epoch 3/5\n",
            "493/493 [==============================] - 894s 2s/step - loss: 0.5394 - accuracy: 0.8693 - val_loss: 0.5443 - val_accuracy: 0.8643\n",
            "Epoch 4/5\n",
            "493/493 [==============================] - 894s 2s/step - loss: 0.3517 - accuracy: 0.9193 - val_loss: 0.4779 - val_accuracy: 0.8839\n",
            "Epoch 5/5\n",
            "493/493 [==============================] - 896s 2s/step - loss: 0.2460 - accuracy: 0.9464 - val_loss: 0.4892 - val_accuracy: 0.8856\n"
          ],
          "name": "stdout"
        }
      ]
    },
    {
      "cell_type": "code",
      "metadata": {
        "papermill": {
          "duration": 0.496359,
          "end_time": "2020-08-29T09:38:38.037405",
          "exception": false,
          "start_time": "2020-08-29T09:38:37.541046",
          "status": "completed"
        },
        "tags": [],
        "trusted": true,
        "id": "7Kl-J9PsmVkt",
        "colab": {
          "base_uri": "https://localhost:8080/",
          "height": 591
        },
        "outputId": "834ce9e1-0964-4dcc-de90-b2cbe835def0"
      },
      "source": [
        "print(history.history.keys())\n",
        "loss = history.history['loss']\n",
        "val_loss = history.history['val_loss']\n",
        "plt.plot(loss)\n",
        "plt.plot(val_loss)\n",
        "plt.title('model loss')\n",
        "plt.ylabel('loss')\n",
        "plt.xlabel('epoch')\n",
        "plt.legend(['loss', 'val_loss'])\n",
        "plt.show()\n",
        "\n",
        "accuracy = history.history['accuracy']\n",
        "val_accuracy= history.history['val_accuracy']\n",
        "plt.plot(accuracy)\n",
        "plt.plot(val_accuracy)\n",
        "plt.title('model accuracy')\n",
        "plt.ylabel('accuracy')\n",
        "plt.xlabel('epoch')\n",
        "plt.legend(['accuracy', 'val_accuracy'])\n",
        "plt.show()"
      ],
      "execution_count": null,
      "outputs": [
        {
          "output_type": "stream",
          "text": [
            "dict_keys(['loss', 'accuracy', 'val_loss', 'val_accuracy'])\n"
          ],
          "name": "stdout"
        },
        {
          "output_type": "display_data",
          "data": {
            "image/png": "[encoded data removed]",
            "text/plain": [
              "<Figure size 432x288 with 1 Axes>"
            ]
          },
          "metadata": {
            "tags": [],
            "needs_background": "light"
          }
        },
        {
          "output_type": "display_data",
          "data": {
            "image/png": "[encoded data removed]",
            "text/plain": [
              "<Figure size 432x288 with 1 Axes>"
            ]
          },
          "metadata": {
            "tags": [],
            "needs_background": "light"
          }
        }
      ]
    },
    {
      "cell_type": "code",
      "metadata": {
        "papermill": {
          "duration": 7.718225,
          "end_time": "2020-08-29T09:38:45.824208",
          "exception": false,
          "start_time": "2020-08-29T09:38:38.105983",
          "status": "completed"
        },
        "tags": [],
        "trusted": true,
        "id": "wSL8OLbUmVku",
        "colab": {
          "base_uri": "https://localhost:8080/"
        },
        "outputId": "442b500a-8327-4c81-93f0-b0a2586acf77"
      },
      "source": [
        "#accuracy calculation\n",
        "loss_and_metrics = model.evaluate(padded,train_labels,batch_size=128)\n",
        "print(\"The train accuracy is: \"+str(loss_and_metrics[1]))\n",
        "loss_and_metrics = model.evaluate(testing_padded,test_labels,batch_size=128)\n",
        "print(\"The test accuracy is: \"+str(loss_and_metrics[1]))"
      ],
      "execution_count": null,
      "outputs": [
        {
          "output_type": "stream",
          "text": [
            "493/493 [==============================] - 241s 488ms/step - loss: 0.1656 - accuracy: 0.9666\n",
            "The train accuracy is: 0.966619074344635\n",
            "124/124 [==============================] - 60s 485ms/step - loss: 0.4892 - accuracy: 0.8856\n",
            "The test accuracy is: 0.8856327533721924\n"
          ],
          "name": "stdout"
        }
      ]
    },
    {
      "cell_type": "code",
      "metadata": {
        "papermill": {
          "duration": 0.020894,
          "end_time": "2020-08-29T09:38:45.908871",
          "exception": false,
          "start_time": "2020-08-29T09:38:45.887977",
          "status": "completed"
        },
        "tags": [],
        "id": "7HFnbSGUmVku"
      },
      "source": [
        "predictions = model.predict(testing_padded)\n",
        "pred1 = np.argmax(predictions , axis=1)"
      ],
      "execution_count": null,
      "outputs": []
    },
    {
      "cell_type": "code",
      "metadata": {
        "colab": {
          "base_uri": "https://localhost:8080/"
        },
        "id": "NqM31EXnXpy9",
        "outputId": "c23412ee-67f3-46f5-cd1c-2eeb205fb6f1"
      },
      "source": [
        "%%time\n",
        "score = model.evaluate(testing_padded, test_labels , batch_size = 128)\n",
        "print()\n",
        "\n",
        "print(\"ACCURACY:\",score[1])\n",
        "print(\"LOSS:\",score[0])"
      ],
      "execution_count": null,
      "outputs": [
        {
          "output_type": "stream",
          "text": [
            "124/124 [==============================] - 61s 487ms/step - loss: 0.4892 - accuracy: 0.8856\n",
            "\n",
            "ACCURACY: 0.8856327533721924\n",
            "LOSS: 0.48921188712120056\n",
            "CPU times: user 52.9 s, sys: 8.63 s, total: 1min 1s\n",
            "Wall time: 1min 21s\n"
          ],
          "name": "stdout"
        }
      ]
    },
    {
      "cell_type": "code",
      "metadata": {
        "id": "EeOkUcpyZyjC"
      },
      "source": [
        "from sklearn.metrics import confusion_matrix, classification_report, accuracy_score"
      ],
      "execution_count": null,
      "outputs": []
    },
    {
      "cell_type": "code",
      "metadata": {
        "id": "rKN57VdYaEOo"
      },
      "source": [
        "test_labels = np.argmax(test_labels,axis=1)"
      ],
      "execution_count": null,
      "outputs": []
    },
    {
      "cell_type": "code",
      "metadata": {
        "colab": {
          "base_uri": "https://localhost:8080/"
        },
        "id": "1vhbFScwYAm6",
        "outputId": "64e7e4e1-5912-444c-d1af-4708d80a2104"
      },
      "source": [
        "print(confusion_matrix(test_labels , pred1 ,normalize=None))"
      ],
      "execution_count": null,
      "outputs": [
        {
          "output_type": "stream",
          "text": [
            "[[1062   48    0   11    2    6    8   13    5    8]\n",
            " [  21 1442    2   23   10   19   36  105    4    4]\n",
            " [   0    1  568    4    1   20   42   47    4    1]\n",
            " [  10   14    3 1949   29   30    4   95    5   16]\n",
            " [   1   11    4   45 1608   41    8   19   34   14]\n",
            " [  11   40    8   48   15  487   25  103    5    5]\n",
            " [   6   36   15    5   10   20  852   19   16   18]\n",
            " [  19   69   36   91   14   32   22 3487    2   10]\n",
            " [  10    4    5    5   25   17   59    4  407    6]\n",
            " [  35    5    1   27   26    7    7   19   13 2100]]\n"
          ],
          "name": "stdout"
        }
      ]
    },
    {
      "cell_type": "code",
      "metadata": {
        "colab": {
          "base_uri": "https://localhost:8080/"
        },
        "id": "GL1VKns_Zbc4",
        "outputId": "313ffdae-bb3d-4f40-ed1d-1c2560fa74da"
      },
      "source": [
        "print(classification_report(test_labels , pred1))"
      ],
      "execution_count": null,
      "outputs": [
        {
          "output_type": "stream",
          "text": [
            "              precision    recall  f1-score   support\n",
            "\n",
            "           0       0.90      0.91      0.91      1163\n",
            "           1       0.86      0.87      0.86      1666\n",
            "           2       0.88      0.83      0.85       688\n",
            "           3       0.88      0.90      0.89      2155\n",
            "           4       0.92      0.90      0.91      1785\n",
            "           5       0.72      0.65      0.68       747\n",
            "           6       0.80      0.85      0.83       997\n",
            "           7       0.89      0.92      0.91      3782\n",
            "           8       0.82      0.75      0.78       542\n",
            "           9       0.96      0.94      0.95      2240\n",
            "\n",
            "    accuracy                           0.89     15765\n",
            "   macro avg       0.87      0.85      0.86     15765\n",
            "weighted avg       0.89      0.89      0.89     15765\n",
            "\n"
          ],
          "name": "stdout"
        }
      ]
    },
    {
      "cell_type": "code",
      "metadata": {
        "colab": {
          "base_uri": "https://localhost:8080/"
        },
        "id": "P6648lmjZixZ",
        "outputId": "a0bcf32e-8cd7-490b-ee0f-73c83c498e4b"
      },
      "source": [
        "accuracy_score(test_labels , pred1)"
      ],
      "execution_count": null,
      "outputs": [
        {
          "output_type": "execute_result",
          "data": {
            "text/plain": [
              "0.8856327307326356"
            ]
          },
          "metadata": {
            "tags": []
          },
          "execution_count": 54
        }
      ]
    },
    {
      "cell_type": "code",
      "metadata": {
        "id": "qBuhpZwkUWGq"
      },
      "source": [
        ""
      ],
      "execution_count": null,
      "outputs": []
    }
  ]
}